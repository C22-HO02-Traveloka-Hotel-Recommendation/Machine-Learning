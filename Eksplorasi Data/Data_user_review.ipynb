{
  "nbformat": 4,
  "nbformat_minor": 0,
  "metadata": {
    "colab": {
      "name": "Data user review.ipynb",
      "provenance": []
    },
    "kernelspec": {
      "name": "python3",
      "display_name": "Python 3"
    },
    "language_info": {
      "name": "python"
    }
  },
  "cells": [
    {
      "cell_type": "code",
      "source": [
        "!pip install surprise"
      ],
      "metadata": {
        "id": "ghpvdBSGSnNE"
      },
      "execution_count": null,
      "outputs": []
    },
    {
      "cell_type": "code",
      "execution_count": 2,
      "metadata": {
        "id": "jHq-cqxkcSh-"
      },
      "outputs": [],
      "source": [
        "from datetime import datetime\n",
        "import pandas as pd\n",
        "import numpy as np\n",
        "import seaborn as sns\n",
        "import os\n",
        "import random\n",
        "import matplotlib\n",
        "import matplotlib.pyplot as plt"
      ]
    },
    {
      "cell_type": "code",
      "source": [
        "from scipy import sparse\n",
        "from sklearn.metrics.pairwise import cosine_similarity\n",
        "from sklearn.metrics import mean_squared_error \n",
        "import xgboost as xgb\n",
        "from surprise import Reader, Dataset\n",
        "from surprise import BaselineOnly\n",
        "from surprise import KNNBaseline\n",
        "from surprise import SVD\n",
        "from surprise import SVDpp\n",
        "from surprise.model_selection import GridSearchCV"
      ],
      "metadata": {
        "id": "GxzvAv7aRmxe"
      },
      "execution_count": 3,
      "outputs": []
    },
    {
      "cell_type": "code",
      "source": [
        "#Load datafiniti hotel reviews dataset\n",
        "dataset = pd.read_csv('/Datafiniti_Hotel_Reviews_Jun19.csv')\n",
        "dataset"
      ],
      "metadata": {
        "id": "ro7GGM7FNwXW"
      },
      "execution_count": null,
      "outputs": []
    },
    {
      "cell_type": "code",
      "source": [
        "#change column name\n",
        "dataset.rename(columns = {'reviews.username':'username', 'reviews.rating':'rating'}, inplace = True)\n",
        "dataset"
      ],
      "metadata": {
        "id": "LwRcPpOHwiNT"
      },
      "execution_count": null,
      "outputs": []
    },
    {
      "cell_type": "code",
      "source": [
        "#hotel id as numbers\n",
        "temp = []\n",
        "hotel_id = []\n",
        "i = 0\n",
        "for hotel in dataset.id:\n",
        "  if hotel not in temp:\n",
        "    temp.append(hotel)\n",
        "    hotel_id.append(i+1)\n",
        "    i += 1\n",
        "  else:\n",
        "    hotel_id.append(i)\n",
        "\n",
        "dataset['hotel_id'] = hotel_id\n",
        "dataset.head(6)"
      ],
      "metadata": {
        "id": "jn_e_31ntN-g"
      },
      "execution_count": null,
      "outputs": []
    },
    {
      "cell_type": "code",
      "source": [
        "#username as numbers\n",
        "temp = []\n",
        "user_id = []\n",
        "i = 0\n",
        "for user in dataset.username:\n",
        "  if user not in temp:\n",
        "    temp.append(user)\n",
        "    user_id.append(i+1)\n",
        "    i += 1\n",
        "  else:\n",
        "    user_id.append(i)\n",
        "\n",
        "dataset['user_id'] = user_id\n",
        "dataset.head(6)"
      ],
      "metadata": {
        "id": "HAFGFFbjwaEB"
      },
      "execution_count": null,
      "outputs": []
    },
    {
      "cell_type": "code",
      "source": [
        "# Take data columns hotel_id, review_username, and reviews_rating and sorting it by username\n",
        "user_rating = pd.DataFrame(dataset, columns=['id','hotel_id','username','user_id', 'rating'])\n",
        "user_rating\n"
      ],
      "metadata": {
        "id": "xmOXYTnDOP0R"
      },
      "execution_count": null,
      "outputs": []
    },
    {
      "cell_type": "code",
      "source": [
        "# Drop duplicate data id_hotel based on user_rating data\n",
        "hotel_unique = user_rating.drop_duplicates(subset=['hotel_id'], keep='first')\n",
        "hotel_unique"
      ],
      "metadata": {
        "id": "_hOzLiN5PGfv"
      },
      "execution_count": null,
      "outputs": []
    },
    {
      "cell_type": "code",
      "source": [
        "#split to train and test data\n",
        "split_value = int(len(user_rating) * 0.80)\n",
        "train_data = user_rating[:split_value]\n",
        "test_data = user_rating[split_value:]"
      ],
      "metadata": {
        "id": "IQqQrWqUYxEq"
      },
      "execution_count": 11,
      "outputs": []
    },
    {
      "cell_type": "code",
      "source": [
        "#count number of rating in train set data\n",
        "plt.figure(figsize = (12, 8))\n",
        "ax = sns.countplot(x=\"rating\", data=train_data)\n",
        "ax.set_yticklabels([num for num in ax.get_yticks()])\n",
        "plt.tick_params(labelsize = 15)\n",
        "plt.title(\"Count Ratings in train data\", fontsize = 20)\n",
        "plt.xlabel(\"Ratings\", fontsize = 20)\n",
        "plt.ylabel(\"Number of Ratings\", fontsize = 20)\n",
        "plt.show()"
      ],
      "metadata": {
        "id": "Kj9GAfJCZCIp"
      },
      "execution_count": null,
      "outputs": []
    },
    {
      "cell_type": "code",
      "source": [
        "#number of rated hotel per user\n",
        "no_rated_hotel_per_user = train_data.groupby(by = \"user_id\")[\"rating\"].count().sort_values(ascending = False)\n",
        "no_rated_hotel_per_user.head()"
      ],
      "metadata": {
        "id": "W4_FlKt7ZQxP"
      },
      "execution_count": null,
      "outputs": []
    },
    {
      "cell_type": "code",
      "source": [
        "#rating number per hotel\n",
        "no_ratings_per_hotel = train_data.groupby(by = \"hotel_id\")[\"rating\"].count().sort_values(ascending = False)\n",
        "no_ratings_per_hotel.head()"
      ],
      "metadata": {
        "id": "kLiM5V4rZiRA"
      },
      "execution_count": null,
      "outputs": []
    },
    {
      "cell_type": "code",
      "source": [
        "\n",
        "def get_user_item_sparse_matrix(df):\n",
        "    sparse_data = sparse.csr_matrix((df.rating, (df.user_id, df.hotel_id)))\n",
        "    return sparse_data"
      ],
      "metadata": {
        "id": "ldh2ARjYZrjF"
      },
      "execution_count": 21,
      "outputs": []
    },
    {
      "cell_type": "code",
      "source": [
        "train_sparse_data = get_user_item_sparse_matrix(train_data)"
      ],
      "metadata": {
        "id": "hC8LJjxkaCav"
      },
      "execution_count": 22,
      "outputs": []
    },
    {
      "cell_type": "code",
      "source": [
        "test_sparse_data = get_user_item_sparse_matrix(test_data)"
      ],
      "metadata": {
        "id": "gNwLIg-ZfkLD"
      },
      "execution_count": 23,
      "outputs": []
    },
    {
      "cell_type": "code",
      "source": [
        "global_average_rating = train_sparse_data.sum()/train_sparse_data.count_nonzero()\n",
        "print(\"Global Average Rating: {}\".format(global_average_rating))"
      ],
      "metadata": {
        "id": "TBU_AGN2folo"
      },
      "execution_count": null,
      "outputs": []
    },
    {
      "cell_type": "code",
      "source": [
        "def get_average_rating(sparse_matrix, is_user):\n",
        "    ax = 1 if is_user else 0\n",
        "    sum_of_ratings = sparse_matrix.sum(axis = ax).A1  \n",
        "    no_of_ratings = (sparse_matrix != 0).sum(axis = ax).A1 \n",
        "    rows, cols = sparse_matrix.shape\n",
        "    average_ratings = {i: sum_of_ratings[i]/no_of_ratings[i] for i in range(rows if is_user else cols) if no_of_ratings[i] != 0}\n",
        "    return average_ratings"
      ],
      "metadata": {
        "id": "QuXW381Lfsiu"
      },
      "execution_count": 25,
      "outputs": []
    },
    {
      "cell_type": "code",
      "source": [
        "average_rating_user = get_average_rating(train_sparse_data, True)"
      ],
      "metadata": {
        "id": "3xxTTRfWfyFv"
      },
      "execution_count": 26,
      "outputs": []
    },
    {
      "cell_type": "code",
      "source": [
        "avg_rating_hotel = get_average_rating(train_sparse_data, False)"
      ],
      "metadata": {
        "id": "CuNFswlHfzab"
      },
      "execution_count": 30,
      "outputs": []
    },
    {
      "cell_type": "code",
      "source": [
        "total_users = len(np.unique(user_rating[\"user_id\"]))\n",
        "train_users = len(average_rating_user)\n",
        "uncommonUsers = total_users - train_users\n",
        "                  \n",
        "print(\"Total no. of Users = {}\".format(total_users))\n",
        "print(\"No. of Users in train data= {}\".format(train_users))\n",
        "print(\"No. of Users not present in train data = {}({}%)\".format(uncommonUsers, np.round((uncommonUsers/total_users)*100), 2))"
      ],
      "metadata": {
        "id": "xQ8hsVJxf2Gf"
      },
      "execution_count": null,
      "outputs": []
    },
    {
      "cell_type": "code",
      "source": [
        "total_hotel = len(np.unique(user_rating[\"hotel_id\"]))\n",
        "train_hotel = len(avg_rating_hotel)\n",
        "uncommonHotels = total_hotel - train_hotel\n",
        "                  \n",
        "print(\"Total no. of hotels = {}\".format(total_hotel))\n",
        "print(\"No. of hotels in train data= {}\".format(train_hotel))\n",
        "print(\"No. of hotes not present in train data = {}({}%)\".format(uncommonHotels, np.round((uncommonHotels/total_hotel)*100), 2))"
      ],
      "metadata": {
        "id": "FA7oPoQi2AzW"
      },
      "execution_count": null,
      "outputs": []
    },
    {
      "cell_type": "code",
      "source": [
        "hotel_data = pd.DataFrame(dataset, columns=['hotel_id','rating','id'])\n",
        "hotel_data"
      ],
      "metadata": {
        "id": "oo-J-3ux30wF"
      },
      "execution_count": null,
      "outputs": []
    },
    {
      "cell_type": "code",
      "source": [
        "def compute_user_similarity(sparse_matrix, limit=100):\n",
        "    row_index, col_index = sparse_matrix.nonzero()\n",
        "    rows = np.unique(row_index)\n",
        "    similar_arr = np.zeros(61700).reshape(617,100)\n",
        "    \n",
        "    for row in rows[:limit]:\n",
        "        sim = cosine_similarity(sparse_matrix.getrow(row), train_sparse_data).ravel()\n",
        "        similar_indices = sim.argsort()[-limit:]\n",
        "        similar = sim[similar_indices]\n",
        "        similar_arr[row] = similar\n",
        "    \n",
        "    return similar_arr\n",
        "similar_user_matrix  = compute_user_similarity(train_sparse_data, 100)"
      ],
      "metadata": {
        "id": "fDiEZsn_2vN3"
      },
      "execution_count": 44,
      "outputs": []
    },
    {
      "cell_type": "code",
      "source": [
        "def compute_hotel_similarity_count(sparse_matrix, hotel_data, hotel_id):\n",
        "    similarity = cosine_similarity(sparse_matrix.T, dense_output = False)\n",
        "    no_of_similar_hotels = hotel_data.loc[hotel_id][1], similarity[hotel_id].count_nonzero()\n",
        "    return no_of_similar_hotels"
      ],
      "metadata": {
        "id": "BrbwgzKS3L7S"
      },
      "execution_count": 45,
      "outputs": []
    },
    {
      "cell_type": "code",
      "source": [
        "similar_hotels = compute_hotel_similarity_count(train_sparse_data, hotel_data, 25)\n",
        "print(\"Similar Hotels = {}\".format(similar_hotels))"
      ],
      "metadata": {
        "id": "xR8f6Fz83gD8"
      },
      "execution_count": null,
      "outputs": []
    }
  ]
}