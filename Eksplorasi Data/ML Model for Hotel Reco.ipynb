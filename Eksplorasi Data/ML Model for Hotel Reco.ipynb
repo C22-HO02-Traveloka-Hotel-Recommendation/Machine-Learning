{
 "cells": [
  {
   "cell_type": "markdown",
   "id": "hazardous-improvement",
   "metadata": {},
   "source": [
    "# Hotel Recommendation System using Keras"
   ]
  },
  {
   "cell_type": "code",
   "execution_count": 2,
   "metadata": {},
   "outputs": [
    {
     "name": "stdout",
     "output_type": "stream",
     "text": [
      "Requirement already satisfied: tensorflow in /Applications/anaconda3/lib/python3.8/site-packages (2.9.1)\n",
      "Requirement already satisfied: termcolor>=1.1.0 in /Applications/anaconda3/lib/python3.8/site-packages (from tensorflow) (1.1.0)\n",
      "Requirement already satisfied: packaging in /Applications/anaconda3/lib/python3.8/site-packages (from tensorflow) (20.4)\n",
      "Requirement already satisfied: tensorboard<2.10,>=2.9 in /Applications/anaconda3/lib/python3.8/site-packages (from tensorflow) (2.9.0)\n",
      "Requirement already satisfied: h5py>=2.9.0 in /Applications/anaconda3/lib/python3.8/site-packages (from tensorflow) (2.10.0)\n",
      "Requirement already satisfied: absl-py>=1.0.0 in /Applications/anaconda3/lib/python3.8/site-packages (from tensorflow) (1.0.0)\n",
      "Requirement already satisfied: six>=1.12.0 in /Applications/anaconda3/lib/python3.8/site-packages (from tensorflow) (1.15.0)\n",
      "Requirement already satisfied: tensorflow-io-gcs-filesystem>=0.23.1 in /Applications/anaconda3/lib/python3.8/site-packages (from tensorflow) (0.26.0)\n",
      "Requirement already satisfied: typing-extensions>=3.6.6 in /Applications/anaconda3/lib/python3.8/site-packages (from tensorflow) (3.7.4.3)\n",
      "Requirement already satisfied: grpcio<2.0,>=1.24.3 in /Applications/anaconda3/lib/python3.8/site-packages (from tensorflow) (1.46.3)\n",
      "Requirement already satisfied: keras<2.10.0,>=2.9.0rc0 in /Applications/anaconda3/lib/python3.8/site-packages (from tensorflow) (2.9.0)\n",
      "Requirement already satisfied: opt-einsum>=2.3.2 in /Applications/anaconda3/lib/python3.8/site-packages (from tensorflow) (3.3.0)\n",
      "Requirement already satisfied: setuptools in /Applications/anaconda3/lib/python3.8/site-packages (from tensorflow) (50.3.1.post20201107)\n",
      "Requirement already satisfied: gast<=0.4.0,>=0.2.1 in /Applications/anaconda3/lib/python3.8/site-packages (from tensorflow) (0.4.0)\n",
      "Requirement already satisfied: protobuf<3.20,>=3.9.2 in /Applications/anaconda3/lib/python3.8/site-packages (from tensorflow) (3.19.4)\n",
      "Requirement already satisfied: tensorflow-estimator<2.10.0,>=2.9.0rc0 in /Applications/anaconda3/lib/python3.8/site-packages (from tensorflow) (2.9.0)\n",
      "Requirement already satisfied: astunparse>=1.6.0 in /Applications/anaconda3/lib/python3.8/site-packages (from tensorflow) (1.6.3)\n",
      "Requirement already satisfied: numpy>=1.20 in /Applications/anaconda3/lib/python3.8/site-packages (from tensorflow) (1.22.4)\n",
      "Requirement already satisfied: flatbuffers<2,>=1.12 in /Applications/anaconda3/lib/python3.8/site-packages (from tensorflow) (1.12)\n",
      "Requirement already satisfied: wrapt>=1.11.0 in /Applications/anaconda3/lib/python3.8/site-packages (from tensorflow) (1.11.2)\n",
      "Requirement already satisfied: libclang>=13.0.0 in /Applications/anaconda3/lib/python3.8/site-packages (from tensorflow) (14.0.1)\n",
      "Requirement already satisfied: google-pasta>=0.1.1 in /Applications/anaconda3/lib/python3.8/site-packages (from tensorflow) (0.2.0)\n",
      "Requirement already satisfied: keras-preprocessing>=1.1.1 in /Applications/anaconda3/lib/python3.8/site-packages (from tensorflow) (1.1.2)\n",
      "Requirement already satisfied: pyparsing>=2.0.2 in /Applications/anaconda3/lib/python3.8/site-packages (from packaging->tensorflow) (2.4.7)\n",
      "Requirement already satisfied: tensorboard-plugin-wit>=1.6.0 in /Applications/anaconda3/lib/python3.8/site-packages (from tensorboard<2.10,>=2.9->tensorflow) (1.8.1)\n",
      "Requirement already satisfied: requests<3,>=2.21.0 in /Applications/anaconda3/lib/python3.8/site-packages (from tensorboard<2.10,>=2.9->tensorflow) (2.24.0)\n",
      "Requirement already satisfied: google-auth<3,>=1.6.3 in /Applications/anaconda3/lib/python3.8/site-packages (from tensorboard<2.10,>=2.9->tensorflow) (2.6.6)\n",
      "Requirement already satisfied: wheel>=0.26 in /Applications/anaconda3/lib/python3.8/site-packages (from tensorboard<2.10,>=2.9->tensorflow) (0.35.1)\n",
      "Requirement already satisfied: werkzeug>=1.0.1 in /Applications/anaconda3/lib/python3.8/site-packages (from tensorboard<2.10,>=2.9->tensorflow) (1.0.1)\n",
      "Requirement already satisfied: tensorboard-data-server<0.7.0,>=0.6.0 in /Applications/anaconda3/lib/python3.8/site-packages (from tensorboard<2.10,>=2.9->tensorflow) (0.6.1)\n",
      "Requirement already satisfied: google-auth-oauthlib<0.5,>=0.4.1 in /Applications/anaconda3/lib/python3.8/site-packages (from tensorboard<2.10,>=2.9->tensorflow) (0.4.6)\n",
      "Requirement already satisfied: markdown>=2.6.8 in /Applications/anaconda3/lib/python3.8/site-packages (from tensorboard<2.10,>=2.9->tensorflow) (3.3.7)\n",
      "Requirement already satisfied: idna<3,>=2.5 in /Applications/anaconda3/lib/python3.8/site-packages (from requests<3,>=2.21.0->tensorboard<2.10,>=2.9->tensorflow) (2.10)\n",
      "Requirement already satisfied: urllib3!=1.25.0,!=1.25.1,<1.26,>=1.21.1 in /Applications/anaconda3/lib/python3.8/site-packages (from requests<3,>=2.21.0->tensorboard<2.10,>=2.9->tensorflow) (1.25.11)\n",
      "Requirement already satisfied: certifi>=2017.4.17 in /Applications/anaconda3/lib/python3.8/site-packages (from requests<3,>=2.21.0->tensorboard<2.10,>=2.9->tensorflow) (2020.6.20)\n",
      "Requirement already satisfied: chardet<4,>=3.0.2 in /Applications/anaconda3/lib/python3.8/site-packages (from requests<3,>=2.21.0->tensorboard<2.10,>=2.9->tensorflow) (3.0.4)\n",
      "Requirement already satisfied: cachetools<6.0,>=2.0.0 in /Applications/anaconda3/lib/python3.8/site-packages (from google-auth<3,>=1.6.3->tensorboard<2.10,>=2.9->tensorflow) (5.2.0)\n",
      "Requirement already satisfied: pyasn1-modules>=0.2.1 in /Applications/anaconda3/lib/python3.8/site-packages (from google-auth<3,>=1.6.3->tensorboard<2.10,>=2.9->tensorflow) (0.2.8)\n",
      "Requirement already satisfied: rsa<5,>=3.1.4; python_version >= \"3.6\" in /Applications/anaconda3/lib/python3.8/site-packages (from google-auth<3,>=1.6.3->tensorboard<2.10,>=2.9->tensorflow) (4.8)\n",
      "Requirement already satisfied: requests-oauthlib>=0.7.0 in /Applications/anaconda3/lib/python3.8/site-packages (from google-auth-oauthlib<0.5,>=0.4.1->tensorboard<2.10,>=2.9->tensorflow) (1.3.1)\n",
      "Requirement already satisfied: importlib-metadata>=4.4; python_version < \"3.10\" in /Applications/anaconda3/lib/python3.8/site-packages (from markdown>=2.6.8->tensorboard<2.10,>=2.9->tensorflow) (4.11.4)\n",
      "Requirement already satisfied: pyasn1<0.5.0,>=0.4.6 in /Applications/anaconda3/lib/python3.8/site-packages (from pyasn1-modules>=0.2.1->google-auth<3,>=1.6.3->tensorboard<2.10,>=2.9->tensorflow) (0.4.8)\n",
      "Requirement already satisfied: oauthlib>=3.0.0 in /Applications/anaconda3/lib/python3.8/site-packages (from requests-oauthlib>=0.7.0->google-auth-oauthlib<0.5,>=0.4.1->tensorboard<2.10,>=2.9->tensorflow) (3.2.0)\n",
      "Requirement already satisfied: zipp>=0.5 in /Applications/anaconda3/lib/python3.8/site-packages (from importlib-metadata>=4.4; python_version < \"3.10\"->markdown>=2.6.8->tensorboard<2.10,>=2.9->tensorflow) (3.4.0)\n"
     ]
    }
   ],
   "source": [
    "!pip install tensorflow"
   ]
  },
  {
   "cell_type": "code",
   "execution_count": 7,
   "id": "challenging-immigration",
   "metadata": {},
   "outputs": [],
   "source": [
    "import numpy as np\n",
    "import pandas as pd\n",
    "import matplotlib.pyplot as plt\n",
    "import os\n",
    "import warnings\n",
    "import tensorflow\n",
    "from keras import backend as K\n",
    "\n",
    "from keras.layers import Embedding, Flatten, Concatenate\n",
    "from keras.models import Model\n",
    "from keras.layers import Dense\n",
    "from keras.layers import Input, Reshape, Dot\n",
    "from keras.optimizers import Adam\n",
    "from keras.regularizers import l2\n",
    "\n",
    "from sklearn.model_selection import train_test_split\n",
    "from sklearn.preprocessing import LabelEncoder\n",
    "\n",
    "warnings.filterwarnings('ignore')\n",
    "%matplotlib inline"
   ]
  },
  {
   "cell_type": "code",
   "execution_count": 9,
   "id": "spatial-watts",
   "metadata": {},
   "outputs": [],
   "source": [
    "hotel_train_data = pd.read_csv(\"/Users/lufthikautsar/Downloads/buat TVLK/Hotel_Recomendation_Model_Traveloka/Eksplorasi Data/Eksperimen/for_training_user.csv\", sep=',')"
   ]
  },
  {
   "cell_type": "code",
   "execution_count": 10,
   "id": "published-beads",
   "metadata": {},
   "outputs": [
    {
     "data": {
      "text/html": [
       "<div>\n",
       "<style scoped>\n",
       "    .dataframe tbody tr th:only-of-type {\n",
       "        vertical-align: middle;\n",
       "    }\n",
       "\n",
       "    .dataframe tbody tr th {\n",
       "        vertical-align: top;\n",
       "    }\n",
       "\n",
       "    .dataframe thead th {\n",
       "        text-align: right;\n",
       "    }\n",
       "</style>\n",
       "<table border=\"1\" class=\"dataframe\">\n",
       "  <thead>\n",
       "    <tr style=\"text-align: right;\">\n",
       "      <th></th>\n",
       "      <th>Unnamed: 0</th>\n",
       "      <th>user_id</th>\n",
       "      <th>property_id</th>\n",
       "      <th>hotel_star_rating</th>\n",
       "      <th>site_review_rating</th>\n",
       "      <th>Bike on Rent</th>\n",
       "      <th>Cook Services</th>\n",
       "      <th>Drivers Rest Room</th>\n",
       "      <th>24 Hour Front Desk</th>\n",
       "      <th>ATM / Banking</th>\n",
       "      <th>...</th>\n",
       "      <th>Children's Park</th>\n",
       "      <th>City Shuttle Service</th>\n",
       "      <th>Clubhouse</th>\n",
       "      <th>Coffee Shop / Cafe</th>\n",
       "      <th>Computer Rental</th>\n",
       "      <th>Concierge</th>\n",
       "      <th>Conference Facility</th>\n",
       "      <th>Conference Facility</th>\n",
       "      <th>Courier Service</th>\n",
       "      <th>Courtesy Coach</th>\n",
       "    </tr>\n",
       "  </thead>\n",
       "  <tbody>\n",
       "    <tr>\n",
       "      <th>0</th>\n",
       "      <td>0</td>\n",
       "      <td>U000001</td>\n",
       "      <td>H000021</td>\n",
       "      <td>0.2</td>\n",
       "      <td>0.000</td>\n",
       "      <td>0.0</td>\n",
       "      <td>0.0</td>\n",
       "      <td>0.0</td>\n",
       "      <td>0.0</td>\n",
       "      <td>0.0</td>\n",
       "      <td>...</td>\n",
       "      <td>0.0</td>\n",
       "      <td>0.0</td>\n",
       "      <td>0.0</td>\n",
       "      <td>0.0</td>\n",
       "      <td>0.0</td>\n",
       "      <td>0.0</td>\n",
       "      <td>0.0</td>\n",
       "      <td>0.0</td>\n",
       "      <td>0.0</td>\n",
       "      <td>0.0</td>\n",
       "    </tr>\n",
       "    <tr>\n",
       "      <th>1</th>\n",
       "      <td>1</td>\n",
       "      <td>U000002</td>\n",
       "      <td>H001054</td>\n",
       "      <td>0.6</td>\n",
       "      <td>0.375</td>\n",
       "      <td>0.0</td>\n",
       "      <td>0.0</td>\n",
       "      <td>0.0</td>\n",
       "      <td>0.0</td>\n",
       "      <td>0.0</td>\n",
       "      <td>...</td>\n",
       "      <td>0.0</td>\n",
       "      <td>0.0</td>\n",
       "      <td>0.0</td>\n",
       "      <td>0.0</td>\n",
       "      <td>0.0</td>\n",
       "      <td>0.0</td>\n",
       "      <td>0.0</td>\n",
       "      <td>0.0</td>\n",
       "      <td>0.0</td>\n",
       "      <td>0.0</td>\n",
       "    </tr>\n",
       "  </tbody>\n",
       "</table>\n",
       "<p>2 rows × 53 columns</p>\n",
       "</div>"
      ],
      "text/plain": [
       "   Unnamed: 0  user_id property_id  hotel_star_rating  site_review_rating  \\\n",
       "0           0  U000001     H000021                0.2               0.000   \n",
       "1           1  U000002     H001054                0.6               0.375   \n",
       "\n",
       "    Bike on Rent   Cook Services   Drivers Rest Room  24 Hour Front Desk  \\\n",
       "0            0.0             0.0                 0.0                 0.0   \n",
       "1            0.0             0.0                 0.0                 0.0   \n",
       "\n",
       "   ATM / Banking  ...  Children's Park  City Shuttle Service  Clubhouse  \\\n",
       "0            0.0  ...              0.0                   0.0        0.0   \n",
       "1            0.0  ...              0.0                   0.0        0.0   \n",
       "\n",
       "   Coffee Shop / Cafe  Computer Rental  Concierge  Conference Facility  \\\n",
       "0                 0.0              0.0        0.0                  0.0   \n",
       "1                 0.0              0.0        0.0                  0.0   \n",
       "\n",
       "   Conference Facility   Courier Service  Courtesy Coach  \n",
       "0                   0.0              0.0             0.0  \n",
       "1                   0.0              0.0             0.0  \n",
       "\n",
       "[2 rows x 53 columns]"
      ]
     },
     "execution_count": 10,
     "metadata": {},
     "output_type": "execute_result"
    }
   ],
   "source": [
    "hotel_train_data.head(2)"
   ]
  },
  {
   "cell_type": "markdown",
   "id": "sexual-startup",
   "metadata": {},
   "source": [
    "# Data Pre-processing"
   ]
  },
  {
   "cell_type": "code",
   "execution_count": 11,
   "id": "protected-furniture",
   "metadata": {},
   "outputs": [],
   "source": [
    "df = hotel_train_data[['user_id','property_id','hotel_star_rating']]"
   ]
  },
  {
   "cell_type": "code",
   "execution_count": 12,
   "id": "infectious-living",
   "metadata": {},
   "outputs": [
    {
     "data": {
      "text/html": [
       "<div>\n",
       "<style scoped>\n",
       "    .dataframe tbody tr th:only-of-type {\n",
       "        vertical-align: middle;\n",
       "    }\n",
       "\n",
       "    .dataframe tbody tr th {\n",
       "        vertical-align: top;\n",
       "    }\n",
       "\n",
       "    .dataframe thead th {\n",
       "        text-align: right;\n",
       "    }\n",
       "</style>\n",
       "<table border=\"1\" class=\"dataframe\">\n",
       "  <thead>\n",
       "    <tr style=\"text-align: right;\">\n",
       "      <th></th>\n",
       "      <th>User_id</th>\n",
       "      <th>Item_id</th>\n",
       "      <th>Rating</th>\n",
       "    </tr>\n",
       "  </thead>\n",
       "  <tbody>\n",
       "    <tr>\n",
       "      <th>0</th>\n",
       "      <td>U000001</td>\n",
       "      <td>H000021</td>\n",
       "      <td>0.2</td>\n",
       "    </tr>\n",
       "    <tr>\n",
       "      <th>1</th>\n",
       "      <td>U000002</td>\n",
       "      <td>H001054</td>\n",
       "      <td>0.6</td>\n",
       "    </tr>\n",
       "    <tr>\n",
       "      <th>2</th>\n",
       "      <td>U000003</td>\n",
       "      <td>H001054</td>\n",
       "      <td>0.6</td>\n",
       "    </tr>\n",
       "    <tr>\n",
       "      <th>3</th>\n",
       "      <td>U000004</td>\n",
       "      <td>H001054</td>\n",
       "      <td>0.6</td>\n",
       "    </tr>\n",
       "    <tr>\n",
       "      <th>4</th>\n",
       "      <td>U000005</td>\n",
       "      <td>H001054</td>\n",
       "      <td>0.6</td>\n",
       "    </tr>\n",
       "  </tbody>\n",
       "</table>\n",
       "</div>"
      ],
      "text/plain": [
       "   User_id  Item_id  Rating\n",
       "0  U000001  H000021     0.2\n",
       "1  U000002  H001054     0.6\n",
       "2  U000003  H001054     0.6\n",
       "3  U000004  H001054     0.6\n",
       "4  U000005  H001054     0.6"
      ]
     },
     "execution_count": 12,
     "metadata": {},
     "output_type": "execute_result"
    }
   ],
   "source": [
    "#I've renamed columns for my work\n",
    "df.columns =['User_id', 'Item_id', 'Rating']\n",
    "df.head()"
   ]
  },
  {
   "cell_type": "code",
   "execution_count": 13,
   "id": "structural-remedy",
   "metadata": {},
   "outputs": [
    {
     "data": {
      "text/plain": [
       "(9219, 3)"
      ]
     },
     "execution_count": 13,
     "metadata": {},
     "output_type": "execute_result"
    }
   ],
   "source": [
    "df.shape"
   ]
  },
  {
   "cell_type": "code",
   "execution_count": 14,
   "id": "empty-massage",
   "metadata": {},
   "outputs": [
    {
     "data": {
      "text/plain": [
       "9219"
      ]
     },
     "execution_count": 14,
     "metadata": {},
     "output_type": "execute_result"
    }
   ],
   "source": [
    "n_users = len(df.User_id.unique())\n",
    "n_users"
   ]
  },
  {
   "cell_type": "code",
   "execution_count": 16,
   "id": "chubby-gross",
   "metadata": {},
   "outputs": [
    {
     "data": {
      "text/plain": [
       "1275"
      ]
     },
     "execution_count": 16,
     "metadata": {},
     "output_type": "execute_result"
    }
   ],
   "source": [
    "n_hotels = len(df.Item_id.unique())\n",
    "n_hotels"
   ]
  },
  {
   "cell_type": "markdown",
   "id": "acoustic-hayes",
   "metadata": {},
   "source": [
    "Create variables with the total number of unique users and item in the data, as well as the min and max ratings present in the data"
   ]
  },
  {
   "cell_type": "code",
   "execution_count": 17,
   "id": "electrical-poison",
   "metadata": {},
   "outputs": [
    {
     "name": "stdout",
     "output_type": "stream",
     "text": [
      "0.0 1.0\n"
     ]
    }
   ],
   "source": [
    "user_enc = LabelEncoder()\n",
    "df['user'] = user_enc.fit_transform(df['User_id'].values)\n",
    "n_users = df['user'].nunique()\n",
    "\n",
    "item_enc = LabelEncoder()\n",
    "df['item'] = item_enc.fit_transform(df['Item_id'].values)\n",
    "n_items = df['item'].nunique()\n",
    "\n",
    "df['rating'] = df['Rating'].values.astype(np.float32)\n",
    "min_rating = min(df['rating'])\n",
    "max_rating = max(df['rating'])\n",
    "n_users, n_items\n",
    "print(min_rating, max_rating)"
   ]
  },
  {
   "cell_type": "markdown",
   "id": "wicked-shopper",
   "metadata": {},
   "source": [
    "# Split the data into training and test data sets"
   ]
  },
  {
   "cell_type": "code",
   "execution_count": 47,
   "id": "moderate-donna",
   "metadata": {},
   "outputs": [
    {
     "data": {
      "text/plain": [
       "((7375, 2), (1844, 2), (7375,), (1844,))"
      ]
     },
     "execution_count": 47,
     "metadata": {},
     "output_type": "execute_result"
    }
   ],
   "source": [
    "X = df[['user', 'item']].values\n",
    "y = df['rating'].values\n",
    "X_train, X_test, y_train, y_test = train_test_split(X, y, test_size=0.2, random_state=42)\n",
    "X_train.shape, X_test.shape, y_train.shape, y_test.shape"
   ]
  },
  {
   "cell_type": "code",
   "execution_count": 152,
   "id": "ca8b91be",
   "metadata": {},
   "outputs": [
    {
     "name": "stdout",
     "output_type": "stream",
     "text": [
      "[[6659  903]\n",
      " [1491  830]\n",
      " [6453   23]\n",
      " ...\n",
      " [5390  806]\n",
      " [ 860   37]\n",
      " [7270  815]]\n"
     ]
    }
   ],
   "source": [
    "print(X_train)"
   ]
  },
  {
   "cell_type": "code",
   "execution_count": 153,
   "id": "1a9a789d",
   "metadata": {},
   "outputs": [
    {
     "name": "stdout",
     "output_type": "stream",
     "text": [
      "[0.7 1.  0.  ... 0.4 0.  0. ]\n"
     ]
    }
   ],
   "source": [
    "print(y_train)"
   ]
  },
  {
   "cell_type": "code",
   "execution_count": 55,
   "id": "african-teaching",
   "metadata": {},
   "outputs": [],
   "source": [
    "n_factors = 240\n",
    "X_train_array = [X_train[:, 0], X_train[:, 1]]\n",
    "X_test_array = [X_test[:, 0], X_test[:, 1]]"
   ]
  },
  {
   "cell_type": "code",
   "execution_count": 143,
   "id": "7527b4ec",
   "metadata": {},
   "outputs": [
    {
     "name": "stdout",
     "output_type": "stream",
     "text": [
      "[array([6659, 1491, 6453, ..., 5390,  860, 7270]), array([903, 830,  23, ..., 806,  37, 815])]\n"
     ]
    }
   ],
   "source": [
    "print(X_train_array)"
   ]
  },
  {
   "cell_type": "code",
   "execution_count": 144,
   "id": "30a2f7ca",
   "metadata": {},
   "outputs": [
    {
     "name": "stdout",
     "output_type": "stream",
     "text": [
      "[array([8507, 1543,  457, ..., 1323, 5558, 2191]), array([834, 917, 290, ..., 791, 724, 259])]\n"
     ]
    }
   ],
   "source": [
    "print(X_test_array)"
   ]
  },
  {
   "cell_type": "markdown",
   "id": "hazardous-center",
   "metadata": {},
   "source": [
    "# Creating Neural Network\n",
    "\n",
    "Neural Networks proved there effectivness for almost every machine learning problem as of now and they also perform exceptionally well for recommendation systems.\n",
    "\n",
    "Embeddings are weights that are learned to represent some specific variable like items and user in our case and therefore we can not only use them to get good results on our problem but also to extract inside about our data."
   ]
  },
  {
   "cell_type": "code",
   "execution_count": 122,
   "id": "impressed-apollo",
   "metadata": {},
   "outputs": [],
   "source": [
    "# creating user embedding\n",
    "user = Input(shape=(1,))\n",
    "u = Embedding(n_users, n_factors, embeddings_initializer='he_normal',\n",
    "                  embeddings_regularizer=l2(1e-6))(user)\n",
    "u = Reshape((n_factors,))(u)\n",
    "\n",
    "# creating item embedding path\n",
    "item = Input(shape=(1,))\n",
    "i = Embedding(n_items, n_factors, embeddings_initializer='he_normal',\n",
    "                  embeddings_regularizer=l2(1e-6))(item)\n",
    "i = Reshape((n_factors,))(i)\n",
    "    \n",
    "# concatenate features\n",
    "x = Concatenate()([u, i])\n",
    "    \n",
    "# add fully-connected-layers\n",
    "fc1 = Dense(512, activation='relu')(x)\n",
    "fc2 = tf.keras.layers.Dropout(0.2)(fc1)\n",
    "out = Dense(1)(fc2)\n",
    "\n",
    "model = Model([user, item], out)\n",
    "opt = tf.keras.optimizers.RMSprop(lr=0.00001)\n",
    "model.compile(optimizer = opt, loss = 'mean_absolute_error', metrics=['accuracy'])"
   ]
  },
  {
   "cell_type": "code",
   "execution_count": 123,
   "id": "ecological-shipping",
   "metadata": {},
   "outputs": [
    {
     "name": "stdout",
     "output_type": "stream",
     "text": [
      "Model: \"model_25\"\n",
      "__________________________________________________________________________________________________\n",
      " Layer (type)                   Output Shape         Param #     Connected to                     \n",
      "==================================================================================================\n",
      " input_53 (InputLayer)          [(None, 1)]          0           []                               \n",
      "                                                                                                  \n",
      " input_54 (InputLayer)          [(None, 1)]          0           []                               \n",
      "                                                                                                  \n",
      " embedding_52 (Embedding)       (None, 1, 240)       2212560     ['input_53[0][0]']               \n",
      "                                                                                                  \n",
      " embedding_53 (Embedding)       (None, 1, 240)       306000      ['input_54[0][0]']               \n",
      "                                                                                                  \n",
      " reshape_52 (Reshape)           (None, 240)          0           ['embedding_52[0][0]']           \n",
      "                                                                                                  \n",
      " reshape_53 (Reshape)           (None, 240)          0           ['embedding_53[0][0]']           \n",
      "                                                                                                  \n",
      " concatenate_26 (Concatenate)   (None, 480)          0           ['reshape_52[0][0]',             \n",
      "                                                                  'reshape_53[0][0]']             \n",
      "                                                                                                  \n",
      " dense_74 (Dense)               (None, 512)          246272      ['concatenate_26[0][0]']         \n",
      "                                                                                                  \n",
      " dropout_8 (Dropout)            (None, 512)          0           ['dense_74[0][0]']               \n",
      "                                                                                                  \n",
      " dense_75 (Dense)               (None, 1)            513         ['dropout_8[0][0]']              \n",
      "                                                                                                  \n",
      "==================================================================================================\n",
      "Total params: 2,765,345\n",
      "Trainable params: 2,765,345\n",
      "Non-trainable params: 0\n",
      "__________________________________________________________________________________________________\n"
     ]
    }
   ],
   "source": [
    "model.summary()"
   ]
  },
  {
   "cell_type": "code",
   "execution_count": 124,
   "id": "de25e9e6",
   "metadata": {},
   "outputs": [
    {
     "name": "stdout",
     "output_type": "stream",
     "text": [
      "Epoch 1/30\n",
      "116/116 [==============================] - 11s 84ms/step - loss: 0.3441 - accuracy: 0.3511 - val_loss: 0.3436 - val_accuracy: 0.3346\n",
      "Epoch 2/30\n",
      "116/116 [==============================] - 9s 81ms/step - loss: 0.3285 - accuracy: 0.3511 - val_loss: 0.3292 - val_accuracy: 0.3346\n",
      "Epoch 3/30\n",
      "116/116 [==============================] - 9s 82ms/step - loss: 0.3138 - accuracy: 0.3511 - val_loss: 0.3145 - val_accuracy: 0.3346\n",
      "Epoch 4/30\n",
      "116/116 [==============================] - 9s 81ms/step - loss: 0.2991 - accuracy: 0.3511 - val_loss: 0.2995 - val_accuracy: 0.3346\n",
      "Epoch 5/30\n",
      "116/116 [==============================] - 10s 82ms/step - loss: 0.2833 - accuracy: 0.3511 - val_loss: 0.2841 - val_accuracy: 0.3346\n",
      "Epoch 6/30\n",
      "116/116 [==============================] - 10s 85ms/step - loss: 0.2682 - accuracy: 0.3511 - val_loss: 0.2688 - val_accuracy: 0.3346\n",
      "Epoch 7/30\n",
      "116/116 [==============================] - 9s 78ms/step - loss: 0.2530 - accuracy: 0.3511 - val_loss: 0.2540 - val_accuracy: 0.3346\n",
      "Epoch 8/30\n",
      "116/116 [==============================] - 9s 76ms/step - loss: 0.2370 - accuracy: 0.3511 - val_loss: 0.2388 - val_accuracy: 0.3346\n",
      "Epoch 9/30\n",
      "116/116 [==============================] - 9s 78ms/step - loss: 0.2213 - accuracy: 0.3511 - val_loss: 0.2231 - val_accuracy: 0.3346\n",
      "Epoch 10/30\n",
      "116/116 [==============================] - 9s 81ms/step - loss: 0.2053 - accuracy: 0.3511 - val_loss: 0.2082 - val_accuracy: 0.3346\n",
      "Epoch 11/30\n",
      "116/116 [==============================] - 10s 84ms/step - loss: 0.1896 - accuracy: 0.3511 - val_loss: 0.1938 - val_accuracy: 0.3346\n",
      "Epoch 12/30\n",
      "116/116 [==============================] - 9s 78ms/step - loss: 0.1758 - accuracy: 0.3511 - val_loss: 0.1804 - val_accuracy: 0.3346\n",
      "Epoch 13/30\n",
      "116/116 [==============================] - 10s 87ms/step - loss: 0.1619 - accuracy: 0.3511 - val_loss: 0.1675 - val_accuracy: 0.3346\n",
      "Epoch 14/30\n",
      "116/116 [==============================] - 10s 86ms/step - loss: 0.1486 - accuracy: 0.3513 - val_loss: 0.1549 - val_accuracy: 0.3346\n",
      "Epoch 15/30\n",
      "116/116 [==============================] - 10s 84ms/step - loss: 0.1377 - accuracy: 0.3515 - val_loss: 0.1443 - val_accuracy: 0.3357\n",
      "Epoch 16/30\n",
      "116/116 [==============================] - 10s 87ms/step - loss: 0.1282 - accuracy: 0.3527 - val_loss: 0.1361 - val_accuracy: 0.3362\n",
      "Epoch 17/30\n",
      "116/116 [==============================] - 10s 84ms/step - loss: 0.1209 - accuracy: 0.3529 - val_loss: 0.1290 - val_accuracy: 0.3373\n",
      "Epoch 18/30\n",
      "116/116 [==============================] - 10s 85ms/step - loss: 0.1145 - accuracy: 0.3547 - val_loss: 0.1229 - val_accuracy: 0.3406\n",
      "Epoch 19/30\n",
      "116/116 [==============================] - 10s 89ms/step - loss: 0.1085 - accuracy: 0.3553 - val_loss: 0.1174 - val_accuracy: 0.3406\n",
      "Epoch 20/30\n",
      "116/116 [==============================] - 10s 84ms/step - loss: 0.1045 - accuracy: 0.3555 - val_loss: 0.1127 - val_accuracy: 0.3416\n",
      "Epoch 21/30\n",
      "116/116 [==============================] - 10s 86ms/step - loss: 0.1001 - accuracy: 0.3561 - val_loss: 0.1089 - val_accuracy: 0.3422\n",
      "Epoch 22/30\n",
      "116/116 [==============================] - 10s 84ms/step - loss: 0.0963 - accuracy: 0.3567 - val_loss: 0.1054 - val_accuracy: 0.3427\n",
      "Epoch 23/30\n",
      "116/116 [==============================] - 10s 84ms/step - loss: 0.0938 - accuracy: 0.3569 - val_loss: 0.1023 - val_accuracy: 0.3427\n",
      "Epoch 24/30\n",
      "116/116 [==============================] - 10s 86ms/step - loss: 0.0906 - accuracy: 0.3572 - val_loss: 0.0994 - val_accuracy: 0.3438\n",
      "Epoch 25/30\n",
      "116/116 [==============================] - 10s 87ms/step - loss: 0.0880 - accuracy: 0.3574 - val_loss: 0.0971 - val_accuracy: 0.3438\n",
      "Epoch 26/30\n",
      "116/116 [==============================] - 10s 85ms/step - loss: 0.0858 - accuracy: 0.3573 - val_loss: 0.0950 - val_accuracy: 0.3438\n",
      "Epoch 27/30\n",
      "116/116 [==============================] - 10s 88ms/step - loss: 0.0836 - accuracy: 0.3577 - val_loss: 0.0932 - val_accuracy: 0.3438\n",
      "Epoch 28/30\n",
      "116/116 [==============================] - 10s 86ms/step - loss: 0.0816 - accuracy: 0.3577 - val_loss: 0.0912 - val_accuracy: 0.3438\n",
      "Epoch 29/30\n",
      "116/116 [==============================] - 10s 85ms/step - loss: 0.0796 - accuracy: 0.3580 - val_loss: 0.0893 - val_accuracy: 0.3438\n",
      "Epoch 30/30\n",
      "116/116 [==============================] - 10s 85ms/step - loss: 0.0781 - accuracy: 0.3577 - val_loss: 0.0878 - val_accuracy: 0.3438\n"
     ]
    }
   ],
   "source": [
    "history = model.fit(x=X_train_array, y=y_train, batch_size=64, epochs=30,\n",
    "                    verbose=1, validation_data=(X_test_array, y_test))"
   ]
  },
  {
   "cell_type": "code",
   "execution_count": 125,
   "id": "vocal-chance",
   "metadata": {},
   "outputs": [
    {
     "data": {
      "image/png": "[encoded data removed]",
      "text/plain": [
       "<Figure size 432x288 with 1 Axes>"
      ]
     },
     "metadata": {
      "needs_background": "light"
     },
     "output_type": "display_data"
    }
   ],
   "source": [
    "train_loss = history.history['loss']\n",
    "val_loss = history.history['val_loss']\n",
    "plt.plot(train_loss, color='r', label='Train Loss')\n",
    "plt.plot(val_loss, color='b', label='Validation Loss')\n",
    "plt.title(\"Train and Validation Loss Curve\")\n",
    "plt.legend()\n",
    "plt.show()"
   ]
  },
  {
   "cell_type": "markdown",
   "id": "laden-qualification",
   "metadata": {},
   "source": [
    "## Creating RMSE function for Neural Network"
   ]
  },
  {
   "cell_type": "code",
   "execution_count": 92,
   "id": "suited-floating",
   "metadata": {},
   "outputs": [],
   "source": [
    "def root_mean_squared_error(y_test, y_train):\n",
    "        return K.sqrt(K.mean(K.square(y_test - y_train))) "
   ]
  },
  {
   "cell_type": "code",
   "execution_count": 118,
   "id": "latter-mailing",
   "metadata": {},
   "outputs": [],
   "source": [
    "# creating user embedding\n",
    "user = Input(shape=(1,))\n",
    "u = Embedding(n_users, n_factors, embeddings_initializer='he_normal',\n",
    "                  embeddings_regularizer=l2(1e-6))(user)\n",
    "u = Reshape((n_factors,))(u)\n",
    "\n",
    "# creating item embedding path\n",
    "item = Input(shape=(1,))\n",
    "i = Embedding(n_items, n_factors, embeddings_initializer='he_normal',\n",
    "                  embeddings_regularizer=l2(1e-6))(item)\n",
    "i = Reshape((n_factors,))(i)\n",
    "    \n",
    "# concatenate features\n",
    "x = Concatenate()([u, i])\n",
    "     \n",
    "# add fully-connected-layers\n",
    "fc1 = Dense(512, activation='relu')(x)\n",
    "fc2 = tf.keras.layers.Dropout(0.2)(fc1)\n",
    "out = Dense(1)(fc2)\n",
    "\n",
    "model = Model([user, item], out)\n",
    "opt = tf.keras.optimizers.RMSprop(lr=0.00001)\n",
    "model.compile(optimizer = opt , loss = root_mean_squared_error, metrics=['accuracy'])"
   ]
  },
  {
   "cell_type": "code",
   "execution_count": 119,
   "id": "limiting-token",
   "metadata": {},
   "outputs": [
    {
     "name": "stdout",
     "output_type": "stream",
     "text": [
      "Model: \"model_24\"\n",
      "__________________________________________________________________________________________________\n",
      " Layer (type)                   Output Shape         Param #     Connected to                     \n",
      "==================================================================================================\n",
      " input_51 (InputLayer)          [(None, 1)]          0           []                               \n",
      "                                                                                                  \n",
      " input_52 (InputLayer)          [(None, 1)]          0           []                               \n",
      "                                                                                                  \n",
      " embedding_50 (Embedding)       (None, 1, 240)       2212560     ['input_51[0][0]']               \n",
      "                                                                                                  \n",
      " embedding_51 (Embedding)       (None, 1, 240)       306000      ['input_52[0][0]']               \n",
      "                                                                                                  \n",
      " reshape_50 (Reshape)           (None, 240)          0           ['embedding_50[0][0]']           \n",
      "                                                                                                  \n",
      " reshape_51 (Reshape)           (None, 240)          0           ['embedding_51[0][0]']           \n",
      "                                                                                                  \n",
      " concatenate_25 (Concatenate)   (None, 480)          0           ['reshape_50[0][0]',             \n",
      "                                                                  'reshape_51[0][0]']             \n",
      "                                                                                                  \n",
      " dense_72 (Dense)               (None, 512)          246272      ['concatenate_25[0][0]']         \n",
      "                                                                                                  \n",
      " dropout_7 (Dropout)            (None, 512)          0           ['dense_72[0][0]']               \n",
      "                                                                                                  \n",
      " dense_73 (Dense)               (None, 1)            513         ['dropout_7[0][0]']              \n",
      "                                                                                                  \n",
      "==================================================================================================\n",
      "Total params: 2,765,345\n",
      "Trainable params: 2,765,345\n",
      "Non-trainable params: 0\n",
      "__________________________________________________________________________________________________\n"
     ]
    }
   ],
   "source": [
    "model.summary()"
   ]
  },
  {
   "cell_type": "code",
   "execution_count": 120,
   "id": "fifteen-burns",
   "metadata": {},
   "outputs": [
    {
     "name": "stdout",
     "output_type": "stream",
     "text": [
      "Epoch 1/30\n",
      "116/116 [==============================] - 11s 85ms/step - loss: 0.4589 - accuracy: 0.3511 - val_loss: 0.4515 - val_accuracy: 0.3346\n",
      "Epoch 2/30\n",
      "116/116 [==============================] - 10s 84ms/step - loss: 0.4327 - accuracy: 0.3511 - val_loss: 0.4262 - val_accuracy: 0.3346\n",
      "Epoch 3/30\n",
      "116/116 [==============================] - 10s 85ms/step - loss: 0.4076 - accuracy: 0.3511 - val_loss: 0.4017 - val_accuracy: 0.3346\n",
      "Epoch 4/30\n",
      "116/116 [==============================] - 10s 83ms/step - loss: 0.3831 - accuracy: 0.3511 - val_loss: 0.3779 - val_accuracy: 0.3346\n",
      "Epoch 5/30\n",
      "116/116 [==============================] - 10s 84ms/step - loss: 0.3593 - accuracy: 0.3511 - val_loss: 0.3549 - val_accuracy: 0.3346\n",
      "Epoch 6/30\n",
      "116/116 [==============================] - 10s 84ms/step - loss: 0.3373 - accuracy: 0.3511 - val_loss: 0.3327 - val_accuracy: 0.3346\n",
      "Epoch 7/30\n",
      "116/116 [==============================] - 10s 84ms/step - loss: 0.3148 - accuracy: 0.3511 - val_loss: 0.3112 - val_accuracy: 0.3346\n",
      "Epoch 8/30\n",
      "116/116 [==============================] - 10s 87ms/step - loss: 0.2943 - accuracy: 0.3511 - val_loss: 0.2911 - val_accuracy: 0.3346\n",
      "Epoch 9/30\n",
      "116/116 [==============================] - 10s 85ms/step - loss: 0.2744 - accuracy: 0.3511 - val_loss: 0.2724 - val_accuracy: 0.3346\n",
      "Epoch 10/30\n",
      "116/116 [==============================] - 10s 83ms/step - loss: 0.2563 - accuracy: 0.3511 - val_loss: 0.2553 - val_accuracy: 0.3346\n",
      "Epoch 11/30\n",
      "116/116 [==============================] - 10s 86ms/step - loss: 0.2403 - accuracy: 0.3511 - val_loss: 0.2401 - val_accuracy: 0.3346\n",
      "Epoch 12/30\n",
      "116/116 [==============================] - 10s 84ms/step - loss: 0.2255 - accuracy: 0.3511 - val_loss: 0.2270 - val_accuracy: 0.3346\n",
      "Epoch 13/30\n",
      "116/116 [==============================] - 10s 88ms/step - loss: 0.2127 - accuracy: 0.3517 - val_loss: 0.2155 - val_accuracy: 0.3357\n",
      "Epoch 14/30\n",
      "116/116 [==============================] - 10s 86ms/step - loss: 0.2014 - accuracy: 0.3529 - val_loss: 0.2062 - val_accuracy: 0.3362\n",
      "Epoch 15/30\n",
      "116/116 [==============================] - 10s 86ms/step - loss: 0.1920 - accuracy: 0.3542 - val_loss: 0.1983 - val_accuracy: 0.3389\n",
      "Epoch 16/30\n",
      "116/116 [==============================] - 10s 87ms/step - loss: 0.1838 - accuracy: 0.3547 - val_loss: 0.1917 - val_accuracy: 0.3411\n",
      "Epoch 17/30\n",
      "116/116 [==============================] - 10s 85ms/step - loss: 0.1766 - accuracy: 0.3557 - val_loss: 0.1860 - val_accuracy: 0.3416\n",
      "Epoch 18/30\n",
      "116/116 [==============================] - 10s 85ms/step - loss: 0.1705 - accuracy: 0.3561 - val_loss: 0.1810 - val_accuracy: 0.3416\n",
      "Epoch 19/30\n",
      "116/116 [==============================] - 10s 89ms/step - loss: 0.1648 - accuracy: 0.3567 - val_loss: 0.1766 - val_accuracy: 0.3427\n",
      "Epoch 20/30\n",
      "116/116 [==============================] - 10s 86ms/step - loss: 0.1595 - accuracy: 0.3567 - val_loss: 0.1726 - val_accuracy: 0.3433\n",
      "Epoch 21/30\n",
      "116/116 [==============================] - 10s 85ms/step - loss: 0.1546 - accuracy: 0.3577 - val_loss: 0.1690 - val_accuracy: 0.3438\n",
      "Epoch 22/30\n",
      "116/116 [==============================] - 10s 87ms/step - loss: 0.1506 - accuracy: 0.3576 - val_loss: 0.1657 - val_accuracy: 0.3438\n",
      "Epoch 23/30\n",
      "116/116 [==============================] - 10s 87ms/step - loss: 0.1472 - accuracy: 0.3578 - val_loss: 0.1627 - val_accuracy: 0.3438\n",
      "Epoch 24/30\n",
      "116/116 [==============================] - 10s 86ms/step - loss: 0.1428 - accuracy: 0.3586 - val_loss: 0.1600 - val_accuracy: 0.3449\n",
      "Epoch 25/30\n",
      "116/116 [==============================] - 10s 84ms/step - loss: 0.1398 - accuracy: 0.3589 - val_loss: 0.1575 - val_accuracy: 0.3449\n",
      "Epoch 26/30\n",
      "116/116 [==============================] - 10s 85ms/step - loss: 0.1370 - accuracy: 0.3591 - val_loss: 0.1551 - val_accuracy: 0.3449\n",
      "Epoch 27/30\n",
      "116/116 [==============================] - 10s 85ms/step - loss: 0.1339 - accuracy: 0.3592 - val_loss: 0.1530 - val_accuracy: 0.3449\n",
      "Epoch 28/30\n",
      "116/116 [==============================] - 10s 88ms/step - loss: 0.1312 - accuracy: 0.3595 - val_loss: 0.1511 - val_accuracy: 0.3449\n",
      "Epoch 29/30\n",
      "116/116 [==============================] - 10s 86ms/step - loss: 0.1282 - accuracy: 0.3597 - val_loss: 0.1493 - val_accuracy: 0.3449\n",
      "Epoch 30/30\n",
      "116/116 [==============================] - 10s 87ms/step - loss: 0.1258 - accuracy: 0.3604 - val_loss: 0.1476 - val_accuracy: 0.3449\n"
     ]
    }
   ],
   "source": [
    "history = model.fit(x=X_train_array, y=y_train, batch_size=64, epochs=30,\n",
    "                    verbose=1, validation_data=(X_test_array, y_test))"
   ]
  },
  {
   "cell_type": "code",
   "execution_count": 121,
   "id": "vocal-chance",
   "metadata": {},
   "outputs": [
    {
     "data": {
      "image/png": "[encoded data removed]",
      "text/plain": [
       "<Figure size 432x288 with 1 Axes>"
      ]
     },
     "metadata": {
      "needs_background": "light"
     },
     "output_type": "display_data"
    }
   ],
   "source": [
    "train_loss = history.history['loss']\n",
    "val_loss = history.history['val_loss']\n",
    "plt.plot(train_loss, color='r', label='Train Loss')\n",
    "plt.plot(val_loss, color='b', label='Validation Loss')\n",
    "plt.title(\"Train and Validation Loss Curve\")\n",
    "plt.legend()\n",
    "plt.show()"
   ]
  },
  {
   "cell_type": "markdown",
   "id": "effective-label",
   "metadata": {},
   "source": [
    "# Making Recommendations"
   ]
  },
  {
   "cell_type": "code",
   "execution_count": 131,
   "id": "elect-antique",
   "metadata": {},
   "outputs": [
    {
     "data": {
      "text/plain": [
       "array(['H000833', 'H001003', 'H001213', 'H000216', 'H001193'], dtype='<U7')"
      ]
     },
     "execution_count": 131,
     "metadata": {},
     "output_type": "execute_result"
    }
   ],
   "source": [
    "# Creating dataset for making recommendations for the first user\n",
    "hotel_data = np.array(list(set(df.Item_id)))\n",
    "hotel_data[:5]"
   ]
  },
  {
   "cell_type": "code",
   "execution_count": 137,
   "id": "assisted-immune",
   "metadata": {},
   "outputs": [
    {
     "data": {
      "text/plain": [
       "array([['U000001', 'U000002', 'U000003', ..., 'U009217', 'U009218',\n",
       "        'U009219'],\n",
       "       ['U000001', 'U000002', 'U000003', ..., 'U009217', 'U009218',\n",
       "        'U009219'],\n",
       "       ['U000001', 'U000002', 'U000003', ..., 'U009217', 'U009218',\n",
       "        'U009219'],\n",
       "       ['U000001', 'U000002', 'U000003', ..., 'U009217', 'U009218',\n",
       "        'U009219'],\n",
       "       ['U000001', 'U000002', 'U000003', ..., 'U009217', 'U009218',\n",
       "        'U009219']], dtype=object)"
      ]
     },
     "execution_count": 137,
     "metadata": {},
     "output_type": "execute_result"
    }
   ],
   "source": [
    "user = np.array([df.User_id for i in range(len(hotel_data))])\n",
    "user[:5]"
   ]
  },
  {
   "cell_type": "code",
   "execution_count": 142,
   "id": "d39b9fe3",
   "metadata": {},
   "outputs": [
    {
     "name": "stdout",
     "output_type": "stream",
     "text": [
      "58/58 [==============================] - 0s 5ms/step\n"
     ]
    },
    {
     "data": {
      "text/plain": [
       "array([1142, 1158, 1452, 1722, 1530])"
      ]
     },
     "execution_count": 142,
     "metadata": {},
     "output_type": "execute_result"
    }
   ],
   "source": [
    "predictions = model.predict([X_test_array])\n",
    "\n",
    "predictions = np.array([a[0] for a in predictions])\n",
    "\n",
    "recommended_item_ids = (-predictions).argsort()[:5]\n",
    "\n",
    "recommended_item_ids"
   ]
  },
  {
   "cell_type": "code",
   "execution_count": 145,
   "id": "transparent-vision",
   "metadata": {},
   "outputs": [
    {
     "data": {
      "text/plain": [
       "array([0.8220406, 0.8209105, 0.8208314, 0.8189192, 0.8175316],\n",
       "      dtype=float32)"
      ]
     },
     "execution_count": 145,
     "metadata": {},
     "output_type": "execute_result"
    }
   ],
   "source": [
    "# print predicted scores\n",
    "predictions[recommended_item_ids]"
   ]
  },
  {
   "cell_type": "markdown",
   "id": "electrical-flesh",
   "metadata": {},
   "source": [
    "# Recommend Hotel Cluster for a User"
   ]
  },
  {
   "cell_type": "code",
   "execution_count": 150,
   "id": "enhanced-creator",
   "metadata": {},
   "outputs": [],
   "source": [
    "rows = []\n",
    "hotel = list(df.drop_duplicates(subset='Item_id', keep='first').Item_id)\n",
    "names = list(df.drop_duplicates(subset='Item_id', keep='first').Item_id)\n",
    "\n",
    "for i in range(len(hotel)):\n",
    "    rows.append( dict({'name': names[i], 'Item_id' : hotel[i], 'User_id' : df.iloc[4,0]}))\n",
    "test_data = pd.DataFrame(rows)"
   ]
  },
  {
   "cell_type": "code",
   "execution_count": 151,
   "id": "impressive-facing",
   "metadata": {},
   "outputs": [
    {
     "name": "stdout",
     "output_type": "stream",
     "text": [
      "Score:  1722.0  for hotel cluster:  H001074\n",
      "Score:  1530.0  for hotel cluster:  H000193\n",
      "Score:  1452.0  for hotel cluster:  H001100\n",
      "Score:  1158.0  for hotel cluster:  H001054\n",
      "Score:  1142.0  for hotel cluster:  H000021\n"
     ]
    }
   ],
   "source": [
    "for idx, (score, name) in enumerate(sorted(zip(recommended_item_ids, names), reverse=True)):\n",
    " \n",
    "    print(\"Score: \", round(float(score), 2), \" for hotel cluster: \", name)"
   ]
  },
  {
   "cell_type": "code",
   "execution_count": null,
   "id": "ideal-october",
   "metadata": {},
   "outputs": [],
   "source": []
  }
 ],
 "metadata": {
  "interpreter": {
   "hash": "cd78fef2128015050713e82ca51c6520b11aee7c9ee8df750520bbbc7384cbaa"
  },
  "kernelspec": {
   "display_name": "Python 3.8.5 ('base')",
   "language": "python",
   "name": "python3"
  },
  "language_info": {
   "codemirror_mode": {
    "name": "ipython",
    "version": 3
   },
   "file_extension": ".py",
   "mimetype": "text/x-python",
   "name": "python",
   "nbconvert_exporter": "python",
   "pygments_lexer": "ipython3",
   "version": "3.8.5"
  }
 },
 "nbformat": 4,
 "nbformat_minor": 5
}
