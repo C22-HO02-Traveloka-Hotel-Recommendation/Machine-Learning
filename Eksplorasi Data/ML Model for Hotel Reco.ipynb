{
 "cells": [
  {
   "cell_type": "markdown",
   "id": "hazardous-improvement",
   "metadata": {},
   "source": [
    "# Hotel Recommendation System using Keras"
   ]
  },
  {
   "cell_type": "code",
   "execution_count": 14,
   "id": "challenging-immigration",
   "metadata": {},
   "outputs": [],
   "source": [
    "import numpy as np\n",
    "import pandas as pd\n",
    "import matplotlib.pyplot as plt\n",
    "import os\n",
    "import warnings\n",
    "import tensorflow as tf\n",
    "from keras import backend as K\n",
    "\n",
    "from keras.layers import Embedding, Flatten, Concatenate\n",
    "from keras.models import Model\n",
    "from keras.layers import Dense\n",
    "from keras.layers import Input, Reshape, Dot\n",
    "from keras.optimizers import Adam\n",
    "from keras.regularizers import l2\n",
    "\n",
    "from sklearn.model_selection import train_test_split\n",
    "from sklearn.preprocessing import LabelEncoder\n",
    "\n",
    "warnings.filterwarnings('ignore')\n",
    "%matplotlib inline"
   ]
  },
  {
   "cell_type": "code",
   "execution_count": 3,
   "id": "spatial-watts",
   "metadata": {},
   "outputs": [],
   "source": [
    "hotel_train_data = pd.read_csv(\"/Users/lufthikautsar/Downloads/Hotel_Recomendation_Model_Traveloka/Eksplorasi Data/goiboi+datafiniti_merge_user-collaborative-based.csv\", sep=',')"
   ]
  },
  {
   "cell_type": "code",
   "execution_count": 4,
   "id": "published-beads",
   "metadata": {},
   "outputs": [
    {
     "data": {
      "text/html": [
       "<div>\n",
       "<style scoped>\n",
       "    .dataframe tbody tr th:only-of-type {\n",
       "        vertical-align: middle;\n",
       "    }\n",
       "\n",
       "    .dataframe tbody tr th {\n",
       "        vertical-align: top;\n",
       "    }\n",
       "\n",
       "    .dataframe thead th {\n",
       "        text-align: right;\n",
       "    }\n",
       "</style>\n",
       "<table border=\"1\" class=\"dataframe\">\n",
       "  <thead>\n",
       "    <tr style=\"text-align: right;\">\n",
       "      <th></th>\n",
       "      <th>property_id</th>\n",
       "      <th>user_id</th>\n",
       "      <th>user_rating</th>\n",
       "      <th>user_reviews</th>\n",
       "      <th>property_name</th>\n",
       "      <th>hotel_description</th>\n",
       "      <th>address</th>\n",
       "      <th>point_of_interest</th>\n",
       "      <th>city</th>\n",
       "      <th>state</th>\n",
       "      <th>...</th>\n",
       "      <th>Two Line Telephone</th>\n",
       "      <th>Utensils (on request)</th>\n",
       "      <th>Video/ DVD/ CD Player Available</th>\n",
       "      <th>Voicemail.1</th>\n",
       "      <th>Wardrobe</th>\n",
       "      <th>Washing machine</th>\n",
       "      <th>Western Toilet Seat</th>\n",
       "      <th>Window Opens</th>\n",
       "      <th>Work Station</th>\n",
       "      <th>Working Desk Phone</th>\n",
       "    </tr>\n",
       "  </thead>\n",
       "  <tbody>\n",
       "    <tr>\n",
       "      <th>0</th>\n",
       "      <td>H000001</td>\n",
       "      <td>0</td>\n",
       "      <td>4</td>\n",
       "      <td>Staff were helpful and friendly. Wireless inte...</td>\n",
       "      <td>Baragarh Regency</td>\n",
       "      <td>The standard check-in time is 12:00 PM and the...</td>\n",
       "      <td>15th Mile, N.H.21,Manali, District Kullu,Himac...</td>\n",
       "      <td>['Hadimba Temple', 'Naggar Village', 'Himalaya...</td>\n",
       "      <td>Manali</td>\n",
       "      <td>Himachal Pradesh</td>\n",
       "      <td>...</td>\n",
       "      <td>0</td>\n",
       "      <td>0</td>\n",
       "      <td>0</td>\n",
       "      <td>0</td>\n",
       "      <td>0</td>\n",
       "      <td>0</td>\n",
       "      <td>1</td>\n",
       "      <td>1</td>\n",
       "      <td>0</td>\n",
       "      <td>0</td>\n",
       "    </tr>\n",
       "    <tr>\n",
       "      <th>1</th>\n",
       "      <td>H000001</td>\n",
       "      <td>6853</td>\n",
       "      <td>2</td>\n",
       "      <td>Service was fine but the hotel was worn down: ...</td>\n",
       "      <td>Baragarh Regency</td>\n",
       "      <td>The standard check-in time is 12:00 PM and the...</td>\n",
       "      <td>15th Mile, N.H.21,Manali, District Kullu,Himac...</td>\n",
       "      <td>['Hadimba Temple', 'Naggar Village', 'Himalaya...</td>\n",
       "      <td>Manali</td>\n",
       "      <td>Himachal Pradesh</td>\n",
       "      <td>...</td>\n",
       "      <td>0</td>\n",
       "      <td>0</td>\n",
       "      <td>0</td>\n",
       "      <td>0</td>\n",
       "      <td>0</td>\n",
       "      <td>0</td>\n",
       "      <td>1</td>\n",
       "      <td>1</td>\n",
       "      <td>0</td>\n",
       "      <td>0</td>\n",
       "    </tr>\n",
       "  </tbody>\n",
       "</table>\n",
       "<p>2 rows × 385 columns</p>\n",
       "</div>"
      ],
      "text/plain": [
       "  property_id  user_id  user_rating  \\\n",
       "0     H000001        0            4   \n",
       "1     H000001     6853            2   \n",
       "\n",
       "                                        user_reviews     property_name  \\\n",
       "0  Staff were helpful and friendly. Wireless inte...  Baragarh Regency   \n",
       "1  Service was fine but the hotel was worn down: ...  Baragarh Regency   \n",
       "\n",
       "                                   hotel_description  \\\n",
       "0  The standard check-in time is 12:00 PM and the...   \n",
       "1  The standard check-in time is 12:00 PM and the...   \n",
       "\n",
       "                                             address  \\\n",
       "0  15th Mile, N.H.21,Manali, District Kullu,Himac...   \n",
       "1  15th Mile, N.H.21,Manali, District Kullu,Himac...   \n",
       "\n",
       "                                   point_of_interest    city  \\\n",
       "0  ['Hadimba Temple', 'Naggar Village', 'Himalaya...  Manali   \n",
       "1  ['Hadimba Temple', 'Naggar Village', 'Himalaya...  Manali   \n",
       "\n",
       "              state  ... Two Line Telephone  Utensils (on request)  \\\n",
       "0  Himachal Pradesh  ...                  0                      0   \n",
       "1  Himachal Pradesh  ...                  0                      0   \n",
       "\n",
       "   Video/ DVD/ CD Player Available Voicemail.1  Wardrobe Washing machine  \\\n",
       "0                                0           0         0               0   \n",
       "1                                0           0         0               0   \n",
       "\n",
       "  Western Toilet Seat  Window Opens  Work Station  Working Desk Phone  \n",
       "0                   1             1             0                   0  \n",
       "1                   1             1             0                   0  \n",
       "\n",
       "[2 rows x 385 columns]"
      ]
     },
     "execution_count": 4,
     "metadata": {},
     "output_type": "execute_result"
    }
   ],
   "source": [
    "hotel_train_data.head(2)"
   ]
  },
  {
   "cell_type": "markdown",
   "id": "sexual-startup",
   "metadata": {},
   "source": [
    "# Data Pre-processing"
   ]
  },
  {
   "cell_type": "code",
   "execution_count": 5,
   "id": "protected-furniture",
   "metadata": {},
   "outputs": [],
   "source": [
    "df = hotel_train_data[['user_id','property_id','user_rating']]"
   ]
  },
  {
   "cell_type": "code",
   "execution_count": 6,
   "id": "infectious-living",
   "metadata": {},
   "outputs": [
    {
     "data": {
      "text/html": [
       "<div>\n",
       "<style scoped>\n",
       "    .dataframe tbody tr th:only-of-type {\n",
       "        vertical-align: middle;\n",
       "    }\n",
       "\n",
       "    .dataframe tbody tr th {\n",
       "        vertical-align: top;\n",
       "    }\n",
       "\n",
       "    .dataframe thead th {\n",
       "        text-align: right;\n",
       "    }\n",
       "</style>\n",
       "<table border=\"1\" class=\"dataframe\">\n",
       "  <thead>\n",
       "    <tr style=\"text-align: right;\">\n",
       "      <th></th>\n",
       "      <th>User_id</th>\n",
       "      <th>Item_id</th>\n",
       "      <th>Rating</th>\n",
       "    </tr>\n",
       "  </thead>\n",
       "  <tbody>\n",
       "    <tr>\n",
       "      <th>0</th>\n",
       "      <td>0</td>\n",
       "      <td>H000001</td>\n",
       "      <td>4</td>\n",
       "    </tr>\n",
       "    <tr>\n",
       "      <th>1</th>\n",
       "      <td>6853</td>\n",
       "      <td>H000001</td>\n",
       "      <td>2</td>\n",
       "    </tr>\n",
       "    <tr>\n",
       "      <th>2</th>\n",
       "      <td>4632</td>\n",
       "      <td>H000001</td>\n",
       "      <td>4</td>\n",
       "    </tr>\n",
       "    <tr>\n",
       "      <th>3</th>\n",
       "      <td>8325</td>\n",
       "      <td>H000001</td>\n",
       "      <td>4</td>\n",
       "    </tr>\n",
       "    <tr>\n",
       "      <th>4</th>\n",
       "      <td>2065</td>\n",
       "      <td>H000002</td>\n",
       "      <td>4</td>\n",
       "    </tr>\n",
       "  </tbody>\n",
       "</table>\n",
       "</div>"
      ],
      "text/plain": [
       "   User_id  Item_id  Rating\n",
       "0        0  H000001       4\n",
       "1     6853  H000001       2\n",
       "2     4632  H000001       4\n",
       "3     8325  H000001       4\n",
       "4     2065  H000002       4"
      ]
     },
     "execution_count": 6,
     "metadata": {},
     "output_type": "execute_result"
    }
   ],
   "source": [
    "#For collaborative, we'll use ratings\n",
    "df.columns =['User_id', 'Item_id', 'Rating']\n",
    "df.head()"
   ]
  },
  {
   "cell_type": "code",
   "execution_count": 7,
   "id": "structural-remedy",
   "metadata": {},
   "outputs": [
    {
     "data": {
      "text/plain": [
       "(9748, 3)"
      ]
     },
     "execution_count": 7,
     "metadata": {},
     "output_type": "execute_result"
    }
   ],
   "source": [
    "df.shape"
   ]
  },
  {
   "cell_type": "code",
   "execution_count": 8,
   "id": "empty-massage",
   "metadata": {},
   "outputs": [
    {
     "data": {
      "text/plain": [
       "9222"
      ]
     },
     "execution_count": 8,
     "metadata": {},
     "output_type": "execute_result"
    }
   ],
   "source": [
    "n_users = len(df.User_id.unique())\n",
    "n_users"
   ]
  },
  {
   "cell_type": "code",
   "execution_count": 9,
   "id": "chubby-gross",
   "metadata": {},
   "outputs": [
    {
     "data": {
      "text/plain": [
       "1433"
      ]
     },
     "execution_count": 9,
     "metadata": {},
     "output_type": "execute_result"
    }
   ],
   "source": [
    "n_hotels = len(df.Item_id.unique())\n",
    "n_hotels"
   ]
  },
  {
   "cell_type": "markdown",
   "id": "acoustic-hayes",
   "metadata": {},
   "source": [
    "Create variables with the total number of unique users and item in the data, as well as the min and max ratings present in the data"
   ]
  },
  {
   "cell_type": "code",
   "execution_count": 10,
   "id": "electrical-poison",
   "metadata": {},
   "outputs": [
    {
     "name": "stdout",
     "output_type": "stream",
     "text": [
      "1.0 5.0\n"
     ]
    }
   ],
   "source": [
    "user_enc = LabelEncoder()\n",
    "df['user'] = user_enc.fit_transform(df['User_id'].values)\n",
    "n_users = df['user'].nunique()\n",
    "\n",
    "item_enc = LabelEncoder()\n",
    "df['item'] = item_enc.fit_transform(df['Item_id'].values)\n",
    "n_items = df['item'].nunique()\n",
    "\n",
    "df['rating'] = df['Rating'].values.astype(np.float32)\n",
    "min_rating = min(df['rating'])\n",
    "max_rating = max(df['rating'])\n",
    "n_users, n_items\n",
    "print(min_rating, max_rating)"
   ]
  },
  {
   "cell_type": "markdown",
   "id": "wicked-shopper",
   "metadata": {},
   "source": [
    "# Split the data into training and test data sets"
   ]
  },
  {
   "cell_type": "code",
   "execution_count": 11,
   "id": "moderate-donna",
   "metadata": {},
   "outputs": [
    {
     "data": {
      "text/plain": [
       "((7798, 2), (1950, 2), (7798,), (1950,))"
      ]
     },
     "execution_count": 11,
     "metadata": {},
     "output_type": "execute_result"
    }
   ],
   "source": [
    "X = df[['user', 'item']].values\n",
    "y = df['rating'].values\n",
    "X_train, X_test, y_train, y_test = train_test_split(X, y, test_size=0.2, random_state=42)\n",
    "X_train.shape, X_test.shape, y_train.shape, y_test.shape"
   ]
  },
  {
   "cell_type": "code",
   "execution_count": 39,
   "id": "0b8bdc91",
   "metadata": {},
   "outputs": [
    {
     "name": "stdout",
     "output_type": "stream",
     "text": [
      "0          0\n",
      "1       6853\n",
      "2       4632\n",
      "3       8325\n",
      "4       2065\n",
      "        ... \n",
      "9743    9093\n",
      "9744    9099\n",
      "9745    9127\n",
      "9746    9170\n",
      "9747    9194\n",
      "Name: user, Length: 9748, dtype: int64\n"
     ]
    }
   ],
   "source": [
    "print(df['user'])"
   ]
  },
  {
   "cell_type": "code",
   "execution_count": 40,
   "id": "5fcc46b4",
   "metadata": {},
   "outputs": [
    {
     "name": "stdout",
     "output_type": "stream",
     "text": [
      "0          0\n",
      "1          0\n",
      "2          0\n",
      "3          0\n",
      "4          1\n",
      "        ... \n",
      "9743    1428\n",
      "9744    1429\n",
      "9745    1430\n",
      "9746    1431\n",
      "9747    1432\n",
      "Name: item, Length: 9748, dtype: int64\n"
     ]
    }
   ],
   "source": [
    "print(df['item'])"
   ]
  },
  {
   "cell_type": "code",
   "execution_count": 17,
   "id": "african-teaching",
   "metadata": {},
   "outputs": [],
   "source": [
    "n_factors = 240\n",
    "X_train_array = [X_train[:, 0], X_train[:, 1]]\n",
    "X_test_array = [X_test[:, 0], X_test[:, 1]]"
   ]
  },
  {
   "cell_type": "markdown",
   "id": "hazardous-center",
   "metadata": {},
   "source": [
    "# Creating Neural Network\n",
    "\n",
    "Neural Networks proved there effectivness for almost every machine learning problem as of now and they also perform exceptionally well for recommendation systems.\n",
    "\n",
    "Embeddings are weights that are learned to represent some specific variable like items and user in our case and therefore we can not only use them to get good results on our problem but also to extract inside about our data."
   ]
  },
  {
   "cell_type": "code",
   "execution_count": 18,
   "id": "impressed-apollo",
   "metadata": {},
   "outputs": [],
   "source": [
    "# creating user embedding\n",
    "user = Input(shape=(1,))\n",
    "u = Embedding(n_users, n_factors, embeddings_initializer='he_normal',\n",
    "                  embeddings_regularizer=l2(1e-6))(user)\n",
    "u = Reshape((n_factors,))(u)\n",
    "\n",
    "# creating item embedding path\n",
    "item = Input(shape=(1,))\n",
    "i = Embedding(n_items, n_factors, embeddings_initializer='he_normal',\n",
    "                  embeddings_regularizer=l2(1e-6))(item)\n",
    "i = Reshape((n_factors,))(i)\n",
    "    \n",
    "# concatenate features\n",
    "x = Concatenate()([u, i])\n",
    "    \n",
    "# add fully-connected-layers\n",
    "fc1 = Dense(512, activation='relu')(x)\n",
    "fc2 = tf.keras.layers.Dropout(0.2)(fc1)\n",
    "out = Dense(1)(fc2)\n",
    "\n",
    "model = Model([user, item], out)\n",
    "opt = tf.keras.optimizers.RMSprop(lr=0.00001)\n",
    "model.compile(optimizer = opt, loss = 'mean_absolute_error', metrics=['accuracy'])"
   ]
  },
  {
   "cell_type": "code",
   "execution_count": 19,
   "id": "ecological-shipping",
   "metadata": {},
   "outputs": [
    {
     "name": "stdout",
     "output_type": "stream",
     "text": [
      "Model: \"model_1\"\n",
      "__________________________________________________________________________________________________\n",
      " Layer (type)                   Output Shape         Param #     Connected to                     \n",
      "==================================================================================================\n",
      " input_5 (InputLayer)           [(None, 1)]          0           []                               \n",
      "                                                                                                  \n",
      " input_6 (InputLayer)           [(None, 1)]          0           []                               \n",
      "                                                                                                  \n",
      " embedding_4 (Embedding)        (None, 1, 240)       2213280     ['input_5[0][0]']                \n",
      "                                                                                                  \n",
      " embedding_5 (Embedding)        (None, 1, 240)       343920      ['input_6[0][0]']                \n",
      "                                                                                                  \n",
      " reshape_4 (Reshape)            (None, 240)          0           ['embedding_4[0][0]']            \n",
      "                                                                                                  \n",
      " reshape_5 (Reshape)            (None, 240)          0           ['embedding_5[0][0]']            \n",
      "                                                                                                  \n",
      " concatenate_2 (Concatenate)    (None, 480)          0           ['reshape_4[0][0]',              \n",
      "                                                                  'reshape_5[0][0]']              \n",
      "                                                                                                  \n",
      " dense_3 (Dense)                (None, 512)          246272      ['concatenate_2[0][0]']          \n",
      "                                                                                                  \n",
      " dropout_1 (Dropout)            (None, 512)          0           ['dense_3[0][0]']                \n",
      "                                                                                                  \n",
      " dense_4 (Dense)                (None, 1)            513         ['dropout_1[0][0]']              \n",
      "                                                                                                  \n",
      "==================================================================================================\n",
      "Total params: 2,803,985\n",
      "Trainable params: 2,803,985\n",
      "Non-trainable params: 0\n",
      "__________________________________________________________________________________________________\n"
     ]
    }
   ],
   "source": [
    "model.summary()"
   ]
  },
  {
   "cell_type": "code",
   "execution_count": 20,
   "id": "de25e9e6",
   "metadata": {},
   "outputs": [
    {
     "name": "stdout",
     "output_type": "stream",
     "text": [
      "Epoch 1/30\n",
      "122/122 [==============================] - 14s 87ms/step - loss: 4.0604 - accuracy: 0.0000e+00 - val_loss: 4.0536 - val_accuracy: 0.0000e+00\n",
      "Epoch 2/30\n",
      "122/122 [==============================] - 10s 80ms/step - loss: 4.0256 - accuracy: 0.0000e+00 - val_loss: 4.0190 - val_accuracy: 0.0000e+00\n",
      "Epoch 3/30\n",
      "122/122 [==============================] - 10s 81ms/step - loss: 3.9902 - accuracy: 0.0000e+00 - val_loss: 3.9838 - val_accuracy: 0.0000e+00\n",
      "Epoch 4/30\n",
      "122/122 [==============================] - 10s 82ms/step - loss: 3.9543 - accuracy: 0.0000e+00 - val_loss: 3.9479 - val_accuracy: 0.0000e+00\n",
      "Epoch 5/30\n",
      "122/122 [==============================] - 10s 80ms/step - loss: 3.9176 - accuracy: 0.0000e+00 - val_loss: 3.9109 - val_accuracy: 0.0000e+00\n",
      "Epoch 6/30\n",
      "122/122 [==============================] - 10s 80ms/step - loss: 3.8797 - accuracy: 0.0000e+00 - val_loss: 3.8723 - val_accuracy: 0.0000e+00\n",
      "Epoch 7/30\n",
      "122/122 [==============================] - 10s 81ms/step - loss: 3.8399 - accuracy: 0.0000e+00 - val_loss: 3.8321 - val_accuracy: 0.0000e+00\n",
      "Epoch 8/30\n",
      "122/122 [==============================] - 10s 80ms/step - loss: 3.7981 - accuracy: 0.0000e+00 - val_loss: 3.7897 - val_accuracy: 0.0000e+00\n",
      "Epoch 9/30\n",
      "122/122 [==============================] - 10s 81ms/step - loss: 3.7540 - accuracy: 5.1295e-04 - val_loss: 3.7447 - val_accuracy: 0.0015\n",
      "Epoch 10/30\n",
      "122/122 [==============================] - 10s 83ms/step - loss: 3.7076 - accuracy: 0.0035 - val_loss: 3.6970 - val_accuracy: 0.0056\n",
      "Epoch 11/30\n",
      "122/122 [==============================] - 10s 83ms/step - loss: 3.6574 - accuracy: 0.0100 - val_loss: 3.6456 - val_accuracy: 0.0159\n",
      "Epoch 12/30\n",
      "122/122 [==============================] - 11s 87ms/step - loss: 3.6036 - accuracy: 0.0169 - val_loss: 3.5904 - val_accuracy: 0.0221\n",
      "Epoch 13/30\n",
      "122/122 [==============================] - 10s 82ms/step - loss: 3.5453 - accuracy: 0.0236 - val_loss: 3.5303 - val_accuracy: 0.0272\n",
      "Epoch 14/30\n",
      "122/122 [==============================] - 10s 83ms/step - loss: 3.4820 - accuracy: 0.0294 - val_loss: 3.4652 - val_accuracy: 0.0369\n",
      "Epoch 15/30\n",
      "122/122 [==============================] - 11s 87ms/step - loss: 3.4135 - accuracy: 0.0358 - val_loss: 3.3945 - val_accuracy: 0.0426\n",
      "Epoch 16/30\n",
      "122/122 [==============================] - 10s 84ms/step - loss: 3.3394 - accuracy: 0.0391 - val_loss: 3.3183 - val_accuracy: 0.0451\n",
      "Epoch 17/30\n",
      "122/122 [==============================] - 11s 90ms/step - loss: 3.2589 - accuracy: 0.0444 - val_loss: 3.2371 - val_accuracy: 0.0492\n",
      "Epoch 18/30\n",
      "122/122 [==============================] - 11s 87ms/step - loss: 3.1735 - accuracy: 0.0477 - val_loss: 3.1508 - val_accuracy: 0.0533\n",
      "Epoch 19/30\n",
      "122/122 [==============================] - 10s 81ms/step - loss: 3.0823 - accuracy: 0.0500 - val_loss: 3.0581 - val_accuracy: 0.0538\n",
      "Epoch 20/30\n",
      "122/122 [==============================] - 10s 82ms/step - loss: 2.9838 - accuracy: 0.0522 - val_loss: 2.9582 - val_accuracy: 0.0559\n",
      "Epoch 21/30\n",
      "122/122 [==============================] - 10s 82ms/step - loss: 2.8787 - accuracy: 0.0531 - val_loss: 2.8525 - val_accuracy: 0.0564\n",
      "Epoch 22/30\n",
      "122/122 [==============================] - 10s 82ms/step - loss: 2.7682 - accuracy: 0.0540 - val_loss: 2.7406 - val_accuracy: 0.0585\n",
      "Epoch 23/30\n",
      "122/122 [==============================] - 10s 83ms/step - loss: 2.6501 - accuracy: 0.0540 - val_loss: 2.6243 - val_accuracy: 0.0600\n",
      "Epoch 24/30\n",
      "122/122 [==============================] - 10s 83ms/step - loss: 2.5279 - accuracy: 0.0546 - val_loss: 2.5026 - val_accuracy: 0.0605\n",
      "Epoch 25/30\n",
      "122/122 [==============================] - 10s 83ms/step - loss: 2.3986 - accuracy: 0.0551 - val_loss: 2.3746 - val_accuracy: 0.0605\n",
      "Epoch 26/30\n",
      "122/122 [==============================] - 10s 82ms/step - loss: 2.2666 - accuracy: 0.0553 - val_loss: 2.2446 - val_accuracy: 0.0605\n",
      "Epoch 27/30\n",
      "122/122 [==============================] - 10s 81ms/step - loss: 2.1334 - accuracy: 0.0553 - val_loss: 2.1138 - val_accuracy: 0.0605\n",
      "Epoch 28/30\n",
      "122/122 [==============================] - 10s 82ms/step - loss: 2.0038 - accuracy: 0.0551 - val_loss: 1.9866 - val_accuracy: 0.0615\n",
      "Epoch 29/30\n",
      "122/122 [==============================] - 10s 82ms/step - loss: 1.8774 - accuracy: 0.0557 - val_loss: 1.8620 - val_accuracy: 0.0615\n",
      "Epoch 30/30\n",
      "122/122 [==============================] - 10s 83ms/step - loss: 1.7575 - accuracy: 0.0557 - val_loss: 1.7455 - val_accuracy: 0.0615\n"
     ]
    }
   ],
   "source": [
    "history = model.fit(x=X_train_array, y=y_train, batch_size=64, epochs=30,\n",
    "                    verbose=1, validation_data=(X_test_array, y_test))"
   ]
  },
  {
   "cell_type": "code",
   "execution_count": 22,
   "id": "vocal-chance",
   "metadata": {},
   "outputs": [
    {
     "data": {
      "image/png": "[encoded data removed]",
      "text/plain": [
       "<Figure size 432x288 with 1 Axes>"
      ]
     },
     "metadata": {
      "needs_background": "light"
     },
     "output_type": "display_data"
    }
   ],
   "source": [
    "train_loss = history.history['loss']\n",
    "val_loss = history.history['val_loss']\n",
    "plt.plot(train_loss, color='r', label='Train Loss')\n",
    "plt.plot(val_loss, color='b', label='Validation Loss')\n",
    "plt.title(\"Train and Validation Loss Curve\")\n",
    "plt.legend()\n",
    "plt.show()"
   ]
  },
  {
   "cell_type": "markdown",
   "id": "laden-qualification",
   "metadata": {},
   "source": [
    "## Creating RMSE function for Neural Network"
   ]
  },
  {
   "cell_type": "code",
   "execution_count": 23,
   "id": "suited-floating",
   "metadata": {},
   "outputs": [],
   "source": [
    "def root_mean_squared_error(y_test, y_train):\n",
    "        return K.sqrt(K.mean(K.square(y_test - y_train))) "
   ]
  },
  {
   "cell_type": "code",
   "execution_count": 24,
   "id": "latter-mailing",
   "metadata": {},
   "outputs": [],
   "source": [
    "# creating user embedding\n",
    "user = Input(shape=(1,))\n",
    "u = Embedding(n_users, n_factors, embeddings_initializer='he_normal',\n",
    "                  embeddings_regularizer=l2(1e-6))(user)\n",
    "u = Reshape((n_factors,))(u)\n",
    "\n",
    "# creating item embedding path\n",
    "item = Input(shape=(1,))\n",
    "i = Embedding(n_items, n_factors, embeddings_initializer='he_normal',\n",
    "                  embeddings_regularizer=l2(1e-6))(item)\n",
    "i = Reshape((n_factors,))(i)\n",
    "    \n",
    "# concatenate features\n",
    "x = Concatenate()([u, i])\n",
    "     \n",
    "# add fully-connected-layers\n",
    "fc1 = Dense(512, activation='relu')(x)\n",
    "fc2 = tf.keras.layers.Dropout(0.2)(fc1)\n",
    "out = Dense(1)(fc2)\n",
    "\n",
    "model = Model([user, item], out)\n",
    "opt = tf.keras.optimizers.RMSprop(lr=0.00001)\n",
    "model.compile(optimizer = opt , loss = root_mean_squared_error, metrics=['accuracy'])"
   ]
  },
  {
   "cell_type": "code",
   "execution_count": 25,
   "id": "limiting-token",
   "metadata": {},
   "outputs": [
    {
     "name": "stdout",
     "output_type": "stream",
     "text": [
      "Model: \"model_2\"\n",
      "__________________________________________________________________________________________________\n",
      " Layer (type)                   Output Shape         Param #     Connected to                     \n",
      "==================================================================================================\n",
      " input_7 (InputLayer)           [(None, 1)]          0           []                               \n",
      "                                                                                                  \n",
      " input_8 (InputLayer)           [(None, 1)]          0           []                               \n",
      "                                                                                                  \n",
      " embedding_6 (Embedding)        (None, 1, 240)       2213280     ['input_7[0][0]']                \n",
      "                                                                                                  \n",
      " embedding_7 (Embedding)        (None, 1, 240)       343920      ['input_8[0][0]']                \n",
      "                                                                                                  \n",
      " reshape_6 (Reshape)            (None, 240)          0           ['embedding_6[0][0]']            \n",
      "                                                                                                  \n",
      " reshape_7 (Reshape)            (None, 240)          0           ['embedding_7[0][0]']            \n",
      "                                                                                                  \n",
      " concatenate_3 (Concatenate)    (None, 480)          0           ['reshape_6[0][0]',              \n",
      "                                                                  'reshape_7[0][0]']              \n",
      "                                                                                                  \n",
      " dense_5 (Dense)                (None, 512)          246272      ['concatenate_3[0][0]']          \n",
      "                                                                                                  \n",
      " dropout_2 (Dropout)            (None, 512)          0           ['dense_5[0][0]']                \n",
      "                                                                                                  \n",
      " dense_6 (Dense)                (None, 1)            513         ['dropout_2[0][0]']              \n",
      "                                                                                                  \n",
      "==================================================================================================\n",
      "Total params: 2,803,985\n",
      "Trainable params: 2,803,985\n",
      "Non-trainable params: 0\n",
      "__________________________________________________________________________________________________\n"
     ]
    }
   ],
   "source": [
    "model.summary()"
   ]
  },
  {
   "cell_type": "code",
   "execution_count": 26,
   "id": "fifteen-burns",
   "metadata": {},
   "outputs": [
    {
     "name": "stdout",
     "output_type": "stream",
     "text": [
      "Epoch 1/30\n",
      "122/122 [==============================] - 12s 84ms/step - loss: 4.2298 - accuracy: 0.0000e+00 - val_loss: 4.2249 - val_accuracy: 0.0000e+00\n",
      "Epoch 2/30\n",
      "122/122 [==============================] - 10s 79ms/step - loss: 4.1968 - accuracy: 0.0000e+00 - val_loss: 4.1922 - val_accuracy: 0.0000e+00\n",
      "Epoch 3/30\n",
      "122/122 [==============================] - 10s 80ms/step - loss: 4.1631 - accuracy: 0.0000e+00 - val_loss: 4.1592 - val_accuracy: 0.0000e+00\n",
      "Epoch 4/30\n",
      "122/122 [==============================] - 10s 83ms/step - loss: 4.1298 - accuracy: 0.0000e+00 - val_loss: 4.1255 - val_accuracy: 0.0000e+00\n",
      "Epoch 5/30\n",
      "122/122 [==============================] - 10s 81ms/step - loss: 4.0953 - accuracy: 0.0000e+00 - val_loss: 4.0911 - val_accuracy: 0.0000e+00\n",
      "Epoch 6/30\n",
      "122/122 [==============================] - 10s 82ms/step - loss: 4.0600 - accuracy: 0.0000e+00 - val_loss: 4.0556 - val_accuracy: 0.0000e+00\n",
      "Epoch 7/30\n",
      "122/122 [==============================] - 11s 88ms/step - loss: 4.0239 - accuracy: 0.0000e+00 - val_loss: 4.0189 - val_accuracy: 0.0000e+00\n",
      "Epoch 8/30\n",
      "122/122 [==============================] - 9s 74ms/step - loss: 3.9863 - accuracy: 0.0000e+00 - val_loss: 3.9805 - val_accuracy: 0.0000e+00\n",
      "Epoch 9/30\n",
      "122/122 [==============================] - 9s 74ms/step - loss: 3.9458 - accuracy: 1.2824e-04 - val_loss: 3.9401 - val_accuracy: 0.0000e+00\n",
      "Epoch 10/30\n",
      "122/122 [==============================] - 9s 74ms/step - loss: 3.9044 - accuracy: 7.6943e-04 - val_loss: 3.8975 - val_accuracy: 5.1282e-04\n",
      "Epoch 11/30\n",
      "122/122 [==============================] - 9s 73ms/step - loss: 3.8602 - accuracy: 0.0042 - val_loss: 3.8522 - val_accuracy: 0.0077\n",
      "Epoch 12/30\n",
      "122/122 [==============================] - 9s 74ms/step - loss: 3.8132 - accuracy: 0.0101 - val_loss: 3.8039 - val_accuracy: 0.0190\n",
      "Epoch 13/30\n",
      "122/122 [==============================] - 9s 74ms/step - loss: 3.7610 - accuracy: 0.0164 - val_loss: 3.7521 - val_accuracy: 0.0236\n",
      "Epoch 14/30\n",
      "122/122 [==============================] - 10s 82ms/step - loss: 3.7066 - accuracy: 0.0206 - val_loss: 3.6962 - val_accuracy: 0.0272\n",
      "Epoch 15/30\n",
      "122/122 [==============================] - 9s 76ms/step - loss: 3.6484 - accuracy: 0.0274 - val_loss: 3.6358 - val_accuracy: 0.0344\n",
      "Epoch 16/30\n",
      "122/122 [==============================] - 9s 77ms/step - loss: 3.5847 - accuracy: 0.0337 - val_loss: 3.5707 - val_accuracy: 0.0421\n",
      "Epoch 17/30\n",
      "122/122 [==============================] - 11s 86ms/step - loss: 3.5155 - accuracy: 0.0415 - val_loss: 3.5001 - val_accuracy: 0.0472\n",
      "Epoch 18/30\n",
      "122/122 [==============================] - 10s 85ms/step - loss: 3.4415 - accuracy: 0.0445 - val_loss: 3.4241 - val_accuracy: 0.0497\n",
      "Epoch 19/30\n",
      "122/122 [==============================] - 10s 85ms/step - loss: 3.3613 - accuracy: 0.0472 - val_loss: 3.3429 - val_accuracy: 0.0513\n",
      "Epoch 20/30\n",
      "122/122 [==============================] - 10s 83ms/step - loss: 3.2759 - accuracy: 0.0507 - val_loss: 3.2555 - val_accuracy: 0.0559\n",
      "Epoch 21/30\n",
      "122/122 [==============================] - 10s 82ms/step - loss: 3.1837 - accuracy: 0.0523 - val_loss: 3.1632 - val_accuracy: 0.0585\n",
      "Epoch 22/30\n",
      "122/122 [==============================] - 10s 82ms/step - loss: 3.0879 - accuracy: 0.0532 - val_loss: 3.0656 - val_accuracy: 0.0590\n",
      "Epoch 23/30\n",
      "122/122 [==============================] - 10s 82ms/step - loss: 2.9855 - accuracy: 0.0544 - val_loss: 2.9635 - val_accuracy: 0.0590\n",
      "Epoch 24/30\n",
      "122/122 [==============================] - 10s 82ms/step - loss: 2.8793 - accuracy: 0.0548 - val_loss: 2.8572 - val_accuracy: 0.0595\n",
      "Epoch 25/30\n",
      "122/122 [==============================] - 10s 84ms/step - loss: 2.7681 - accuracy: 0.0551 - val_loss: 2.7478 - val_accuracy: 0.0595\n",
      "Epoch 26/30\n",
      "122/122 [==============================] - 10s 83ms/step - loss: 2.6551 - accuracy: 0.0550 - val_loss: 2.6370 - val_accuracy: 0.0605\n",
      "Epoch 27/30\n",
      "122/122 [==============================] - 10s 83ms/step - loss: 2.5432 - accuracy: 0.0557 - val_loss: 2.5254 - val_accuracy: 0.0610\n",
      "Epoch 28/30\n",
      "122/122 [==============================] - 10s 83ms/step - loss: 2.4293 - accuracy: 0.0558 - val_loss: 2.4162 - val_accuracy: 0.0610\n",
      "Epoch 29/30\n",
      "122/122 [==============================] - 10s 83ms/step - loss: 2.3169 - accuracy: 0.0557 - val_loss: 2.3112 - val_accuracy: 0.0615\n",
      "Epoch 30/30\n",
      "122/122 [==============================] - 10s 83ms/step - loss: 2.2150 - accuracy: 0.0558 - val_loss: 2.2128 - val_accuracy: 0.0615\n"
     ]
    }
   ],
   "source": [
    "history = model.fit(x=X_train_array, y=y_train, batch_size=64, epochs=30,\n",
    "                    verbose=1, validation_data=(X_test_array, y_test))"
   ]
  },
  {
   "cell_type": "code",
   "execution_count": 27,
   "id": "vocal-chance",
   "metadata": {},
   "outputs": [
    {
     "data": {
      "image/png": "[encoded data removed]",
      "text/plain": [
       "<Figure size 432x288 with 1 Axes>"
      ]
     },
     "metadata": {
      "needs_background": "light"
     },
     "output_type": "display_data"
    }
   ],
   "source": [
    "train_loss = history.history['loss']\n",
    "val_loss = history.history['val_loss']\n",
    "plt.plot(train_loss, color='r', label='Train Loss')\n",
    "plt.plot(val_loss, color='b', label='Validation Loss')\n",
    "plt.title(\"Train and Validation Loss Curve\")\n",
    "plt.legend()\n",
    "plt.show()"
   ]
  },
  {
   "cell_type": "markdown",
   "id": "effective-label",
   "metadata": {},
   "source": [
    "# Making Recommendations"
   ]
  },
  {
   "cell_type": "code",
   "execution_count": 74,
   "id": "elect-antique",
   "metadata": {},
   "outputs": [
    {
     "data": {
      "text/plain": [
       "array([0, 1, 2, 3, 4])"
      ]
     },
     "execution_count": 74,
     "metadata": {},
     "output_type": "execute_result"
    }
   ],
   "source": [
    "# Creating dataset for making recommendations for the first user\n",
    "hotel_data = np.array(list(set(df.Item_id)))\n",
    "hotel_data[:5]"
   ]
  },
  {
   "cell_type": "code",
   "execution_count": 75,
   "id": "assisted-immune",
   "metadata": {},
   "outputs": [
    {
     "data": {
      "text/plain": [
       "array([1, 1, 1, 1, 1])"
      ]
     },
     "execution_count": 75,
     "metadata": {},
     "output_type": "execute_result"
    }
   ],
   "source": [
    "user = np.array([1 for i in range(len(hotel_data))])\n",
    "user[:5]"
   ]
  },
  {
   "cell_type": "code",
   "execution_count": 76,
   "id": "vital-glass",
   "metadata": {},
   "outputs": [
    {
     "data": {
      "text/plain": [
       "array([72, 49, 59, 19, 36], dtype=int64)"
      ]
     },
     "execution_count": 76,
     "metadata": {},
     "output_type": "execute_result"
    }
   ],
   "source": [
    "predictions = model.predict([user, hotel_data])\n",
    "\n",
    "predictions = np.array([a[0] for a in predictions])\n",
    "\n",
    "recommended_item_ids = (-predictions).argsort()[:5]\n",
    "\n",
    "recommended_item_ids"
   ]
  },
  {
   "cell_type": "code",
   "execution_count": 77,
   "id": "transparent-vision",
   "metadata": {},
   "outputs": [
    {
     "data": {
      "text/plain": [
       "array([0.19043083, 0.18687372, 0.18581037, 0.18546915, 0.18278559],\n",
       "      dtype=float32)"
      ]
     },
     "execution_count": 77,
     "metadata": {},
     "output_type": "execute_result"
    }
   ],
   "source": [
    "# print predicted scores\n",
    "predictions[recommended_item_ids]"
   ]
  },
  {
   "cell_type": "markdown",
   "id": "electrical-flesh",
   "metadata": {},
   "source": [
    "# Recommend Hotel Cluster for a User"
   ]
  },
  {
   "cell_type": "code",
   "execution_count": 99,
   "id": "enhanced-creator",
   "metadata": {},
   "outputs": [],
   "source": [
    "rows = []\n",
    "hotel = list(df.drop_duplicates(subset='Item_id', keep='first').Item_id)\n",
    "names = list(df.drop_duplicates(subset='Item_id', keep='first').Item_id)\n",
    "\n",
    "for i in range(len(hotel)):\n",
    "    rows.append( dict({'name': names[i], 'Item_id' : hotel[i], 'User_id' : 1048}))\n",
    "test_data = pd.DataFrame(rows)"
   ]
  },
  {
   "cell_type": "code",
   "execution_count": 100,
   "id": "impressive-facing",
   "metadata": {},
   "outputs": [
    {
     "name": "stdout",
     "output_type": "stream",
     "text": [
      "Score:  72.0  for hotel cluster:  1\n",
      "Score:  59.0  for hotel cluster:  21\n",
      "Score:  49.0  for hotel cluster:  80\n",
      "Score:  36.0  for hotel cluster:  41\n",
      "Score:  19.0  for hotel cluster:  92\n"
     ]
    }
   ],
   "source": [
    "for idx, (score, name) in enumerate(sorted(zip(recommended_item_ids, names), reverse=True)):\n",
    " \n",
    "    print(\"Score: \", round(float(score), 2), \" for hotel cluster: \", name)"
   ]
  },
  {
   "cell_type": "code",
   "execution_count": 41,
   "id": "ideal-october",
   "metadata": {},
   "outputs": [
    {
     "data": {
      "text/plain": [
       "array([0, 1, 2, 3, 4, 5, 6, 7, 8, 9])"
      ]
     },
     "execution_count": 41,
     "metadata": {},
     "output_type": "execute_result"
    }
   ],
   "source": [
    "hotel_data = np.array(list(set(df['item'])))\n",
    "hotel_data[:10]"
   ]
  },
  {
   "cell_type": "code",
   "execution_count": 42,
   "id": "60e785af",
   "metadata": {},
   "outputs": [
    {
     "data": {
      "text/plain": [
       "array([20, 20, 20, 20, 20, 20, 20, 20, 20, 20])"
      ]
     },
     "execution_count": 42,
     "metadata": {},
     "output_type": "execute_result"
    }
   ],
   "source": [
    "id_user = 20\n",
    "user = np.array([id_user for i in range (len(hotel_data))])\n",
    "user[:10]"
   ]
  },
  {
   "cell_type": "code",
   "execution_count": 43,
   "id": "9db3ce1c",
   "metadata": {},
   "outputs": [
    {
     "name": "stdout",
     "output_type": "stream",
     "text": [
      "45/45 [==============================] - 0s 5ms/step\n"
     ]
    },
    {
     "data": {
      "text/plain": [
       "array([  6,  83, 138,  21,  84,   4,  62, 115,  77,  34])"
      ]
     },
     "execution_count": 43,
     "metadata": {},
     "output_type": "execute_result"
    }
   ],
   "source": [
    "predictions = model.predict([user, hotel_data])\n",
    "predictions = np.array([a[0] for a in predictions])\n",
    "recommended_hotel_id = (-predictions).argsort()[:10]\n",
    "recommended_hotel_id"
   ]
  },
  {
   "cell_type": "code",
   "execution_count": 44,
   "id": "cf817c17",
   "metadata": {},
   "outputs": [
    {
     "data": {
      "text/plain": [
       "array([4.595995 , 4.157644 , 3.9491413, 3.9372382, 3.914852 , 3.8839493,\n",
       "       3.7683673, 3.7665148, 3.7572596, 3.6514044], dtype=float32)"
      ]
     },
     "execution_count": 44,
     "metadata": {},
     "output_type": "execute_result"
    }
   ],
   "source": [
    "predictions[recommended_hotel_id]"
   ]
  }
 ],
 "metadata": {
  "interpreter": {
   "hash": "cd78fef2128015050713e82ca51c6520b11aee7c9ee8df750520bbbc7384cbaa"
  },
  "kernelspec": {
   "display_name": "Python 3.8.5 ('base')",
   "language": "python",
   "name": "python3"
  },
  "language_info": {
   "codemirror_mode": {
    "name": "ipython",
    "version": 3
   },
   "file_extension": ".py",
   "mimetype": "text/x-python",
   "name": "python",
   "nbconvert_exporter": "python",
   "pygments_lexer": "ipython3",
   "version": "3.8.5"
  }
 },
 "nbformat": 4,
 "nbformat_minor": 5
}
