{
  "nbformat": 4,
  "nbformat_minor": 0,
  "metadata": {
    "colab": {
      "name": "Untitled0.ipynb",
      "provenance": []
    },
    "kernelspec": {
      "name": "python3",
      "display_name": "Python 3"
    },
    "language_info": {
      "name": "python"
    },
    "gpuClass": "standard"
  },
  "cells": [
    {
      "cell_type": "code",
      "execution_count": 1,
      "metadata": {
        "id": "sLpEkx9GQyyE"
      },
      "outputs": [],
      "source": [
        "import numpy as np\n",
        "import pandas as pd\n",
        "import matplotlib.pyplot as plt\n",
        "import os\n",
        "import warnings\n",
        "import tensorflow as tf\n",
        "from tensorflow.keras import backend as K\n",
        "\n",
        "from tensorflow.keras.layers import Embedding, Flatten, Concatenate\n",
        "from tensorflow.keras.models import Model\n",
        "from tensorflow.keras.layers import Dense, LSTM, BatchNormalization\n",
        "from tensorflow.keras.layers import Input, Reshape, Dot\n",
        "from tensorflow.keras.optimizers import Adam\n",
        "from tensorflow.keras.regularizers import l2\n",
        "\n",
        "from sklearn.model_selection import train_test_split\n",
        "from sklearn.preprocessing import LabelEncoder\n",
        "\n",
        "warnings.filterwarnings('ignore')\n",
        "%matplotlib inline"
      ]
    },
    {
      "cell_type": "code",
      "source": [
        "url = 'https://raw.githubusercontent.com/zulfauzi92/Hotel_Recomendation_Model_Traveloka/main/Eksplorasi%20Data/Eksperimen/csv_eksperimen/goiboi%2Bdatafiniti_merge_user-collaborative-based.csv'\n",
        "hotel_train_data = pd.read_csv(url)"
      ],
      "metadata": {
        "id": "wNG74D7AQ0fq"
      },
      "execution_count": 2,
      "outputs": []
    },
    {
      "cell_type": "code",
      "source": [
        "hotel_train_data.head(2)"
      ],
      "metadata": {
        "colab": {
          "base_uri": "https://localhost:8080/",
          "height": 362
        },
        "id": "2MYoJ-QVQ2Ob",
        "outputId": "d9918d81-36b3-4fb5-ec04-b39a3653aa7f"
      },
      "execution_count": 3,
      "outputs": [
        {
          "output_type": "execute_result",
          "data": {
            "text/plain": [
              "  property_id  user_id  user_rating  \\\n",
              "0     H000001        0            4   \n",
              "1     H000001     6853            2   \n",
              "\n",
              "                                        user_reviews     property_name  \\\n",
              "0  Staff were helpful and friendly. Wireless inte...  Baragarh Regency   \n",
              "1  Service was fine but the hotel was worn down: ...  Baragarh Regency   \n",
              "\n",
              "                                   hotel_description  \\\n",
              "0  The standard check-in time is 12:00 PM and the...   \n",
              "1  The standard check-in time is 12:00 PM and the...   \n",
              "\n",
              "                                             address  \\\n",
              "0  15th Mile, N.H.21,Manali, District Kullu,Himac...   \n",
              "1  15th Mile, N.H.21,Manali, District Kullu,Himac...   \n",
              "\n",
              "                                   point_of_interest    city  \\\n",
              "0  ['Hadimba Temple', 'Naggar Village', 'Himalaya...  Manali   \n",
              "1  ['Hadimba Temple', 'Naggar Village', 'Himalaya...  Manali   \n",
              "\n",
              "              state  ... Two Line Telephone  Utensils (on request)  \\\n",
              "0  Himachal Pradesh  ...                  0                      0   \n",
              "1  Himachal Pradesh  ...                  0                      0   \n",
              "\n",
              "   Video/ DVD/ CD Player Available Voicemail.1  Wardrobe Washing machine  \\\n",
              "0                                0           0         0               0   \n",
              "1                                0           0         0               0   \n",
              "\n",
              "  Western Toilet Seat  Window Opens  Work Station  Working Desk Phone  \n",
              "0                   1             1             0                   0  \n",
              "1                   1             1             0                   0  \n",
              "\n",
              "[2 rows x 385 columns]"
            ],
            "text/html": [
              "\n",
              "  <div id=\"df-b9e95a03-333c-407f-b7cd-1806f52ac931\">\n",
              "    <div class=\"colab-df-container\">\n",
              "      <div>\n",
              "<style scoped>\n",
              "    .dataframe tbody tr th:only-of-type {\n",
              "        vertical-align: middle;\n",
              "    }\n",
              "\n",
              "    .dataframe tbody tr th {\n",
              "        vertical-align: top;\n",
              "    }\n",
              "\n",
              "    .dataframe thead th {\n",
              "        text-align: right;\n",
              "    }\n",
              "</style>\n",
              "<table border=\"1\" class=\"dataframe\">\n",
              "  <thead>\n",
              "    <tr style=\"text-align: right;\">\n",
              "      <th></th>\n",
              "      <th>property_id</th>\n",
              "      <th>user_id</th>\n",
              "      <th>user_rating</th>\n",
              "      <th>user_reviews</th>\n",
              "      <th>property_name</th>\n",
              "      <th>hotel_description</th>\n",
              "      <th>address</th>\n",
              "      <th>point_of_interest</th>\n",
              "      <th>city</th>\n",
              "      <th>state</th>\n",
              "      <th>...</th>\n",
              "      <th>Two Line Telephone</th>\n",
              "      <th>Utensils (on request)</th>\n",
              "      <th>Video/ DVD/ CD Player Available</th>\n",
              "      <th>Voicemail.1</th>\n",
              "      <th>Wardrobe</th>\n",
              "      <th>Washing machine</th>\n",
              "      <th>Western Toilet Seat</th>\n",
              "      <th>Window Opens</th>\n",
              "      <th>Work Station</th>\n",
              "      <th>Working Desk Phone</th>\n",
              "    </tr>\n",
              "  </thead>\n",
              "  <tbody>\n",
              "    <tr>\n",
              "      <th>0</th>\n",
              "      <td>H000001</td>\n",
              "      <td>0</td>\n",
              "      <td>4</td>\n",
              "      <td>Staff were helpful and friendly. Wireless inte...</td>\n",
              "      <td>Baragarh Regency</td>\n",
              "      <td>The standard check-in time is 12:00 PM and the...</td>\n",
              "      <td>15th Mile, N.H.21,Manali, District Kullu,Himac...</td>\n",
              "      <td>['Hadimba Temple', 'Naggar Village', 'Himalaya...</td>\n",
              "      <td>Manali</td>\n",
              "      <td>Himachal Pradesh</td>\n",
              "      <td>...</td>\n",
              "      <td>0</td>\n",
              "      <td>0</td>\n",
              "      <td>0</td>\n",
              "      <td>0</td>\n",
              "      <td>0</td>\n",
              "      <td>0</td>\n",
              "      <td>1</td>\n",
              "      <td>1</td>\n",
              "      <td>0</td>\n",
              "      <td>0</td>\n",
              "    </tr>\n",
              "    <tr>\n",
              "      <th>1</th>\n",
              "      <td>H000001</td>\n",
              "      <td>6853</td>\n",
              "      <td>2</td>\n",
              "      <td>Service was fine but the hotel was worn down: ...</td>\n",
              "      <td>Baragarh Regency</td>\n",
              "      <td>The standard check-in time is 12:00 PM and the...</td>\n",
              "      <td>15th Mile, N.H.21,Manali, District Kullu,Himac...</td>\n",
              "      <td>['Hadimba Temple', 'Naggar Village', 'Himalaya...</td>\n",
              "      <td>Manali</td>\n",
              "      <td>Himachal Pradesh</td>\n",
              "      <td>...</td>\n",
              "      <td>0</td>\n",
              "      <td>0</td>\n",
              "      <td>0</td>\n",
              "      <td>0</td>\n",
              "      <td>0</td>\n",
              "      <td>0</td>\n",
              "      <td>1</td>\n",
              "      <td>1</td>\n",
              "      <td>0</td>\n",
              "      <td>0</td>\n",
              "    </tr>\n",
              "  </tbody>\n",
              "</table>\n",
              "<p>2 rows × 385 columns</p>\n",
              "</div>\n",
              "      <button class=\"colab-df-convert\" onclick=\"convertToInteractive('df-b9e95a03-333c-407f-b7cd-1806f52ac931')\"\n",
              "              title=\"Convert this dataframe to an interactive table.\"\n",
              "              style=\"display:none;\">\n",
              "        \n",
              "  <svg xmlns=\"http://www.w3.org/2000/svg\" height=\"24px\"viewBox=\"0 0 24 24\"\n",
              "       width=\"24px\">\n",
              "    <path d=\"M0 0h24v24H0V0z\" fill=\"none\"/>\n",
              "    <path d=\"M18.56 5.44l.94 2.06.94-2.06 2.06-.94-2.06-.94-.94-2.06-.94 2.06-2.06.94zm-11 1L8.5 8.5l.94-2.06 2.06-.94-2.06-.94L8.5 2.5l-.94 2.06-2.06.94zm10 10l.94 2.06.94-2.06 2.06-.94-2.06-.94-.94-2.06-.94 2.06-2.06.94z\"/><path d=\"M17.41 7.96l-1.37-1.37c-.4-.4-.92-.59-1.43-.59-.52 0-1.04.2-1.43.59L10.3 9.45l-7.72 7.72c-.78.78-.78 2.05 0 2.83L4 21.41c.39.39.9.59 1.41.59.51 0 1.02-.2 1.41-.59l7.78-7.78 2.81-2.81c.8-.78.8-2.07 0-2.86zM5.41 20L4 18.59l7.72-7.72 1.47 1.35L5.41 20z\"/>\n",
              "  </svg>\n",
              "      </button>\n",
              "      \n",
              "  <style>\n",
              "    .colab-df-container {\n",
              "      display:flex;\n",
              "      flex-wrap:wrap;\n",
              "      gap: 12px;\n",
              "    }\n",
              "\n",
              "    .colab-df-convert {\n",
              "      background-color: #E8F0FE;\n",
              "      border: none;\n",
              "      border-radius: 50%;\n",
              "      cursor: pointer;\n",
              "      display: none;\n",
              "      fill: #1967D2;\n",
              "      height: 32px;\n",
              "      padding: 0 0 0 0;\n",
              "      width: 32px;\n",
              "    }\n",
              "\n",
              "    .colab-df-convert:hover {\n",
              "      background-color: #E2EBFA;\n",
              "      box-shadow: 0px 1px 2px rgba(60, 64, 67, 0.3), 0px 1px 3px 1px rgba(60, 64, 67, 0.15);\n",
              "      fill: #174EA6;\n",
              "    }\n",
              "\n",
              "    [theme=dark] .colab-df-convert {\n",
              "      background-color: #3B4455;\n",
              "      fill: #D2E3FC;\n",
              "    }\n",
              "\n",
              "    [theme=dark] .colab-df-convert:hover {\n",
              "      background-color: #434B5C;\n",
              "      box-shadow: 0px 1px 3px 1px rgba(0, 0, 0, 0.15);\n",
              "      filter: drop-shadow(0px 1px 2px rgba(0, 0, 0, 0.3));\n",
              "      fill: #FFFFFF;\n",
              "    }\n",
              "  </style>\n",
              "\n",
              "      <script>\n",
              "        const buttonEl =\n",
              "          document.querySelector('#df-b9e95a03-333c-407f-b7cd-1806f52ac931 button.colab-df-convert');\n",
              "        buttonEl.style.display =\n",
              "          google.colab.kernel.accessAllowed ? 'block' : 'none';\n",
              "\n",
              "        async function convertToInteractive(key) {\n",
              "          const element = document.querySelector('#df-b9e95a03-333c-407f-b7cd-1806f52ac931');\n",
              "          const dataTable =\n",
              "            await google.colab.kernel.invokeFunction('convertToInteractive',\n",
              "                                                     [key], {});\n",
              "          if (!dataTable) return;\n",
              "\n",
              "          const docLinkHtml = 'Like what you see? Visit the ' +\n",
              "            '<a target=\"_blank\" href=https://colab.research.google.com/notebooks/data_table.ipynb>data table notebook</a>'\n",
              "            + ' to learn more about interactive tables.';\n",
              "          element.innerHTML = '';\n",
              "          dataTable['output_type'] = 'display_data';\n",
              "          await google.colab.output.renderOutput(dataTable, element);\n",
              "          const docLink = document.createElement('div');\n",
              "          docLink.innerHTML = docLinkHtml;\n",
              "          element.appendChild(docLink);\n",
              "        }\n",
              "      </script>\n",
              "    </div>\n",
              "  </div>\n",
              "  "
            ]
          },
          "metadata": {},
          "execution_count": 3
        }
      ]
    },
    {
      "cell_type": "code",
      "source": [
        "df = hotel_train_data[['user_id','property_id','user_rating']]"
      ],
      "metadata": {
        "id": "U46CEXXWQ3vq"
      },
      "execution_count": 4,
      "outputs": []
    },
    {
      "cell_type": "code",
      "source": [
        "property= df['property_id']\n",
        "values = property.values\n",
        "values"
      ],
      "metadata": {
        "colab": {
          "base_uri": "https://localhost:8080/"
        },
        "id": "h_tidCrsQ5_b",
        "outputId": "14637470-e7cb-4457-bdce-b99bf2c33c39"
      },
      "execution_count": 5,
      "outputs": [
        {
          "output_type": "execute_result",
          "data": {
            "text/plain": [
              "array(['H000001', 'H000001', 'H000001', ..., 'H001431', 'H001432',\n",
              "       'H001433'], dtype=object)"
            ]
          },
          "metadata": {},
          "execution_count": 5
        }
      ]
    },
    {
      "cell_type": "code",
      "source": [
        "test = []\n",
        "for item in range(len(values)):\n",
        "  #print(values[item])\n",
        "  test.append(int(values[item][1:]))"
      ],
      "metadata": {
        "id": "G7gExU2BQ-BO"
      },
      "execution_count": 6,
      "outputs": []
    },
    {
      "cell_type": "code",
      "source": [
        "np.array(test)"
      ],
      "metadata": {
        "colab": {
          "base_uri": "https://localhost:8080/"
        },
        "id": "bqjF7XrURGEm",
        "outputId": "7a157088-5d7e-445f-968d-b882893eaca0"
      },
      "execution_count": 7,
      "outputs": [
        {
          "output_type": "execute_result",
          "data": {
            "text/plain": [
              "array([   1,    1,    1, ..., 1431, 1432, 1433])"
            ]
          },
          "metadata": {},
          "execution_count": 7
        }
      ]
    },
    {
      "cell_type": "code",
      "source": [
        "coba = pd.DataFrame(np.array(test))"
      ],
      "metadata": {
        "id": "z3fH2_LaRjaO"
      },
      "execution_count": 8,
      "outputs": []
    },
    {
      "cell_type": "code",
      "source": [
        "df['property_id']=coba[0]\n",
        "df['user_id'] += 1 "
      ],
      "metadata": {
        "id": "5vZHrH5CS6uu"
      },
      "execution_count": 9,
      "outputs": []
    },
    {
      "cell_type": "code",
      "source": [
        "df.head(2)"
      ],
      "metadata": {
        "colab": {
          "base_uri": "https://localhost:8080/",
          "height": 112
        },
        "id": "R55wL0I2S7Xy",
        "outputId": "85875319-d2b6-42aa-abe3-b5cc2206e931"
      },
      "execution_count": 10,
      "outputs": [
        {
          "output_type": "execute_result",
          "data": {
            "text/plain": [
              "   user_id  property_id  user_rating\n",
              "0        1            1            4\n",
              "1     6854            1            2"
            ],
            "text/html": [
              "\n",
              "  <div id=\"df-31ff5b3f-fc38-4b45-93b7-fa414c227350\">\n",
              "    <div class=\"colab-df-container\">\n",
              "      <div>\n",
              "<style scoped>\n",
              "    .dataframe tbody tr th:only-of-type {\n",
              "        vertical-align: middle;\n",
              "    }\n",
              "\n",
              "    .dataframe tbody tr th {\n",
              "        vertical-align: top;\n",
              "    }\n",
              "\n",
              "    .dataframe thead th {\n",
              "        text-align: right;\n",
              "    }\n",
              "</style>\n",
              "<table border=\"1\" class=\"dataframe\">\n",
              "  <thead>\n",
              "    <tr style=\"text-align: right;\">\n",
              "      <th></th>\n",
              "      <th>user_id</th>\n",
              "      <th>property_id</th>\n",
              "      <th>user_rating</th>\n",
              "    </tr>\n",
              "  </thead>\n",
              "  <tbody>\n",
              "    <tr>\n",
              "      <th>0</th>\n",
              "      <td>1</td>\n",
              "      <td>1</td>\n",
              "      <td>4</td>\n",
              "    </tr>\n",
              "    <tr>\n",
              "      <th>1</th>\n",
              "      <td>6854</td>\n",
              "      <td>1</td>\n",
              "      <td>2</td>\n",
              "    </tr>\n",
              "  </tbody>\n",
              "</table>\n",
              "</div>\n",
              "      <button class=\"colab-df-convert\" onclick=\"convertToInteractive('df-31ff5b3f-fc38-4b45-93b7-fa414c227350')\"\n",
              "              title=\"Convert this dataframe to an interactive table.\"\n",
              "              style=\"display:none;\">\n",
              "        \n",
              "  <svg xmlns=\"http://www.w3.org/2000/svg\" height=\"24px\"viewBox=\"0 0 24 24\"\n",
              "       width=\"24px\">\n",
              "    <path d=\"M0 0h24v24H0V0z\" fill=\"none\"/>\n",
              "    <path d=\"M18.56 5.44l.94 2.06.94-2.06 2.06-.94-2.06-.94-.94-2.06-.94 2.06-2.06.94zm-11 1L8.5 8.5l.94-2.06 2.06-.94-2.06-.94L8.5 2.5l-.94 2.06-2.06.94zm10 10l.94 2.06.94-2.06 2.06-.94-2.06-.94-.94-2.06-.94 2.06-2.06.94z\"/><path d=\"M17.41 7.96l-1.37-1.37c-.4-.4-.92-.59-1.43-.59-.52 0-1.04.2-1.43.59L10.3 9.45l-7.72 7.72c-.78.78-.78 2.05 0 2.83L4 21.41c.39.39.9.59 1.41.59.51 0 1.02-.2 1.41-.59l7.78-7.78 2.81-2.81c.8-.78.8-2.07 0-2.86zM5.41 20L4 18.59l7.72-7.72 1.47 1.35L5.41 20z\"/>\n",
              "  </svg>\n",
              "      </button>\n",
              "      \n",
              "  <style>\n",
              "    .colab-df-container {\n",
              "      display:flex;\n",
              "      flex-wrap:wrap;\n",
              "      gap: 12px;\n",
              "    }\n",
              "\n",
              "    .colab-df-convert {\n",
              "      background-color: #E8F0FE;\n",
              "      border: none;\n",
              "      border-radius: 50%;\n",
              "      cursor: pointer;\n",
              "      display: none;\n",
              "      fill: #1967D2;\n",
              "      height: 32px;\n",
              "      padding: 0 0 0 0;\n",
              "      width: 32px;\n",
              "    }\n",
              "\n",
              "    .colab-df-convert:hover {\n",
              "      background-color: #E2EBFA;\n",
              "      box-shadow: 0px 1px 2px rgba(60, 64, 67, 0.3), 0px 1px 3px 1px rgba(60, 64, 67, 0.15);\n",
              "      fill: #174EA6;\n",
              "    }\n",
              "\n",
              "    [theme=dark] .colab-df-convert {\n",
              "      background-color: #3B4455;\n",
              "      fill: #D2E3FC;\n",
              "    }\n",
              "\n",
              "    [theme=dark] .colab-df-convert:hover {\n",
              "      background-color: #434B5C;\n",
              "      box-shadow: 0px 1px 3px 1px rgba(0, 0, 0, 0.15);\n",
              "      filter: drop-shadow(0px 1px 2px rgba(0, 0, 0, 0.3));\n",
              "      fill: #FFFFFF;\n",
              "    }\n",
              "  </style>\n",
              "\n",
              "      <script>\n",
              "        const buttonEl =\n",
              "          document.querySelector('#df-31ff5b3f-fc38-4b45-93b7-fa414c227350 button.colab-df-convert');\n",
              "        buttonEl.style.display =\n",
              "          google.colab.kernel.accessAllowed ? 'block' : 'none';\n",
              "\n",
              "        async function convertToInteractive(key) {\n",
              "          const element = document.querySelector('#df-31ff5b3f-fc38-4b45-93b7-fa414c227350');\n",
              "          const dataTable =\n",
              "            await google.colab.kernel.invokeFunction('convertToInteractive',\n",
              "                                                     [key], {});\n",
              "          if (!dataTable) return;\n",
              "\n",
              "          const docLinkHtml = 'Like what you see? Visit the ' +\n",
              "            '<a target=\"_blank\" href=https://colab.research.google.com/notebooks/data_table.ipynb>data table notebook</a>'\n",
              "            + ' to learn more about interactive tables.';\n",
              "          element.innerHTML = '';\n",
              "          dataTable['output_type'] = 'display_data';\n",
              "          await google.colab.output.renderOutput(dataTable, element);\n",
              "          const docLink = document.createElement('div');\n",
              "          docLink.innerHTML = docLinkHtml;\n",
              "          element.appendChild(docLink);\n",
              "        }\n",
              "      </script>\n",
              "    </div>\n",
              "  </div>\n",
              "  "
            ]
          },
          "metadata": {},
          "execution_count": 10
        }
      ]
    },
    {
      "cell_type": "code",
      "source": [
        "df['user_rating'] = df['user_rating'] / 5"
      ],
      "metadata": {
        "id": "FzLeQIy_TIw7"
      },
      "execution_count": 11,
      "outputs": []
    },
    {
      "cell_type": "code",
      "source": [
        "# df['user_id'] = df['user_id'] / max(df['user_id'])\n",
        "# df['property_id'] = df['property_id'] / max(df['property_id'])\n",
        "df"
      ],
      "metadata": {
        "colab": {
          "base_uri": "https://localhost:8080/",
          "height": 655
        },
        "id": "n1JW-5GiTZIR",
        "outputId": "7333de82-4bde-47dc-8f41-afca156aacdb"
      },
      "execution_count": 12,
      "outputs": [
        {
          "output_type": "execute_result",
          "data": {
            "text/plain": [
              "      user_id  property_id  user_rating\n",
              "0           1            1          0.8\n",
              "1        6854            1          0.4\n",
              "2        4633            1          0.8\n",
              "3        8326            1          0.8\n",
              "4        2066            2          0.8\n",
              "...       ...          ...          ...\n",
              "9743     9094         1429          0.2\n",
              "9744     9100         1430          1.0\n",
              "9745     9128         1431          0.8\n",
              "9746     9171         1432          1.0\n",
              "9747     9195         1433          1.0\n",
              "\n",
              "[9748 rows x 3 columns]"
            ],
            "text/html": [
              "\n",
              "  <div id=\"df-8ee9130a-a374-4b23-92fd-6d3aab5dec1f\">\n",
              "    <div class=\"colab-df-container\">\n",
              "      <div>\n",
              "<style scoped>\n",
              "    .dataframe tbody tr th:only-of-type {\n",
              "        vertical-align: middle;\n",
              "    }\n",
              "\n",
              "    .dataframe tbody tr th {\n",
              "        vertical-align: top;\n",
              "    }\n",
              "\n",
              "    .dataframe thead th {\n",
              "        text-align: right;\n",
              "    }\n",
              "</style>\n",
              "<table border=\"1\" class=\"dataframe\">\n",
              "  <thead>\n",
              "    <tr style=\"text-align: right;\">\n",
              "      <th></th>\n",
              "      <th>user_id</th>\n",
              "      <th>property_id</th>\n",
              "      <th>user_rating</th>\n",
              "    </tr>\n",
              "  </thead>\n",
              "  <tbody>\n",
              "    <tr>\n",
              "      <th>0</th>\n",
              "      <td>1</td>\n",
              "      <td>1</td>\n",
              "      <td>0.8</td>\n",
              "    </tr>\n",
              "    <tr>\n",
              "      <th>1</th>\n",
              "      <td>6854</td>\n",
              "      <td>1</td>\n",
              "      <td>0.4</td>\n",
              "    </tr>\n",
              "    <tr>\n",
              "      <th>2</th>\n",
              "      <td>4633</td>\n",
              "      <td>1</td>\n",
              "      <td>0.8</td>\n",
              "    </tr>\n",
              "    <tr>\n",
              "      <th>3</th>\n",
              "      <td>8326</td>\n",
              "      <td>1</td>\n",
              "      <td>0.8</td>\n",
              "    </tr>\n",
              "    <tr>\n",
              "      <th>4</th>\n",
              "      <td>2066</td>\n",
              "      <td>2</td>\n",
              "      <td>0.8</td>\n",
              "    </tr>\n",
              "    <tr>\n",
              "      <th>...</th>\n",
              "      <td>...</td>\n",
              "      <td>...</td>\n",
              "      <td>...</td>\n",
              "    </tr>\n",
              "    <tr>\n",
              "      <th>9743</th>\n",
              "      <td>9094</td>\n",
              "      <td>1429</td>\n",
              "      <td>0.2</td>\n",
              "    </tr>\n",
              "    <tr>\n",
              "      <th>9744</th>\n",
              "      <td>9100</td>\n",
              "      <td>1430</td>\n",
              "      <td>1.0</td>\n",
              "    </tr>\n",
              "    <tr>\n",
              "      <th>9745</th>\n",
              "      <td>9128</td>\n",
              "      <td>1431</td>\n",
              "      <td>0.8</td>\n",
              "    </tr>\n",
              "    <tr>\n",
              "      <th>9746</th>\n",
              "      <td>9171</td>\n",
              "      <td>1432</td>\n",
              "      <td>1.0</td>\n",
              "    </tr>\n",
              "    <tr>\n",
              "      <th>9747</th>\n",
              "      <td>9195</td>\n",
              "      <td>1433</td>\n",
              "      <td>1.0</td>\n",
              "    </tr>\n",
              "  </tbody>\n",
              "</table>\n",
              "<p>9748 rows × 3 columns</p>\n",
              "</div>\n",
              "      <button class=\"colab-df-convert\" onclick=\"convertToInteractive('df-8ee9130a-a374-4b23-92fd-6d3aab5dec1f')\"\n",
              "              title=\"Convert this dataframe to an interactive table.\"\n",
              "              style=\"display:none;\">\n",
              "        \n",
              "  <svg xmlns=\"http://www.w3.org/2000/svg\" height=\"24px\"viewBox=\"0 0 24 24\"\n",
              "       width=\"24px\">\n",
              "    <path d=\"M0 0h24v24H0V0z\" fill=\"none\"/>\n",
              "    <path d=\"M18.56 5.44l.94 2.06.94-2.06 2.06-.94-2.06-.94-.94-2.06-.94 2.06-2.06.94zm-11 1L8.5 8.5l.94-2.06 2.06-.94-2.06-.94L8.5 2.5l-.94 2.06-2.06.94zm10 10l.94 2.06.94-2.06 2.06-.94-2.06-.94-.94-2.06-.94 2.06-2.06.94z\"/><path d=\"M17.41 7.96l-1.37-1.37c-.4-.4-.92-.59-1.43-.59-.52 0-1.04.2-1.43.59L10.3 9.45l-7.72 7.72c-.78.78-.78 2.05 0 2.83L4 21.41c.39.39.9.59 1.41.59.51 0 1.02-.2 1.41-.59l7.78-7.78 2.81-2.81c.8-.78.8-2.07 0-2.86zM5.41 20L4 18.59l7.72-7.72 1.47 1.35L5.41 20z\"/>\n",
              "  </svg>\n",
              "      </button>\n",
              "      \n",
              "  <style>\n",
              "    .colab-df-container {\n",
              "      display:flex;\n",
              "      flex-wrap:wrap;\n",
              "      gap: 12px;\n",
              "    }\n",
              "\n",
              "    .colab-df-convert {\n",
              "      background-color: #E8F0FE;\n",
              "      border: none;\n",
              "      border-radius: 50%;\n",
              "      cursor: pointer;\n",
              "      display: none;\n",
              "      fill: #1967D2;\n",
              "      height: 32px;\n",
              "      padding: 0 0 0 0;\n",
              "      width: 32px;\n",
              "    }\n",
              "\n",
              "    .colab-df-convert:hover {\n",
              "      background-color: #E2EBFA;\n",
              "      box-shadow: 0px 1px 2px rgba(60, 64, 67, 0.3), 0px 1px 3px 1px rgba(60, 64, 67, 0.15);\n",
              "      fill: #174EA6;\n",
              "    }\n",
              "\n",
              "    [theme=dark] .colab-df-convert {\n",
              "      background-color: #3B4455;\n",
              "      fill: #D2E3FC;\n",
              "    }\n",
              "\n",
              "    [theme=dark] .colab-df-convert:hover {\n",
              "      background-color: #434B5C;\n",
              "      box-shadow: 0px 1px 3px 1px rgba(0, 0, 0, 0.15);\n",
              "      filter: drop-shadow(0px 1px 2px rgba(0, 0, 0, 0.3));\n",
              "      fill: #FFFFFF;\n",
              "    }\n",
              "  </style>\n",
              "\n",
              "      <script>\n",
              "        const buttonEl =\n",
              "          document.querySelector('#df-8ee9130a-a374-4b23-92fd-6d3aab5dec1f button.colab-df-convert');\n",
              "        buttonEl.style.display =\n",
              "          google.colab.kernel.accessAllowed ? 'block' : 'none';\n",
              "\n",
              "        async function convertToInteractive(key) {\n",
              "          const element = document.querySelector('#df-8ee9130a-a374-4b23-92fd-6d3aab5dec1f');\n",
              "          const dataTable =\n",
              "            await google.colab.kernel.invokeFunction('convertToInteractive',\n",
              "                                                     [key], {});\n",
              "          if (!dataTable) return;\n",
              "\n",
              "          const docLinkHtml = 'Like what you see? Visit the ' +\n",
              "            '<a target=\"_blank\" href=https://colab.research.google.com/notebooks/data_table.ipynb>data table notebook</a>'\n",
              "            + ' to learn more about interactive tables.';\n",
              "          element.innerHTML = '';\n",
              "          dataTable['output_type'] = 'display_data';\n",
              "          await google.colab.output.renderOutput(dataTable, element);\n",
              "          const docLink = document.createElement('div');\n",
              "          docLink.innerHTML = docLinkHtml;\n",
              "          element.appendChild(docLink);\n",
              "        }\n",
              "      </script>\n",
              "    </div>\n",
              "  </div>\n",
              "  "
            ]
          },
          "metadata": {},
          "execution_count": 12
        }
      ]
    },
    {
      "cell_type": "code",
      "source": [
        "df.shape"
      ],
      "metadata": {
        "colab": {
          "base_uri": "https://localhost:8080/"
        },
        "id": "X20YrjonTai4",
        "outputId": "254a99cf-63ae-454c-92e8-abc9bf9d346e"
      },
      "execution_count": 13,
      "outputs": [
        {
          "output_type": "execute_result",
          "data": {
            "text/plain": [
              "(9748, 3)"
            ]
          },
          "metadata": {},
          "execution_count": 13
        }
      ]
    },
    {
      "cell_type": "code",
      "source": [
        "n_users = len(df.user_id.unique())\n",
        "n_users"
      ],
      "metadata": {
        "colab": {
          "base_uri": "https://localhost:8080/"
        },
        "id": "EY2whp1wTuTx",
        "outputId": "587ce175-a037-4809-825b-584abcb2dc23"
      },
      "execution_count": 14,
      "outputs": [
        {
          "output_type": "execute_result",
          "data": {
            "text/plain": [
              "9222"
            ]
          },
          "metadata": {},
          "execution_count": 14
        }
      ]
    },
    {
      "cell_type": "code",
      "source": [
        "n_hotels = len(df.property_id.unique())\n",
        "n_hotels"
      ],
      "metadata": {
        "colab": {
          "base_uri": "https://localhost:8080/"
        },
        "id": "ApKNMRZmTv4f",
        "outputId": "bb2ae9bd-b90e-4412-c1c6-93692fe22486"
      },
      "execution_count": 15,
      "outputs": [
        {
          "output_type": "execute_result",
          "data": {
            "text/plain": [
              "1433"
            ]
          },
          "metadata": {},
          "execution_count": 15
        }
      ]
    },
    {
      "cell_type": "code",
      "source": [
        "df.info()"
      ],
      "metadata": {
        "colab": {
          "base_uri": "https://localhost:8080/"
        },
        "id": "9d_kErVZTxcR",
        "outputId": "94d503ed-f838-4f60-cb71-9a2980e07abc"
      },
      "execution_count": 16,
      "outputs": [
        {
          "output_type": "stream",
          "name": "stdout",
          "text": [
            "<class 'pandas.core.frame.DataFrame'>\n",
            "RangeIndex: 9748 entries, 0 to 9747\n",
            "Data columns (total 3 columns):\n",
            " #   Column       Non-Null Count  Dtype  \n",
            "---  ------       --------------  -----  \n",
            " 0   user_id      9748 non-null   int64  \n",
            " 1   property_id  9748 non-null   int64  \n",
            " 2   user_rating  9748 non-null   float64\n",
            "dtypes: float64(1), int64(2)\n",
            "memory usage: 228.6 KB\n"
          ]
        }
      ]
    },
    {
      "cell_type": "code",
      "source": [
        "n_users = len(df['user_id'])\n",
        "\n",
        "n_items = len(df['property_id'])"
      ],
      "metadata": {
        "id": "BLSqeo85TzqS"
      },
      "execution_count": 17,
      "outputs": []
    },
    {
      "cell_type": "code",
      "source": [
        "X = df[['user_id', 'property_id']].values\n",
        "y = df[['user_rating']].values\n",
        "X_train, X_test, y_train, y_test = train_test_split(X, y, test_size=0.1)\n",
        "print(X_train.shape, X_test.shape, y_train.shape, y_test.shape)\n",
        "\n",
        "x_val, x_test, y_val, y_test = train_test_split(X_test, y_test, test_size=0.5)\n",
        "print(x_val.shape, x_test.shape, y_val.shape, y_test.shape)\n"
      ],
      "metadata": {
        "colab": {
          "base_uri": "https://localhost:8080/"
        },
        "id": "XS_J0sXGT21z",
        "outputId": "14443e65-59a7-4864-cdc2-7c681afcd9ad"
      },
      "execution_count": 18,
      "outputs": [
        {
          "output_type": "stream",
          "name": "stdout",
          "text": [
            "(8773, 2) (975, 2) (8773, 1) (975, 1)\n",
            "(487, 2) (488, 2) (487, 1) (488, 1)\n"
          ]
        }
      ]
    },
    {
      "cell_type": "code",
      "source": [
        "print(max(df['user_id']))"
      ],
      "metadata": {
        "colab": {
          "base_uri": "https://localhost:8080/"
        },
        "id": "2bGD4LMNUcsp",
        "outputId": "081f1059-5616-4ea8-9222-f8cb4e901e1c"
      },
      "execution_count": 19,
      "outputs": [
        {
          "output_type": "stream",
          "name": "stdout",
          "text": [
            "9222\n"
          ]
        }
      ]
    },
    {
      "cell_type": "code",
      "source": [
        "print(max(df['property_id']))"
      ],
      "metadata": {
        "colab": {
          "base_uri": "https://localhost:8080/"
        },
        "id": "-HE_gpAnUgyc",
        "outputId": "1359ba68-68f1-4cd0-deaf-cc1341e9521f"
      },
      "execution_count": 20,
      "outputs": [
        {
          "output_type": "stream",
          "name": "stdout",
          "text": [
            "1433\n"
          ]
        }
      ]
    },
    {
      "cell_type": "code",
      "source": [
        "n_factors = 240\n",
        "X_train_array = [X_train[:, 0], X_train[:, 1]]\n",
        "X_test_array = [x_test[:, 0], x_test[:, 1]]\n",
        "X_val_array = [x_val[:, 0], x_val[:, 1]]"
      ],
      "metadata": {
        "id": "kxusdmghUmUz"
      },
      "execution_count": 21,
      "outputs": []
    },
    {
      "cell_type": "code",
      "source": [
        "# creating user embedding\n",
        "user = Input(shape=(1,))\n",
        "u = Embedding(n_users, 500, embeddings_initializer='he_normal',\n",
        "                  embeddings_regularizer=l2(1e-6))(user)\n",
        "u = Reshape((500,))(u)\n",
        "\n",
        "# creating item embedding path\n",
        "item = Input(shape=(1,))\n",
        "i = Embedding(n_items, 500, embeddings_initializer='he_normal',\n",
        "                  embeddings_regularizer=l2(1e-6))(item)\n",
        "i = Reshape((500,))(i)\n",
        "    \n",
        "# concatenate features\n",
        "x = Concatenate()([u, i])\n",
        "    \n",
        "# add fully-connected-layers\n",
        "fc1 = Dense(256, activation='relu')(x)\n",
        "fc1 = BatchNormalization() (fc1)\n",
        "fc1 = tf.keras.layers.Dropout(0.1)(fc1)\n",
        "\n",
        "fc1 = Dense(256, activation='relu')(fc1)\n",
        "fc1 = BatchNormalization() (fc1)\n",
        "fc2 = tf.keras.layers.Dropout(0.1)(fc1)\n",
        "\n",
        "fc2 = Dense(128, activation='relu')(fc2)\n",
        "fc2 = BatchNormalization() (fc2)\n",
        "fc2 = tf.keras.layers.Dropout(0.1)(fc2)\n",
        "\n",
        "fc2 = Dense(128, activation='relu')(fc2)\n",
        "fc2 = BatchNormalization() (fc2)\n",
        "fc2 = tf.keras.layers.Dropout(0.1)(fc2)\n",
        "\n",
        "fc2 = Dense(128, activation='relu')(fc2)\n",
        "fc2 = BatchNormalization() (fc2)\n",
        "fc2 = tf.keras.layers.Dropout(0.1)(fc2)\n",
        "\n",
        "fc2 = Dense(64, activation='relu')(fc2)\n",
        "fc2 = BatchNormalization() (fc2)\n",
        "fc2 = tf.keras.layers.Dropout(0.1)(fc2)\n",
        "\n",
        "fc2 = Dense(64, activation='relu')(fc2)\n",
        "fc2 = BatchNormalization() (fc2)\n",
        "fc2 = tf.keras.layers.Dropout(0.1)(fc2)\n",
        "\n",
        "fc2 = Dense(32, activation='relu')(fc2)\n",
        "fc2 = BatchNormalization() (fc2)\n",
        "fc2 = tf.keras.layers.Dropout(0.1)(fc2)\n",
        "\n",
        "fc2 = Dense(16, activation='relu')(fc2)\n",
        "fc2 = BatchNormalization() (fc2)\n",
        "# fc3 = tf.keras.layers.Dropout(0.5)(fc2)\n",
        "# fc4 = tf.keras.layers.Dropout(0.3)(fc3)\n",
        "fc2 = tf.keras.layers.Dropout(0.1)(fc2)\n",
        "out = Dense(1, activation='sigmoid')(fc2)\n",
        "# mean_absolute_error\n",
        "model = Model([user, item], out)\n",
        "opt = tf.keras.optimizers.RMSprop(lr=0.0001)\n",
        "model.compile(optimizer = opt, loss = 'mse', metrics=['accuracy'])"
      ],
      "metadata": {
        "id": "FhSarCP7UpZi"
      },
      "execution_count": 52,
      "outputs": []
    },
    {
      "cell_type": "code",
      "source": [
        "model.summary()"
      ],
      "metadata": {
        "colab": {
          "base_uri": "https://localhost:8080/"
        },
        "id": "embGv87aUu1K",
        "outputId": "3318f9b4-409f-4881-b11f-f05a2caf3a56"
      },
      "execution_count": 53,
      "outputs": [
        {
          "output_type": "stream",
          "name": "stdout",
          "text": [
            "Model: \"model_3\"\n",
            "__________________________________________________________________________________________________\n",
            " Layer (type)                   Output Shape         Param #     Connected to                     \n",
            "==================================================================================================\n",
            " input_7 (InputLayer)           [(None, 1)]          0           []                               \n",
            "                                                                                                  \n",
            " input_8 (InputLayer)           [(None, 1)]          0           []                               \n",
            "                                                                                                  \n",
            " embedding_6 (Embedding)        (None, 1, 500)       4874000     ['input_7[0][0]']                \n",
            "                                                                                                  \n",
            " embedding_7 (Embedding)        (None, 1, 500)       4874000     ['input_8[0][0]']                \n",
            "                                                                                                  \n",
            " reshape_6 (Reshape)            (None, 500)          0           ['embedding_6[0][0]']            \n",
            "                                                                                                  \n",
            " reshape_7 (Reshape)            (None, 500)          0           ['embedding_7[0][0]']            \n",
            "                                                                                                  \n",
            " concatenate_3 (Concatenate)    (None, 1000)         0           ['reshape_6[0][0]',              \n",
            "                                                                  'reshape_7[0][0]']              \n",
            "                                                                                                  \n",
            " dense_30 (Dense)               (None, 256)          256256      ['concatenate_3[0][0]']          \n",
            "                                                                                                  \n",
            " batch_normalization_27 (BatchN  (None, 256)         1024        ['dense_30[0][0]']               \n",
            " ormalization)                                                                                    \n",
            "                                                                                                  \n",
            " dropout_27 (Dropout)           (None, 256)          0           ['batch_normalization_27[0][0]'] \n",
            "                                                                                                  \n",
            " dense_31 (Dense)               (None, 256)          65792       ['dropout_27[0][0]']             \n",
            "                                                                                                  \n",
            " batch_normalization_28 (BatchN  (None, 256)         1024        ['dense_31[0][0]']               \n",
            " ormalization)                                                                                    \n",
            "                                                                                                  \n",
            " dropout_28 (Dropout)           (None, 256)          0           ['batch_normalization_28[0][0]'] \n",
            "                                                                                                  \n",
            " dense_32 (Dense)               (None, 128)          32896       ['dropout_28[0][0]']             \n",
            "                                                                                                  \n",
            " batch_normalization_29 (BatchN  (None, 128)         512         ['dense_32[0][0]']               \n",
            " ormalization)                                                                                    \n",
            "                                                                                                  \n",
            " dropout_29 (Dropout)           (None, 128)          0           ['batch_normalization_29[0][0]'] \n",
            "                                                                                                  \n",
            " dense_33 (Dense)               (None, 128)          16512       ['dropout_29[0][0]']             \n",
            "                                                                                                  \n",
            " batch_normalization_30 (BatchN  (None, 128)         512         ['dense_33[0][0]']               \n",
            " ormalization)                                                                                    \n",
            "                                                                                                  \n",
            " dropout_30 (Dropout)           (None, 128)          0           ['batch_normalization_30[0][0]'] \n",
            "                                                                                                  \n",
            " dense_34 (Dense)               (None, 128)          16512       ['dropout_30[0][0]']             \n",
            "                                                                                                  \n",
            " batch_normalization_31 (BatchN  (None, 128)         512         ['dense_34[0][0]']               \n",
            " ormalization)                                                                                    \n",
            "                                                                                                  \n",
            " dropout_31 (Dropout)           (None, 128)          0           ['batch_normalization_31[0][0]'] \n",
            "                                                                                                  \n",
            " dense_35 (Dense)               (None, 64)           8256        ['dropout_31[0][0]']             \n",
            "                                                                                                  \n",
            " batch_normalization_32 (BatchN  (None, 64)          256         ['dense_35[0][0]']               \n",
            " ormalization)                                                                                    \n",
            "                                                                                                  \n",
            " dropout_32 (Dropout)           (None, 64)           0           ['batch_normalization_32[0][0]'] \n",
            "                                                                                                  \n",
            " dense_36 (Dense)               (None, 64)           4160        ['dropout_32[0][0]']             \n",
            "                                                                                                  \n",
            " batch_normalization_33 (BatchN  (None, 64)          256         ['dense_36[0][0]']               \n",
            " ormalization)                                                                                    \n",
            "                                                                                                  \n",
            " dropout_33 (Dropout)           (None, 64)           0           ['batch_normalization_33[0][0]'] \n",
            "                                                                                                  \n",
            " dense_37 (Dense)               (None, 32)           2080        ['dropout_33[0][0]']             \n",
            "                                                                                                  \n",
            " batch_normalization_34 (BatchN  (None, 32)          128         ['dense_37[0][0]']               \n",
            " ormalization)                                                                                    \n",
            "                                                                                                  \n",
            " dropout_34 (Dropout)           (None, 32)           0           ['batch_normalization_34[0][0]'] \n",
            "                                                                                                  \n",
            " dense_38 (Dense)               (None, 16)           528         ['dropout_34[0][0]']             \n",
            "                                                                                                  \n",
            " batch_normalization_35 (BatchN  (None, 16)          64          ['dense_38[0][0]']               \n",
            " ormalization)                                                                                    \n",
            "                                                                                                  \n",
            " dropout_35 (Dropout)           (None, 16)           0           ['batch_normalization_35[0][0]'] \n",
            "                                                                                                  \n",
            " dense_39 (Dense)               (None, 1)            17          ['dropout_35[0][0]']             \n",
            "                                                                                                  \n",
            "==================================================================================================\n",
            "Total params: 10,155,297\n",
            "Trainable params: 10,153,153\n",
            "Non-trainable params: 2,144\n",
            "__________________________________________________________________________________________________\n"
          ]
        }
      ]
    },
    {
      "cell_type": "code",
      "source": [
        "history = model.fit(x=X_train_array, y=y_train, batch_size=32, epochs=20,\n",
        "                    verbose=1, validation_data=(X_val_array, y_val))"
      ],
      "metadata": {
        "colab": {
          "base_uri": "https://localhost:8080/"
        },
        "id": "0zo8Co4yUx7B",
        "outputId": "1c9ad681-2af5-4011-f861-4bbf76595ff2"
      },
      "execution_count": 54,
      "outputs": [
        {
          "output_type": "stream",
          "name": "stdout",
          "text": [
            "Epoch 1/20\n",
            "275/275 [==============================] - 42s 137ms/step - loss: 0.2043 - accuracy: 0.2472 - val_loss: 0.1755 - val_accuracy: 0.0780\n",
            "Epoch 2/20\n",
            "275/275 [==============================] - 38s 137ms/step - loss: 0.1689 - accuracy: 0.2847 - val_loss: 0.1880 - val_accuracy: 0.1622\n",
            "Epoch 3/20\n",
            "275/275 [==============================] - 38s 136ms/step - loss: 0.1410 - accuracy: 0.3261 - val_loss: 0.1336 - val_accuracy: 0.2875\n",
            "Epoch 4/20\n",
            "275/275 [==============================] - 38s 140ms/step - loss: 0.1193 - accuracy: 0.3656 - val_loss: 0.1049 - val_accuracy: 0.3922\n",
            "Epoch 5/20\n",
            "275/275 [==============================] - 37s 136ms/step - loss: 0.1015 - accuracy: 0.4049 - val_loss: 0.0839 - val_accuracy: 0.4353\n",
            "Epoch 6/20\n",
            "275/275 [==============================] - 37s 134ms/step - loss: 0.0870 - accuracy: 0.4333 - val_loss: 0.0742 - val_accuracy: 0.4374\n",
            "Epoch 7/20\n",
            "275/275 [==============================] - 37s 135ms/step - loss: 0.0777 - accuracy: 0.4556 - val_loss: 0.0626 - val_accuracy: 0.4559\n",
            "Epoch 8/20\n",
            "275/275 [==============================] - 37s 134ms/step - loss: 0.0696 - accuracy: 0.4703 - val_loss: 0.0599 - val_accuracy: 0.4559\n",
            "Epoch 9/20\n",
            "275/275 [==============================] - 37s 135ms/step - loss: 0.0635 - accuracy: 0.4745 - val_loss: 0.0575 - val_accuracy: 0.4559\n",
            "Epoch 10/20\n",
            "275/275 [==============================] - 37s 136ms/step - loss: 0.0600 - accuracy: 0.4782 - val_loss: 0.0563 - val_accuracy: 0.4559\n",
            "Epoch 11/20\n",
            "275/275 [==============================] - 37s 134ms/step - loss: 0.0578 - accuracy: 0.4810 - val_loss: 0.0566 - val_accuracy: 0.4559\n",
            "Epoch 12/20\n",
            "275/275 [==============================] - 37s 134ms/step - loss: 0.0558 - accuracy: 0.4827 - val_loss: 0.0550 - val_accuracy: 0.4559\n",
            "Epoch 13/20\n",
            "275/275 [==============================] - 37s 135ms/step - loss: 0.0548 - accuracy: 0.4828 - val_loss: 0.0567 - val_accuracy: 0.4559\n",
            "Epoch 14/20\n",
            "275/275 [==============================] - 37s 135ms/step - loss: 0.0542 - accuracy: 0.4831 - val_loss: 0.0563 - val_accuracy: 0.4559\n",
            "Epoch 15/20\n",
            "275/275 [==============================] - 37s 135ms/step - loss: 0.0531 - accuracy: 0.4828 - val_loss: 0.0553 - val_accuracy: 0.4559\n",
            "Epoch 16/20\n",
            "275/275 [==============================] - 37s 135ms/step - loss: 0.0531 - accuracy: 0.4831 - val_loss: 0.0532 - val_accuracy: 0.4559\n",
            "Epoch 17/20\n",
            "275/275 [==============================] - 37s 134ms/step - loss: 0.0523 - accuracy: 0.4824 - val_loss: 0.0538 - val_accuracy: 0.4559\n",
            "Epoch 18/20\n",
            "275/275 [==============================] - 38s 137ms/step - loss: 0.0518 - accuracy: 0.4825 - val_loss: 0.0534 - val_accuracy: 0.4559\n",
            "Epoch 19/20\n",
            "275/275 [==============================] - 37s 134ms/step - loss: 0.0507 - accuracy: 0.4827 - val_loss: 0.0530 - val_accuracy: 0.4559\n",
            "Epoch 20/20\n",
            "275/275 [==============================] - 37s 135ms/step - loss: 0.0501 - accuracy: 0.4824 - val_loss: 0.0529 - val_accuracy: 0.4559\n"
          ]
        }
      ]
    },
    {
      "cell_type": "code",
      "source": [
        "train_loss = history.history['loss']\n",
        "val_loss = history.history['val_loss']\n",
        "plt.plot(train_loss, color='r', label='Train Loss')\n",
        "plt.plot(val_loss, color='b', label='Validation Loss')\n",
        "plt.title(\"Train and Validation Loss Curve\")\n",
        "plt.legend()\n",
        "plt.show()"
      ],
      "metadata": {
        "colab": {
          "base_uri": "https://localhost:8080/",
          "height": 281
        },
        "id": "QmLtyjmYU1an",
        "outputId": "2799a4ec-64ea-47a1-eff0-ad1bf6405da6"
      },
      "execution_count": 55,
      "outputs": [
        {
          "output_type": "display_data",
          "data": {
            "text/plain": [
              "<Figure size 432x288 with 1 Axes>"
            ],
            "image/png": "[encoded data removed]"
          },
          "metadata": {
            "needs_background": "light"
          }
        }
      ]
    },
    {
      "cell_type": "code",
      "source": [
        "train_acc = history.history['accuracy']\n",
        "val_acc = history.history['val_accuracy']\n",
        "plt.plot(train_acc, color='r', label='Train Accuracy')\n",
        "plt.plot(val_acc, color='b', label='Validation Accuracy')\n",
        "plt.title(\"Train and Validation Accuracy Curve\")\n",
        "plt.legend()\n",
        "plt.show()"
      ],
      "metadata": {
        "colab": {
          "base_uri": "https://localhost:8080/",
          "height": 281
        },
        "id": "lsSqye5cW__9",
        "outputId": "bbb8236b-a453-42a0-b7b6-d6def22b65df"
      },
      "execution_count": 56,
      "outputs": [
        {
          "output_type": "display_data",
          "data": {
            "text/plain": [
              "<Figure size 432x288 with 1 Axes>"
            ],
            "image/png": "[encoded data removed]"
          },
          "metadata": {
            "needs_background": "light"
          }
        }
      ]
    },
    {
      "cell_type": "code",
      "source": [
        "# Creating dataset for making recommendations for the first user\n",
        "hotel_data = np.array(list(set(df.property_id)))\n",
        "hotel_data"
      ],
      "metadata": {
        "colab": {
          "base_uri": "https://localhost:8080/"
        },
        "id": "j8q9FL_DaK5j",
        "outputId": "0dbb7032-7366-40f8-90df-80f7773eaf48"
      },
      "execution_count": 57,
      "outputs": [
        {
          "output_type": "execute_result",
          "data": {
            "text/plain": [
              "array([   1,    2,    3, ..., 1431, 1432, 1433])"
            ]
          },
          "metadata": {},
          "execution_count": 57
        }
      ]
    },
    {
      "cell_type": "code",
      "source": [
        "user = np.array([1000 for i in range(len(hotel_data))])\n",
        "user"
      ],
      "metadata": {
        "colab": {
          "base_uri": "https://localhost:8080/"
        },
        "id": "RQTP_b8RaTWK",
        "outputId": "9c9aa590-a1d9-43eb-fe69-01fc61909a6b"
      },
      "execution_count": 69,
      "outputs": [
        {
          "output_type": "execute_result",
          "data": {
            "text/plain": [
              "array([1000, 1000, 1000, ..., 1000, 1000, 1000])"
            ]
          },
          "metadata": {},
          "execution_count": 69
        }
      ]
    },
    {
      "cell_type": "code",
      "source": [
        "predictions = model.predict([user, hotel_data])\n",
        "\n",
        "predictions = np.array([a[0] for a in predictions])\n",
        "\n",
        "recommended_item_ids = (-predictions).argsort()\n",
        "\n",
        "recommended_item_ids"
      ],
      "metadata": {
        "colab": {
          "base_uri": "https://localhost:8080/"
        },
        "id": "hZTmlpuqaZXw",
        "outputId": "703fb82a-ab55-40eb-ff72-eadfe7d10001"
      },
      "execution_count": 70,
      "outputs": [
        {
          "output_type": "execute_result",
          "data": {
            "text/plain": [
              "array([ 39,   6,  66, ...,  27,   7, 236])"
            ]
          },
          "metadata": {},
          "execution_count": 70
        }
      ]
    },
    {
      "cell_type": "code",
      "source": [
        "# print predicted scores\n",
        "predictions[recommended_item_ids]"
      ],
      "metadata": {
        "colab": {
          "base_uri": "https://localhost:8080/"
        },
        "id": "42CdicGBaioU",
        "outputId": "fc352ea0-d14a-4be9-e6a8-b92cd1ca574f"
      },
      "execution_count": 71,
      "outputs": [
        {
          "output_type": "execute_result",
          "data": {
            "text/plain": [
              "array([0.9933703 , 0.99059904, 0.9873687 , ..., 0.24096206, 0.2393151 ,\n",
              "       0.2050344 ], dtype=float32)"
            ]
          },
          "metadata": {},
          "execution_count": 71
        }
      ]
    },
    {
      "cell_type": "code",
      "source": [
        "#Evaluate the model\n",
        "score = model.evaluate(X_test_array, y_test, verbose=0)\n",
        "print('Test loss:', score[0])"
      ],
      "metadata": {
        "colab": {
          "base_uri": "https://localhost:8080/"
        },
        "id": "slxjEhxgdE61",
        "outputId": "8aaaff5e-142e-47e1-f38e-9b6dd9d2afa9"
      },
      "execution_count": 72,
      "outputs": [
        {
          "output_type": "stream",
          "name": "stdout",
          "text": [
            "Test loss: 0.04608462005853653\n"
          ]
        }
      ]
    },
    {
      "cell_type": "code",
      "source": [
        "# print predicted scores\n",
        "predictions[recommended_item_ids]\n"
      ],
      "metadata": {
        "colab": {
          "base_uri": "https://localhost:8080/"
        },
        "id": "0uz8E5WjdKpF",
        "outputId": "3515c9b1-46b3-40cf-8ec9-53c00b184e7f"
      },
      "execution_count": 62,
      "outputs": [
        {
          "output_type": "execute_result",
          "data": {
            "text/plain": [
              "array([0.9931544 , 0.99003416, 0.9867308 , ..., 0.24733502, 0.23884082,\n",
              "       0.20249534], dtype=float32)"
            ]
          },
          "metadata": {},
          "execution_count": 62
        }
      ]
    },
    {
      "cell_type": "code",
      "source": [
        "predictions = model.predict([user, hotel_data])\n",
        "predictions = np.array([a[0] for a in predictions])\n",
        "recommended_hotel_id = (-predictions).argsort()\n",
        "recommended_hotel_id"
      ],
      "metadata": {
        "colab": {
          "base_uri": "https://localhost:8080/"
        },
        "id": "RP4dpkwndU7L",
        "outputId": "7de3e166-f966-45de-f737-c354ae1cea96"
      },
      "execution_count": 63,
      "outputs": [
        {
          "output_type": "execute_result",
          "data": {
            "text/plain": [
              "array([ 39,   6,  66, ...,  27,   7, 236])"
            ]
          },
          "metadata": {},
          "execution_count": 63
        }
      ]
    },
    {
      "cell_type": "code",
      "source": [
        "predictions[recommended_hotel_id]"
      ],
      "metadata": {
        "colab": {
          "base_uri": "https://localhost:8080/"
        },
        "id": "9Dhh4j1QdXc_",
        "outputId": "0c510a4a-42ea-412f-d89a-dc7ed06a50ef"
      },
      "execution_count": 64,
      "outputs": [
        {
          "output_type": "execute_result",
          "data": {
            "text/plain": [
              "array([0.9931544 , 0.99003416, 0.9867308 , ..., 0.24733502, 0.23884082,\n",
              "       0.20249534], dtype=float32)"
            ]
          },
          "metadata": {},
          "execution_count": 64
        }
      ]
    },
    {
      "cell_type": "code",
      "source": [
        "predictions"
      ],
      "metadata": {
        "colab": {
          "base_uri": "https://localhost:8080/"
        },
        "id": "YwXkwR5Ldb0g",
        "outputId": "9fb1b296-4927-4643-f0f5-658f29e427d5"
      },
      "execution_count": 65,
      "outputs": [
        {
          "output_type": "execute_result",
          "data": {
            "text/plain": [
              "array([0.7780596 , 0.9014267 , 0.8850441 , ..., 0.7377666 , 0.78334206,\n",
              "       0.77261186], dtype=float32)"
            ]
          },
          "metadata": {},
          "execution_count": 65
        }
      ]
    },
    {
      "cell_type": "code",
      "source": [
        ""
      ],
      "metadata": {
        "id": "mXVjOHrupVoL"
      },
      "execution_count": null,
      "outputs": []
    }
  ]
}