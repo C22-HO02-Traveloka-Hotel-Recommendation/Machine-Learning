{
 "cells": [
  {
   "cell_type": "markdown",
   "id": "hazardous-improvement",
   "metadata": {},
   "source": [
    "# Hotel Recommendation System using Keras"
   ]
  },
  {
   "cell_type": "code",
   "execution_count": 1,
   "id": "challenging-immigration",
   "metadata": {},
   "outputs": [],
   "source": [
    "import numpy as np\n",
    "import pandas as pd\n",
    "import matplotlib.pyplot as plt\n",
    "import os\n",
    "import warnings\n",
    "import tensorflow as tf\n",
    "from tensorflow.keras import backend as K\n",
    "\n",
    "from tensorflow.keras.layers import Embedding, Flatten, Concatenate\n",
    "from tensorflow.keras.models import Model\n",
    "from tensorflow.keras.layers import Dense\n",
    "from tensorflow.keras.layers import Input, Reshape, Dot\n",
    "from tensorflow.keras.optimizers import Adam\n",
    "from tensorflow.keras.regularizers import l2\n",
    "\n",
    "from sklearn.model_selection import train_test_split\n",
    "from sklearn.preprocessing import LabelEncoder\n",
    "\n",
    "warnings.filterwarnings('ignore')\n",
    "%matplotlib inline"
   ]
  },
  {
   "cell_type": "code",
   "execution_count": 2,
   "id": "f1f7331c",
   "metadata": {},
   "outputs": [],
   "source": [
    "#necessary for GPU users\n",
    "physical_devices = tf.config.experimental.list_physical_devices('GPU')\n",
    "if len(physical_devices) > 0:\n",
    "    tf.config.experimental.set_memory_growth(physical_devices[0], True)"
   ]
  },
  {
   "cell_type": "code",
   "execution_count": 3,
   "id": "spatial-watts",
   "metadata": {},
   "outputs": [],
   "source": [
    "url = 'https://raw.githubusercontent.com/zulfauzi92/Hotel_Recomendation_Model_Traveloka/main/Eksplorasi%20Data/Main%20Dataset/csv_final/Final_Dataset_User_ML.csv'\n",
    "hotel_train_data = pd.read_csv(url)"
   ]
  },
  {
   "cell_type": "code",
   "execution_count": 4,
   "id": "published-beads",
   "metadata": {},
   "outputs": [
    {
     "data": {
      "text/html": [
       "<div>\n",
       "<style scoped>\n",
       "    .dataframe tbody tr th:only-of-type {\n",
       "        vertical-align: middle;\n",
       "    }\n",
       "\n",
       "    .dataframe tbody tr th {\n",
       "        vertical-align: top;\n",
       "    }\n",
       "\n",
       "    .dataframe thead th {\n",
       "        text-align: right;\n",
       "    }\n",
       "</style>\n",
       "<table border=\"1\" class=\"dataframe\">\n",
       "  <thead>\n",
       "    <tr style=\"text-align: right;\">\n",
       "      <th></th>\n",
       "      <th>Unnamed: 0</th>\n",
       "      <th>user_id</th>\n",
       "      <th>most_reviewed</th>\n",
       "      <th>reviewed_hotel</th>\n",
       "      <th>latitude</th>\n",
       "      <th>longitude</th>\n",
       "      <th>hotel_star_rating</th>\n",
       "      <th>site_review_rating</th>\n",
       "      <th>Beach Hut</th>\n",
       "      <th>BnB</th>\n",
       "      <th>...</th>\n",
       "      <th>Heating Facility on Request</th>\n",
       "      <th>Safe</th>\n",
       "      <th>Iron / Ironing board</th>\n",
       "      <th>Microwave / Oven</th>\n",
       "      <th>Window Open / Ventilation</th>\n",
       "      <th>Outdoor Parking</th>\n",
       "      <th>Porter Services</th>\n",
       "      <th>Spa Services</th>\n",
       "      <th>Poolside Cafe</th>\n",
       "      <th>Airport Transfer</th>\n",
       "    </tr>\n",
       "  </thead>\n",
       "  <tbody>\n",
       "    <tr>\n",
       "      <th>0</th>\n",
       "      <td>0</td>\n",
       "      <td>U000001</td>\n",
       "      <td>H000021</td>\n",
       "      <td>['H000021']</td>\n",
       "      <td>34.4</td>\n",
       "      <td>-119.8</td>\n",
       "      <td>1.0</td>\n",
       "      <td>1.0</td>\n",
       "      <td>0</td>\n",
       "      <td>0.0</td>\n",
       "      <td>...</td>\n",
       "      <td>0.0</td>\n",
       "      <td>0.0</td>\n",
       "      <td>0.0</td>\n",
       "      <td>0.0</td>\n",
       "      <td>0.0</td>\n",
       "      <td>1.0</td>\n",
       "      <td>0.0</td>\n",
       "      <td>0.0</td>\n",
       "      <td>0.0</td>\n",
       "      <td>0.0</td>\n",
       "    </tr>\n",
       "    <tr>\n",
       "      <th>1</th>\n",
       "      <td>1</td>\n",
       "      <td>U000002</td>\n",
       "      <td>H001054</td>\n",
       "      <td>['H001054']</td>\n",
       "      <td>36.6</td>\n",
       "      <td>-121.9</td>\n",
       "      <td>3.0</td>\n",
       "      <td>2.5</td>\n",
       "      <td>0</td>\n",
       "      <td>0.0</td>\n",
       "      <td>...</td>\n",
       "      <td>1.0</td>\n",
       "      <td>0.0</td>\n",
       "      <td>1.0</td>\n",
       "      <td>0.0</td>\n",
       "      <td>1.0</td>\n",
       "      <td>1.0</td>\n",
       "      <td>0.0</td>\n",
       "      <td>0.0</td>\n",
       "      <td>0.0</td>\n",
       "      <td>0.0</td>\n",
       "    </tr>\n",
       "  </tbody>\n",
       "</table>\n",
       "<p>2 rows × 278 columns</p>\n",
       "</div>"
      ],
      "text/plain": [
       "   Unnamed: 0  user_id most_reviewed reviewed_hotel  latitude  longitude  \\\n",
       "0           0  U000001       H000021    ['H000021']      34.4     -119.8   \n",
       "1           1  U000002       H001054    ['H001054']      36.6     -121.9   \n",
       "\n",
       "   hotel_star_rating  site_review_rating  Beach Hut  BnB  ...  \\\n",
       "0                1.0                 1.0          0  0.0  ...   \n",
       "1                3.0                 2.5          0  0.0  ...   \n",
       "\n",
       "   Heating Facility on Request  Safe  Iron / Ironing board  Microwave / Oven  \\\n",
       "0                          0.0   0.0                   0.0               0.0   \n",
       "1                          1.0   0.0                   1.0               0.0   \n",
       "\n",
       "   Window Open / Ventilation  Outdoor Parking  Porter Services  Spa Services  \\\n",
       "0                        0.0              1.0              0.0           0.0   \n",
       "1                        1.0              1.0              0.0           0.0   \n",
       "\n",
       "   Poolside Cafe  Airport Transfer  \n",
       "0            0.0               0.0  \n",
       "1            0.0               0.0  \n",
       "\n",
       "[2 rows x 278 columns]"
      ]
     },
     "execution_count": 4,
     "metadata": {},
     "output_type": "execute_result"
    }
   ],
   "source": [
    "hotel_train_data.head(2)"
   ]
  },
  {
   "cell_type": "markdown",
   "id": "sexual-startup",
   "metadata": {},
   "source": [
    "# Data Pre-processing"
   ]
  },
  {
   "cell_type": "code",
   "execution_count": 11,
   "id": "protected-furniture",
   "metadata": {},
   "outputs": [],
   "source": [
    "df = hotel_train_data[['user_id','reviewed_hotel','site_review_rating','latitude','longitude']]"
   ]
  },
  {
   "cell_type": "code",
   "execution_count": 12,
   "id": "infectious-living",
   "metadata": {},
   "outputs": [
    {
     "data": {
      "text/html": [
       "<div>\n",
       "<style scoped>\n",
       "    .dataframe tbody tr th:only-of-type {\n",
       "        vertical-align: middle;\n",
       "    }\n",
       "\n",
       "    .dataframe tbody tr th {\n",
       "        vertical-align: top;\n",
       "    }\n",
       "\n",
       "    .dataframe thead th {\n",
       "        text-align: right;\n",
       "    }\n",
       "</style>\n",
       "<table border=\"1\" class=\"dataframe\">\n",
       "  <thead>\n",
       "    <tr style=\"text-align: right;\">\n",
       "      <th></th>\n",
       "      <th>user_id</th>\n",
       "      <th>reviewed_hotel</th>\n",
       "      <th>site_review_rating</th>\n",
       "      <th>latitude</th>\n",
       "      <th>longitude</th>\n",
       "    </tr>\n",
       "  </thead>\n",
       "  <tbody>\n",
       "    <tr>\n",
       "      <th>0</th>\n",
       "      <td>U000001</td>\n",
       "      <td>['H000021']</td>\n",
       "      <td>1.0</td>\n",
       "      <td>34.4</td>\n",
       "      <td>-119.8</td>\n",
       "    </tr>\n",
       "    <tr>\n",
       "      <th>1</th>\n",
       "      <td>U000002</td>\n",
       "      <td>['H001054']</td>\n",
       "      <td>2.5</td>\n",
       "      <td>36.6</td>\n",
       "      <td>-121.9</td>\n",
       "    </tr>\n",
       "    <tr>\n",
       "      <th>2</th>\n",
       "      <td>U000003</td>\n",
       "      <td>['H001054']</td>\n",
       "      <td>2.5</td>\n",
       "      <td>36.6</td>\n",
       "      <td>-121.9</td>\n",
       "    </tr>\n",
       "    <tr>\n",
       "      <th>3</th>\n",
       "      <td>U000004</td>\n",
       "      <td>['H001054']</td>\n",
       "      <td>2.5</td>\n",
       "      <td>36.6</td>\n",
       "      <td>-121.9</td>\n",
       "    </tr>\n",
       "    <tr>\n",
       "      <th>4</th>\n",
       "      <td>U000005</td>\n",
       "      <td>['H001054']</td>\n",
       "      <td>2.5</td>\n",
       "      <td>36.6</td>\n",
       "      <td>-121.9</td>\n",
       "    </tr>\n",
       "  </tbody>\n",
       "</table>\n",
       "</div>"
      ],
      "text/plain": [
       "   user_id reviewed_hotel  site_review_rating  latitude  longitude\n",
       "0  U000001    ['H000021']                 1.0      34.4     -119.8\n",
       "1  U000002    ['H001054']                 2.5      36.6     -121.9\n",
       "2  U000003    ['H001054']                 2.5      36.6     -121.9\n",
       "3  U000004    ['H001054']                 2.5      36.6     -121.9\n",
       "4  U000005    ['H001054']                 2.5      36.6     -121.9"
      ]
     },
     "execution_count": 12,
     "metadata": {},
     "output_type": "execute_result"
    }
   ],
   "source": [
    "#For collaborative, we'll use ratings & location\n",
    "#df.columns =['user_id', 'most_reviewed', 'site_review_rating', 'latitude', 'longitude']\n",
    "df.head()"
   ]
  },
  {
   "cell_type": "code",
   "execution_count": 13,
   "id": "structural-remedy",
   "metadata": {},
   "outputs": [
    {
     "data": {
      "text/plain": [
       "(9219, 5)"
      ]
     },
     "execution_count": 13,
     "metadata": {},
     "output_type": "execute_result"
    }
   ],
   "source": [
    "df.shape"
   ]
  },
  {
   "cell_type": "code",
   "execution_count": 14,
   "id": "empty-massage",
   "metadata": {},
   "outputs": [
    {
     "data": {
      "text/plain": [
       "9219"
      ]
     },
     "execution_count": 14,
     "metadata": {},
     "output_type": "execute_result"
    }
   ],
   "source": [
    "n_users = len(df.user_id.unique())\n",
    "n_users"
   ]
  },
  {
   "cell_type": "code",
   "execution_count": 16,
   "id": "chubby-gross",
   "metadata": {},
   "outputs": [
    {
     "data": {
      "text/plain": [
       "1657"
      ]
     },
     "execution_count": 16,
     "metadata": {},
     "output_type": "execute_result"
    }
   ],
   "source": [
    "n_hotels = len(df.reviewed_hotel.unique())\n",
    "n_hotels"
   ]
  },
  {
   "cell_type": "code",
   "execution_count": 17,
   "id": "c94c561a",
   "metadata": {},
   "outputs": [
    {
     "name": "stdout",
     "output_type": "stream",
     "text": [
      "<class 'pandas.core.frame.DataFrame'>\n",
      "RangeIndex: 9219 entries, 0 to 9218\n",
      "Data columns (total 5 columns):\n",
      " #   Column              Non-Null Count  Dtype  \n",
      "---  ------              --------------  -----  \n",
      " 0   user_id             9219 non-null   object \n",
      " 1   reviewed_hotel      9219 non-null   object \n",
      " 2   site_review_rating  9219 non-null   float64\n",
      " 3   latitude            9219 non-null   float64\n",
      " 4   longitude           9219 non-null   float64\n",
      "dtypes: float64(3), object(2)\n",
      "memory usage: 360.2+ KB\n"
     ]
    }
   ],
   "source": [
    "df.info()"
   ]
  },
  {
   "cell_type": "markdown",
   "id": "acoustic-hayes",
   "metadata": {},
   "source": [
    "Create variables with the total number of unique users and item in the data, as well as the min and max ratings present in the data"
   ]
  },
  {
   "cell_type": "code",
   "execution_count": 20,
   "id": "70552b88",
   "metadata": {},
   "outputs": [
    {
     "data": {
      "text/plain": [
       "0         21\n",
       "1       1054\n",
       "2       1054\n",
       "3       1054\n",
       "4       1054\n",
       "        ... \n",
       "9214    1298\n",
       "9215    1298\n",
       "9216    1298\n",
       "9217    1103\n",
       "9218    1154\n",
       "Name: reviewed_hotel, Length: 9219, dtype: int64"
      ]
     },
     "execution_count": 20,
     "metadata": {},
     "output_type": "execute_result"
    }
   ],
   "source": [
    "from ast import literal_eval\n",
    "\n",
    "df['reviewed_hotel'] = df['reviewed_hotel'].apply(lambda x: int(np.array(literal_eval(x))[0][1:]))\n",
    "df['reviewed_hotel']"
   ]
  },
  {
   "cell_type": "code",
   "execution_count": 23,
   "id": "electrical-poison",
   "metadata": {},
   "outputs": [
    {
     "name": "stdout",
     "output_type": "stream",
     "text": [
      "1.0 5.0\n"
     ]
    }
   ],
   "source": [
    "user_enc = LabelEncoder()\n",
    "df['user_id'] = user_enc.fit_transform(df['user_id'].values)\n",
    "n_users = df['user_id'].nunique()\n",
    "\n",
    "n_items = df['reviewed_hotel'].nunique()\n",
    "\n",
    "df['site_review_rating'] = df['site_review_rating'].values.astype(np.float32)\n",
    "min_rating = min(df['site_review_rating'])\n",
    "max_rating = max(df['site_review_rating'])\n",
    "\n",
    "df['latitude'] = df['latitude'].values.astype(np.float32)\n",
    "df['longitude'] = df['longitude'].values.astype(np.float32)\n",
    "n_users, n_items\n",
    "print(min_rating, max_rating)"
   ]
  },
  {
   "cell_type": "code",
   "execution_count": 24,
   "id": "f5247dca",
   "metadata": {},
   "outputs": [
    {
     "data": {
      "text/html": [
       "<div>\n",
       "<style scoped>\n",
       "    .dataframe tbody tr th:only-of-type {\n",
       "        vertical-align: middle;\n",
       "    }\n",
       "\n",
       "    .dataframe tbody tr th {\n",
       "        vertical-align: top;\n",
       "    }\n",
       "\n",
       "    .dataframe thead th {\n",
       "        text-align: right;\n",
       "    }\n",
       "</style>\n",
       "<table border=\"1\" class=\"dataframe\">\n",
       "  <thead>\n",
       "    <tr style=\"text-align: right;\">\n",
       "      <th></th>\n",
       "      <th>user_id</th>\n",
       "      <th>reviewed_hotel</th>\n",
       "      <th>site_review_rating</th>\n",
       "      <th>latitude</th>\n",
       "      <th>longitude</th>\n",
       "    </tr>\n",
       "  </thead>\n",
       "  <tbody>\n",
       "    <tr>\n",
       "      <th>0</th>\n",
       "      <td>0</td>\n",
       "      <td>21</td>\n",
       "      <td>1.0</td>\n",
       "      <td>34.400002</td>\n",
       "      <td>-119.800003</td>\n",
       "    </tr>\n",
       "    <tr>\n",
       "      <th>1</th>\n",
       "      <td>1</td>\n",
       "      <td>1054</td>\n",
       "      <td>2.5</td>\n",
       "      <td>36.599998</td>\n",
       "      <td>-121.900002</td>\n",
       "    </tr>\n",
       "    <tr>\n",
       "      <th>2</th>\n",
       "      <td>2</td>\n",
       "      <td>1054</td>\n",
       "      <td>2.5</td>\n",
       "      <td>36.599998</td>\n",
       "      <td>-121.900002</td>\n",
       "    </tr>\n",
       "    <tr>\n",
       "      <th>3</th>\n",
       "      <td>3</td>\n",
       "      <td>1054</td>\n",
       "      <td>2.5</td>\n",
       "      <td>36.599998</td>\n",
       "      <td>-121.900002</td>\n",
       "    </tr>\n",
       "    <tr>\n",
       "      <th>4</th>\n",
       "      <td>4</td>\n",
       "      <td>1054</td>\n",
       "      <td>2.5</td>\n",
       "      <td>36.599998</td>\n",
       "      <td>-121.900002</td>\n",
       "    </tr>\n",
       "  </tbody>\n",
       "</table>\n",
       "</div>"
      ],
      "text/plain": [
       "   user_id  reviewed_hotel  site_review_rating   latitude   longitude\n",
       "0        0              21                 1.0  34.400002 -119.800003\n",
       "1        1            1054                 2.5  36.599998 -121.900002\n",
       "2        2            1054                 2.5  36.599998 -121.900002\n",
       "3        3            1054                 2.5  36.599998 -121.900002\n",
       "4        4            1054                 2.5  36.599998 -121.900002"
      ]
     },
     "execution_count": 24,
     "metadata": {},
     "output_type": "execute_result"
    }
   ],
   "source": [
    "df.head()"
   ]
  },
  {
   "cell_type": "code",
   "execution_count": 25,
   "id": "74169277",
   "metadata": {},
   "outputs": [
    {
     "name": "stdout",
     "output_type": "stream",
     "text": [
      "<class 'pandas.core.frame.DataFrame'>\n",
      "RangeIndex: 9219 entries, 0 to 9218\n",
      "Data columns (total 5 columns):\n",
      " #   Column              Non-Null Count  Dtype  \n",
      "---  ------              --------------  -----  \n",
      " 0   user_id             9219 non-null   int64  \n",
      " 1   reviewed_hotel      9219 non-null   int64  \n",
      " 2   site_review_rating  9219 non-null   float32\n",
      " 3   latitude            9219 non-null   float32\n",
      " 4   longitude           9219 non-null   float32\n",
      "dtypes: float32(3), int64(2)\n",
      "memory usage: 252.2 KB\n"
     ]
    }
   ],
   "source": [
    "df.info()"
   ]
  },
  {
   "cell_type": "markdown",
   "id": "wicked-shopper",
   "metadata": {},
   "source": [
    "# Split the data into training and test data sets"
   ]
  },
  {
   "cell_type": "code",
   "execution_count": 26,
   "id": "moderate-donna",
   "metadata": {},
   "outputs": [
    {
     "data": {
      "text/plain": [
       "((7375, 2), (1844, 2), (7375, 3), (1844, 3))"
      ]
     },
     "execution_count": 26,
     "metadata": {},
     "output_type": "execute_result"
    }
   ],
   "source": [
    "X = df[['user_id', 'reviewed_hotel']].values\n",
    "y = df[['site_review_rating', 'latitude', 'longitude']].values\n",
    "X_train, X_test, y_train, y_test = train_test_split(X, y, test_size=0.2)\n",
    "X_train.shape, X_test.shape, y_train.shape, y_test.shape"
   ]
  },
  {
   "cell_type": "code",
   "execution_count": 27,
   "id": "0b8bdc91",
   "metadata": {},
   "outputs": [
    {
     "name": "stdout",
     "output_type": "stream",
     "text": [
      "0          0\n",
      "1          1\n",
      "2          2\n",
      "3          3\n",
      "4          4\n",
      "        ... \n",
      "9214    9214\n",
      "9215    9215\n",
      "9216    9216\n",
      "9217    9217\n",
      "9218    9218\n",
      "Name: user_id, Length: 9219, dtype: int64\n"
     ]
    }
   ],
   "source": [
    "print(df['user_id'])"
   ]
  },
  {
   "cell_type": "code",
   "execution_count": 29,
   "id": "5fcc46b4",
   "metadata": {},
   "outputs": [
    {
     "name": "stdout",
     "output_type": "stream",
     "text": [
      "0         21\n",
      "1       1054\n",
      "2       1054\n",
      "3       1054\n",
      "4       1054\n",
      "        ... \n",
      "9214    1298\n",
      "9215    1298\n",
      "9216    1298\n",
      "9217    1103\n",
      "9218    1154\n",
      "Name: reviewed_hotel, Length: 9219, dtype: int64\n"
     ]
    }
   ],
   "source": [
    "print(df['reviewed_hotel'])"
   ]
  },
  {
   "cell_type": "code",
   "execution_count": 30,
   "id": "african-teaching",
   "metadata": {},
   "outputs": [],
   "source": [
    "n_factors = 240\n",
    "X_train_array = [X_train[:, 0], X_train[:, 1]]\n",
    "X_test_array = [X_test[:, 0], X_test[:, 1]]"
   ]
  },
  {
   "cell_type": "markdown",
   "id": "hazardous-center",
   "metadata": {},
   "source": [
    "# Creating Neural Network\n",
    "\n",
    "Neural Networks proved there effectivness for almost every machine learning problem as of now and they also perform exceptionally well for recommendation systems.\n",
    "\n",
    "Embeddings are weights that are learned to represent some specific variable like items and user in our case and therefore we can not only use them to get good results on our problem but also to extract inside about our data."
   ]
  },
  {
   "cell_type": "code",
   "execution_count": 67,
   "id": "impressed-apollo",
   "metadata": {},
   "outputs": [],
   "source": [
    "# creating user embedding\n",
    "user = Input(shape=(1,))\n",
    "u = Embedding(n_users, n_factors, embeddings_initializer='he_normal',\n",
    "                  embeddings_regularizer=l2(1e-6))(user)\n",
    "u = Reshape((n_factors,))(u)\n",
    "\n",
    "# creating item embedding path\n",
    "item = Input(shape=(1,))\n",
    "i = Embedding(n_items, n_factors, embeddings_initializer='he_normal',\n",
    "                  embeddings_regularizer=l2(1e-6))(item)\n",
    "i = Reshape((n_factors,))(i)\n",
    "    \n",
    "# concatenate features\n",
    "x = Concatenate()([u, i])\n",
    "    \n",
    "# add fully-connected-layers\n",
    "fc1 = Dense(256, activation='relu')(x)\n",
    "fc2 = Dense(128, activation='relu')(fc1)\n",
    "fc3 = tf.keras.layers.Dropout(0.5)(fc2)\n",
    "fc4 = tf.keras.layers.Dropout(0.3)(fc3)\n",
    "fc5 = tf.keras.layers.Dropout(0.1)(fc4)\n",
    "out = Dense(1)(fc5)\n",
    "\n",
    "model = Model([user, item], out)\n",
    "opt = tf.keras.optimizers.RMSprop(lr=0.0001)\n",
    "model.compile(optimizer = opt, loss = 'mean_absolute_error', metrics=['accuracy'])"
   ]
  },
  {
   "cell_type": "code",
   "execution_count": 68,
   "id": "ecological-shipping",
   "metadata": {},
   "outputs": [
    {
     "name": "stdout",
     "output_type": "stream",
     "text": [
      "Model: \"model_9\"\n",
      "__________________________________________________________________________________________________\n",
      " Layer (type)                   Output Shape         Param #     Connected to                     \n",
      "==================================================================================================\n",
      " input_19 (InputLayer)          [(None, 1)]          0           []                               \n",
      "                                                                                                  \n",
      " input_20 (InputLayer)          [(None, 1)]          0           []                               \n",
      "                                                                                                  \n",
      " embedding_18 (Embedding)       (None, 1, 240)       2212560     ['input_19[0][0]']               \n",
      "                                                                                                  \n",
      " embedding_19 (Embedding)       (None, 1, 240)       306240      ['input_20[0][0]']               \n",
      "                                                                                                  \n",
      " reshape_18 (Reshape)           (None, 240)          0           ['embedding_18[0][0]']           \n",
      "                                                                                                  \n",
      " reshape_19 (Reshape)           (None, 240)          0           ['embedding_19[0][0]']           \n",
      "                                                                                                  \n",
      " concatenate_9 (Concatenate)    (None, 480)          0           ['reshape_18[0][0]',             \n",
      "                                                                  'reshape_19[0][0]']             \n",
      "                                                                                                  \n",
      " dense_27 (Dense)               (None, 256)          123136      ['concatenate_9[0][0]']          \n",
      "                                                                                                  \n",
      " dense_28 (Dense)               (None, 128)          32896       ['dense_27[0][0]']               \n",
      "                                                                                                  \n",
      " dropout_10 (Dropout)           (None, 128)          0           ['dense_28[0][0]']               \n",
      "                                                                                                  \n",
      " dropout_11 (Dropout)           (None, 128)          0           ['dropout_10[0][0]']             \n",
      "                                                                                                  \n",
      " dropout_12 (Dropout)           (None, 128)          0           ['dropout_11[0][0]']             \n",
      "                                                                                                  \n",
      " dense_29 (Dense)               (None, 1)            129         ['dropout_12[0][0]']             \n",
      "                                                                                                  \n",
      "==================================================================================================\n",
      "Total params: 2,674,961\n",
      "Trainable params: 2,674,961\n",
      "Non-trainable params: 0\n",
      "__________________________________________________________________________________________________\n"
     ]
    }
   ],
   "source": [
    "model.summary()"
   ]
  },
  {
   "cell_type": "code",
   "execution_count": 69,
   "id": "de25e9e6",
   "metadata": {},
   "outputs": [
    {
     "name": "stdout",
     "output_type": "stream",
     "text": [
      "Epoch 1/20\n",
      "231/231 [==============================] - 3s 8ms/step - loss: 46.6881 - accuracy: 0.0055 - val_loss: 46.4649 - val_accuracy: 0.0110\n",
      "Epoch 2/20\n",
      "231/231 [==============================] - 2s 7ms/step - loss: 46.0101 - accuracy: 0.0107 - val_loss: 45.9436 - val_accuracy: 0.0110\n",
      "Epoch 3/20\n",
      "231/231 [==============================] - 2s 7ms/step - loss: 45.8627 - accuracy: 0.0107 - val_loss: 45.8641 - val_accuracy: 0.0110\n",
      "Epoch 4/20\n",
      "231/231 [==============================] - 2s 7ms/step - loss: 45.8268 - accuracy: 0.0107 - val_loss: 45.8370 - val_accuracy: 0.0110\n",
      "Epoch 5/20\n",
      "231/231 [==============================] - 2s 7ms/step - loss: 45.8102 - accuracy: 0.0107 - val_loss: 45.8335 - val_accuracy: 0.0110\n",
      "Epoch 6/20\n",
      "231/231 [==============================] - 2s 7ms/step - loss: 45.8013 - accuracy: 0.0107 - val_loss: 45.8222 - val_accuracy: 0.0110\n",
      "Epoch 7/20\n",
      "231/231 [==============================] - 2s 7ms/step - loss: 45.7974 - accuracy: 0.0107 - val_loss: 45.8172 - val_accuracy: 0.0110\n",
      "Epoch 8/20\n",
      "231/231 [==============================] - 2s 7ms/step - loss: 45.7912 - accuracy: 0.0107 - val_loss: 45.8102 - val_accuracy: 0.0110\n",
      "Epoch 9/20\n",
      "231/231 [==============================] - 2s 7ms/step - loss: 45.7857 - accuracy: 0.0107 - val_loss: 45.8230 - val_accuracy: 0.0110\n",
      "Epoch 10/20\n",
      "231/231 [==============================] - 2s 7ms/step - loss: 45.7836 - accuracy: 0.0107 - val_loss: 45.8331 - val_accuracy: 0.0110\n",
      "Epoch 11/20\n",
      "231/231 [==============================] - 2s 7ms/step - loss: 45.7757 - accuracy: 0.0107 - val_loss: 45.8195 - val_accuracy: 0.0110\n",
      "Epoch 12/20\n",
      "231/231 [==============================] - 2s 7ms/step - loss: 45.7727 - accuracy: 0.0107 - val_loss: 45.8086 - val_accuracy: 0.0110\n",
      "Epoch 13/20\n",
      "231/231 [==============================] - 2s 7ms/step - loss: 45.7765 - accuracy: 0.0107 - val_loss: 45.8318 - val_accuracy: 0.0110\n",
      "Epoch 14/20\n",
      "231/231 [==============================] - 2s 7ms/step - loss: 45.7720 - accuracy: 0.0107 - val_loss: 45.8159 - val_accuracy: 0.0110\n",
      "Epoch 15/20\n",
      "231/231 [==============================] - 2s 7ms/step - loss: 45.7720 - accuracy: 0.0107 - val_loss: 45.8296 - val_accuracy: 0.0110\n",
      "Epoch 16/20\n",
      "231/231 [==============================] - 2s 7ms/step - loss: 45.7697 - accuracy: 0.0107 - val_loss: 45.8298 - val_accuracy: 0.0110\n",
      "Epoch 17/20\n",
      "231/231 [==============================] - 2s 7ms/step - loss: 45.7662 - accuracy: 0.0107 - val_loss: 45.8147 - val_accuracy: 0.0110\n",
      "Epoch 18/20\n",
      "231/231 [==============================] - 2s 7ms/step - loss: 45.7694 - accuracy: 0.0107 - val_loss: 45.8176 - val_accuracy: 0.0110\n",
      "Epoch 19/20\n",
      "231/231 [==============================] - 2s 7ms/step - loss: 45.7673 - accuracy: 0.0107 - val_loss: 45.8395 - val_accuracy: 0.0110\n",
      "Epoch 20/20\n",
      "231/231 [==============================] - 2s 7ms/step - loss: 45.7647 - accuracy: 0.0107 - val_loss: 45.8281 - val_accuracy: 0.0110\n"
     ]
    }
   ],
   "source": [
    "history = model.fit(x=X_train_array, y=y_train, batch_size=32, epochs=20,\n",
    "                    verbose=1, validation_data=(X_test_array, y_test))"
   ]
  },
  {
   "cell_type": "code",
   "execution_count": 70,
   "id": "vocal-chance",
   "metadata": {},
   "outputs": [
    {
     "data": {
      "image/png": "[encoded data removed]",
      "text/plain": [
       "<Figure size 432x288 with 1 Axes>"
      ]
     },
     "metadata": {
      "needs_background": "light"
     },
     "output_type": "display_data"
    }
   ],
   "source": [
    "train_loss = history.history['loss']\n",
    "val_loss = history.history['val_loss']\n",
    "plt.plot(train_loss, color='r', label='Train Loss')\n",
    "plt.plot(val_loss, color='b', label='Validation Loss')\n",
    "plt.title(\"Train and Validation Loss Curve\")\n",
    "plt.legend()\n",
    "plt.show()"
   ]
  },
  {
   "cell_type": "code",
   "execution_count": 71,
   "id": "56acd1ad",
   "metadata": {},
   "outputs": [
    {
     "name": "stdout",
     "output_type": "stream",
     "text": [
      "Test loss: 45.82806396484375\n",
      "Test accuracy: 0.011026754043996334\n"
     ]
    }
   ],
   "source": [
    "#Evaluate the model\n",
    "score = model.evaluate(X_test_array, y_test, verbose=0)\n",
    "print('Test loss:', score[0])\n",
    "print('Test accuracy:', score[1])"
   ]
  },
  {
   "cell_type": "code",
   "execution_count": null,
   "id": "14a57207",
   "metadata": {},
   "outputs": [],
   "source": [
    "model.save('collaborative_model_user.h5')"
   ]
  },
  {
   "cell_type": "markdown",
   "id": "laden-qualification",
   "metadata": {},
   "source": [
    "## Creating RMSE function for Neural Network"
   ]
  },
  {
   "cell_type": "code",
   "execution_count": 20,
   "id": "suited-floating",
   "metadata": {},
   "outputs": [],
   "source": [
    "def root_mean_squared_error(y_test, y_train):\n",
    "        return K.sqrt(K.mean(K.square(y_test - y_train))) "
   ]
  },
  {
   "cell_type": "code",
   "execution_count": 25,
   "id": "latter-mailing",
   "metadata": {},
   "outputs": [
    {
     "ename": "NameError",
     "evalue": "name 'root_mean_squared_error' is not defined",
     "output_type": "error",
     "traceback": [
      "\u001b[0;31m---------------------------------------------------------------------------\u001b[0m",
      "\u001b[0;31mNameError\u001b[0m                                 Traceback (most recent call last)",
      "\u001b[0;32m<ipython-input-25-dee97a2f2fe5>\u001b[0m in \u001b[0;36m<module>\u001b[0;34m\u001b[0m\n\u001b[1;32m     22\u001b[0m \u001b[0mmodel\u001b[0m \u001b[0;34m=\u001b[0m \u001b[0mModel\u001b[0m\u001b[0;34m(\u001b[0m\u001b[0;34m[\u001b[0m\u001b[0muser\u001b[0m\u001b[0;34m,\u001b[0m \u001b[0mitem\u001b[0m\u001b[0;34m]\u001b[0m\u001b[0;34m,\u001b[0m \u001b[0mout\u001b[0m\u001b[0;34m)\u001b[0m\u001b[0;34m\u001b[0m\u001b[0;34m\u001b[0m\u001b[0m\n\u001b[1;32m     23\u001b[0m \u001b[0mopt\u001b[0m \u001b[0;34m=\u001b[0m \u001b[0mtf\u001b[0m\u001b[0;34m.\u001b[0m\u001b[0mkeras\u001b[0m\u001b[0;34m.\u001b[0m\u001b[0moptimizers\u001b[0m\u001b[0;34m.\u001b[0m\u001b[0mRMSprop\u001b[0m\u001b[0;34m(\u001b[0m\u001b[0mlr\u001b[0m\u001b[0;34m=\u001b[0m\u001b[0;36m0.0001\u001b[0m\u001b[0;34m)\u001b[0m\u001b[0;34m\u001b[0m\u001b[0;34m\u001b[0m\u001b[0m\n\u001b[0;32m---> 24\u001b[0;31m \u001b[0mmodel\u001b[0m\u001b[0;34m.\u001b[0m\u001b[0mcompile\u001b[0m\u001b[0;34m(\u001b[0m\u001b[0moptimizer\u001b[0m \u001b[0;34m=\u001b[0m \u001b[0mopt\u001b[0m \u001b[0;34m,\u001b[0m \u001b[0mloss\u001b[0m \u001b[0;34m=\u001b[0m \u001b[0mroot_mean_squared_error\u001b[0m\u001b[0;34m,\u001b[0m \u001b[0mmetrics\u001b[0m\u001b[0;34m=\u001b[0m\u001b[0;34m[\u001b[0m\u001b[0;34m'accuracy'\u001b[0m\u001b[0;34m]\u001b[0m\u001b[0;34m)\u001b[0m\u001b[0;34m\u001b[0m\u001b[0;34m\u001b[0m\u001b[0m\n\u001b[0m",
      "\u001b[0;31mNameError\u001b[0m: name 'root_mean_squared_error' is not defined"
     ]
    }
   ],
   "source": [
    "# creating user embedding\n",
    "user = Input(shape=(1,))\n",
    "u = Embedding(n_users, n_factors, embeddings_initializer='he_normal',\n",
    "                  embeddings_regularizer=l2(1e-6))(user)\n",
    "u = Reshape((n_factors,))(u)\n",
    "\n",
    "# creating item embedding path\n",
    "item = Input(shape=(1,))\n",
    "i = Embedding(n_items, n_factors, embeddings_initializer='he_normal',\n",
    "                  embeddings_regularizer=l2(1e-6))(item)\n",
    "i = Reshape((n_factors,))(i)\n",
    "    \n",
    "# concatenate features\n",
    "x = Concatenate()([u, i])\n",
    "     \n",
    "# add fully-connected-layers\n",
    "fc1 = Dense(256, activation='relu')(x)\n",
    "fc2 = Dense(128, activation='relu')(fc1)\n",
    "fc3 = tf.keras.layers.Dropout(0.1)(fc2)\n",
    "out = Dense(1)(fc3)\n",
    "\n",
    "model = Model([user, item], out)\n",
    "opt = tf.keras.optimizers.RMSprop(lr=0.0001)\n",
    "model.compile(optimizer = opt , loss = root_mean_squared_error, metrics=['accuracy'])"
   ]
  },
  {
   "cell_type": "code",
   "execution_count": 22,
   "id": "limiting-token",
   "metadata": {},
   "outputs": [
    {
     "name": "stdout",
     "output_type": "stream",
     "text": [
      "Model: \"model_1\"\n",
      "__________________________________________________________________________________________________\n",
      " Layer (type)                   Output Shape         Param #     Connected to                     \n",
      "==================================================================================================\n",
      " input_3 (InputLayer)           [(None, 1)]          0           []                               \n",
      "                                                                                                  \n",
      " input_4 (InputLayer)           [(None, 1)]          0           []                               \n",
      "                                                                                                  \n",
      " embedding_2 (Embedding)        (None, 1, 240)       2212560     ['input_3[0][0]']                \n",
      "                                                                                                  \n",
      " embedding_3 (Embedding)        (None, 1, 240)       397680      ['input_4[0][0]']                \n",
      "                                                                                                  \n",
      " reshape_2 (Reshape)            (None, 240)          0           ['embedding_2[0][0]']            \n",
      "                                                                                                  \n",
      " reshape_3 (Reshape)            (None, 240)          0           ['embedding_3[0][0]']            \n",
      "                                                                                                  \n",
      " concatenate_1 (Concatenate)    (None, 480)          0           ['reshape_2[0][0]',              \n",
      "                                                                  'reshape_3[0][0]']              \n",
      "                                                                                                  \n",
      " dense_2 (Dense)                (None, 512)          246272      ['concatenate_1[0][0]']          \n",
      "                                                                                                  \n",
      " dropout_1 (Dropout)            (None, 512)          0           ['dense_2[0][0]']                \n",
      "                                                                                                  \n",
      " dense_3 (Dense)                (None, 1)            513         ['dropout_1[0][0]']              \n",
      "                                                                                                  \n",
      "==================================================================================================\n",
      "Total params: 2,857,025\n",
      "Trainable params: 2,857,025\n",
      "Non-trainable params: 0\n",
      "__________________________________________________________________________________________________\n"
     ]
    }
   ],
   "source": [
    "model.summary()"
   ]
  },
  {
   "cell_type": "code",
   "execution_count": 23,
   "id": "fifteen-burns",
   "metadata": {},
   "outputs": [
    {
     "name": "stdout",
     "output_type": "stream",
     "text": [
      "Epoch 1/20\n",
      "116/116 [==============================] - 13s 98ms/step - loss: 4.1236 - accuracy: 0.0000e+00 - val_loss: 4.1165 - val_accuracy: 0.0000e+00\n",
      "Epoch 2/20\n",
      "116/116 [==============================] - 11s 97ms/step - loss: 4.0922 - accuracy: 0.0000e+00 - val_loss: 4.0861 - val_accuracy: 0.0000e+00\n",
      "Epoch 3/20\n",
      "116/116 [==============================] - 11s 98ms/step - loss: 4.0608 - accuracy: 0.0000e+00 - val_loss: 4.0555 - val_accuracy: 0.0000e+00\n",
      "Epoch 4/20\n",
      "116/116 [==============================] - 12s 100ms/step - loss: 4.0291 - accuracy: 0.0000e+00 - val_loss: 4.0243 - val_accuracy: 0.0000e+00\n",
      "Epoch 5/20\n",
      "116/116 [==============================] - 12s 102ms/step - loss: 3.9961 - accuracy: 0.0000e+00 - val_loss: 3.9924 - val_accuracy: 0.0000e+00\n",
      "Epoch 6/20\n",
      "116/116 [==============================] - 12s 99ms/step - loss: 3.9630 - accuracy: 0.0000e+00 - val_loss: 3.9595 - val_accuracy: 0.0000e+00\n",
      "Epoch 7/20\n",
      "116/116 [==============================] - 12s 101ms/step - loss: 3.9282 - accuracy: 0.0000e+00 - val_loss: 3.9255 - val_accuracy: 0.0000e+00\n",
      "Epoch 8/20\n",
      "116/116 [==============================] - 11s 99ms/step - loss: 3.8921 - accuracy: 0.0000e+00 - val_loss: 3.8901 - val_accuracy: 0.0000e+00\n",
      "Epoch 9/20\n",
      "116/116 [==============================] - 12s 99ms/step - loss: 3.8542 - accuracy: 0.0000e+00 - val_loss: 3.8529 - val_accuracy: 0.0000e+00\n",
      "Epoch 10/20\n",
      "116/116 [==============================] - 12s 101ms/step - loss: 3.8144 - accuracy: 0.0000e+00 - val_loss: 3.8138 - val_accuracy: 0.0000e+00\n",
      "Epoch 11/20\n",
      "116/116 [==============================] - 12s 102ms/step - loss: 3.7721 - accuracy: 0.0000e+00 - val_loss: 3.7723 - val_accuracy: 0.0000e+00\n",
      "Epoch 12/20\n",
      "116/116 [==============================] - 12s 105ms/step - loss: 3.7265 - accuracy: 9.4915e-04 - val_loss: 3.7280 - val_accuracy: 0.0033\n",
      "Epoch 13/20\n",
      "116/116 [==============================] - 12s 102ms/step - loss: 3.6786 - accuracy: 0.0026 - val_loss: 3.6806 - val_accuracy: 0.0038\n",
      "Epoch 14/20\n",
      "116/116 [==============================] - 12s 99ms/step - loss: 3.6273 - accuracy: 0.0102 - val_loss: 3.6296 - val_accuracy: 0.0168\n",
      "Epoch 15/20\n",
      "116/116 [==============================] - 12s 104ms/step - loss: 3.5710 - accuracy: 0.0193 - val_loss: 3.5748 - val_accuracy: 0.0190\n",
      "Epoch 16/20\n",
      "116/116 [==============================] - 12s 101ms/step - loss: 3.5105 - accuracy: 0.0222 - val_loss: 3.5159 - val_accuracy: 0.0222\n",
      "Epoch 17/20\n",
      "116/116 [==============================] - 12s 101ms/step - loss: 3.4444 - accuracy: 0.0245 - val_loss: 3.4521 - val_accuracy: 0.0233\n",
      "Epoch 18/20\n",
      "116/116 [==============================] - 12s 101ms/step - loss: 3.3757 - accuracy: 0.0264 - val_loss: 3.3841 - val_accuracy: 0.0255\n",
      "Epoch 19/20\n",
      "116/116 [==============================] - 12s 106ms/step - loss: 3.2992 - accuracy: 0.0285 - val_loss: 3.3107 - val_accuracy: 0.0277\n",
      "Epoch 20/20\n",
      "116/116 [==============================] - 12s 101ms/step - loss: 3.2178 - accuracy: 0.0292 - val_loss: 3.2330 - val_accuracy: 0.0287\n"
     ]
    }
   ],
   "source": [
    "history = model.fit(x=X_train_array, y=y_train, batch_size=64, epochs=20,\n",
    "                    verbose=1, validation_data=(X_test_array, y_test))"
   ]
  },
  {
   "cell_type": "code",
   "execution_count": 24,
   "id": "vocal-chance",
   "metadata": {},
   "outputs": [
    {
     "data": {
      "image/png": "[encoded data removed]",
      "text/plain": [
       "<Figure size 432x288 with 1 Axes>"
      ]
     },
     "metadata": {
      "needs_background": "light"
     },
     "output_type": "display_data"
    }
   ],
   "source": [
    "train_loss = history.history['loss']\n",
    "val_loss = history.history['val_loss']\n",
    "plt.plot(train_loss, color='r', label='Train Loss')\n",
    "plt.plot(val_loss, color='b', label='Validation Loss')\n",
    "plt.title(\"Train and Validation Loss Curve\")\n",
    "plt.legend()\n",
    "plt.show()"
   ]
  },
  {
   "cell_type": "code",
   "execution_count": 1,
   "id": "ea1d76d6",
   "metadata": {},
   "outputs": [
    {
     "ename": "NameError",
     "evalue": "name 'model' is not defined",
     "output_type": "error",
     "traceback": [
      "\u001b[0;31m---------------------------------------------------------------------------\u001b[0m",
      "\u001b[0;31mNameError\u001b[0m                                 Traceback (most recent call last)",
      "\u001b[0;32m<ipython-input-1-f0f127ee5cca>\u001b[0m in \u001b[0;36m<module>\u001b[0;34m\u001b[0m\n\u001b[1;32m      1\u001b[0m \u001b[0;31m#Evaluate the model\u001b[0m\u001b[0;34m\u001b[0m\u001b[0;34m\u001b[0m\u001b[0;34m\u001b[0m\u001b[0m\n\u001b[0;32m----> 2\u001b[0;31m \u001b[0mscore\u001b[0m \u001b[0;34m=\u001b[0m \u001b[0mmodel\u001b[0m\u001b[0;34m.\u001b[0m\u001b[0mevaluate\u001b[0m\u001b[0;34m(\u001b[0m\u001b[0mX_test_array\u001b[0m\u001b[0;34m,\u001b[0m \u001b[0my_test\u001b[0m\u001b[0;34m,\u001b[0m \u001b[0mverbose\u001b[0m\u001b[0;34m=\u001b[0m\u001b[0;36m0\u001b[0m\u001b[0;34m)\u001b[0m\u001b[0;34m\u001b[0m\u001b[0;34m\u001b[0m\u001b[0m\n\u001b[0m\u001b[1;32m      3\u001b[0m \u001b[0mprint\u001b[0m\u001b[0;34m(\u001b[0m\u001b[0;34m'Test loss:'\u001b[0m\u001b[0;34m,\u001b[0m \u001b[0mscore\u001b[0m\u001b[0;34m[\u001b[0m\u001b[0;36m0\u001b[0m\u001b[0;34m]\u001b[0m\u001b[0;34m)\u001b[0m\u001b[0;34m\u001b[0m\u001b[0;34m\u001b[0m\u001b[0m\n\u001b[1;32m      4\u001b[0m \u001b[0mprint\u001b[0m\u001b[0;34m(\u001b[0m\u001b[0;34m'Test accuracy:'\u001b[0m\u001b[0;34m,\u001b[0m \u001b[0mscore\u001b[0m\u001b[0;34m[\u001b[0m\u001b[0;36m1\u001b[0m\u001b[0;34m]\u001b[0m\u001b[0;34m)\u001b[0m\u001b[0;34m\u001b[0m\u001b[0;34m\u001b[0m\u001b[0m\n",
      "\u001b[0;31mNameError\u001b[0m: name 'model' is not defined"
     ]
    }
   ],
   "source": [
    "#Evaluate the model\n",
    "score = model.evaluate(X_test_array, y_test, verbose=0)\n",
    "print('Test loss:', score[0])\n",
    "print('Test accuracy:', score[1])"
   ]
  },
  {
   "cell_type": "markdown",
   "id": "effective-label",
   "metadata": {},
   "source": [
    "# Making Recommendations"
   ]
  },
  {
   "cell_type": "code",
   "execution_count": 74,
   "id": "elect-antique",
   "metadata": {},
   "outputs": [
    {
     "data": {
      "text/plain": [
       "array([0, 1, 2, 3, 4])"
      ]
     },
     "execution_count": 74,
     "metadata": {},
     "output_type": "execute_result"
    }
   ],
   "source": [
    "# Creating dataset for making recommendations for the first user\n",
    "hotel_data = np.array(list(set(df.Item_id)))\n",
    "hotel_data[:5]"
   ]
  },
  {
   "cell_type": "code",
   "execution_count": 75,
   "id": "assisted-immune",
   "metadata": {},
   "outputs": [
    {
     "data": {
      "text/plain": [
       "array([1, 1, 1, 1, 1])"
      ]
     },
     "execution_count": 75,
     "metadata": {},
     "output_type": "execute_result"
    }
   ],
   "source": [
    "user = np.array([1 for i in range(len(hotel_data))])\n",
    "user[:5]"
   ]
  },
  {
   "cell_type": "code",
   "execution_count": 76,
   "id": "vital-glass",
   "metadata": {},
   "outputs": [
    {
     "data": {
      "text/plain": [
       "array([72, 49, 59, 19, 36], dtype=int64)"
      ]
     },
     "execution_count": 76,
     "metadata": {},
     "output_type": "execute_result"
    }
   ],
   "source": [
    "predictions = model.predict([user, hotel_data])\n",
    "\n",
    "predictions = np.array([a[0] for a in predictions])\n",
    "\n",
    "recommended_item_ids = (-predictions).argsort()[:5]\n",
    "\n",
    "recommended_item_ids"
   ]
  },
  {
   "cell_type": "code",
   "execution_count": 77,
   "id": "transparent-vision",
   "metadata": {},
   "outputs": [
    {
     "data": {
      "text/plain": [
       "array([0.19043083, 0.18687372, 0.18581037, 0.18546915, 0.18278559],\n",
       "      dtype=float32)"
      ]
     },
     "execution_count": 77,
     "metadata": {},
     "output_type": "execute_result"
    }
   ],
   "source": [
    "# print predicted scores\n",
    "predictions[recommended_item_ids]"
   ]
  },
  {
   "cell_type": "markdown",
   "id": "electrical-flesh",
   "metadata": {},
   "source": [
    "# Recommend Hotel Cluster for a User"
   ]
  },
  {
   "cell_type": "code",
   "execution_count": 99,
   "id": "enhanced-creator",
   "metadata": {},
   "outputs": [],
   "source": [
    "rows = []\n",
    "hotel = list(df.drop_duplicates(subset='Item_id', keep='first').Item_id)\n",
    "names = list(df.drop_duplicates(subset='Item_id', keep='first').Item_id)\n",
    "\n",
    "for i in range(len(hotel)):\n",
    "    rows.append( dict({'name': names[i], 'Item_id' : hotel[i], 'User_id' : 1048}))\n",
    "test_data = pd.DataFrame(rows)"
   ]
  },
  {
   "cell_type": "code",
   "execution_count": 100,
   "id": "impressive-facing",
   "metadata": {},
   "outputs": [
    {
     "name": "stdout",
     "output_type": "stream",
     "text": [
      "Score:  72.0  for hotel cluster:  1\n",
      "Score:  59.0  for hotel cluster:  21\n",
      "Score:  49.0  for hotel cluster:  80\n",
      "Score:  36.0  for hotel cluster:  41\n",
      "Score:  19.0  for hotel cluster:  92\n"
     ]
    }
   ],
   "source": [
    "for idx, (score, name) in enumerate(sorted(zip(recommended_item_ids, names), reverse=True)):\n",
    " \n",
    "    print(\"Score: \", round(float(score), 2), \" for hotel cluster: \", name)"
   ]
  },
  {
   "cell_type": "code",
   "execution_count": 41,
   "id": "ideal-october",
   "metadata": {},
   "outputs": [
    {
     "data": {
      "text/plain": [
       "array([0, 1, 2, 3, 4, 5, 6, 7, 8, 9])"
      ]
     },
     "execution_count": 41,
     "metadata": {},
     "output_type": "execute_result"
    }
   ],
   "source": [
    "hotel_data = np.array(list(set(df['item'])))\n",
    "hotel_data[:10]"
   ]
  },
  {
   "cell_type": "code",
   "execution_count": 42,
   "id": "60e785af",
   "metadata": {},
   "outputs": [
    {
     "data": {
      "text/plain": [
       "array([20, 20, 20, 20, 20, 20, 20, 20, 20, 20])"
      ]
     },
     "execution_count": 42,
     "metadata": {},
     "output_type": "execute_result"
    }
   ],
   "source": [
    "id_user = 20\n",
    "user = np.array([id_user for i in range (len(hotel_data))])\n",
    "user[:10]"
   ]
  },
  {
   "cell_type": "code",
   "execution_count": 43,
   "id": "9db3ce1c",
   "metadata": {},
   "outputs": [
    {
     "name": "stdout",
     "output_type": "stream",
     "text": [
      "45/45 [==============================] - 0s 5ms/step\n"
     ]
    },
    {
     "data": {
      "text/plain": [
       "array([  6,  83, 138,  21,  84,   4,  62, 115,  77,  34])"
      ]
     },
     "execution_count": 43,
     "metadata": {},
     "output_type": "execute_result"
    }
   ],
   "source": [
    "predictions = model.predict([user, hotel_data])\n",
    "predictions = np.array([a[0] for a in predictions])\n",
    "recommended_hotel_id = (-predictions).argsort()[:10]\n",
    "recommended_hotel_id"
   ]
  },
  {
   "cell_type": "code",
   "execution_count": 44,
   "id": "cf817c17",
   "metadata": {},
   "outputs": [
    {
     "data": {
      "text/plain": [
       "array([4.595995 , 4.157644 , 3.9491413, 3.9372382, 3.914852 , 3.8839493,\n",
       "       3.7683673, 3.7665148, 3.7572596, 3.6514044], dtype=float32)"
      ]
     },
     "execution_count": 44,
     "metadata": {},
     "output_type": "execute_result"
    }
   ],
   "source": [
    "predictions[recommended_hotel_id]"
   ]
  }
 ],
 "metadata": {
  "interpreter": {
   "hash": "cd78fef2128015050713e82ca51c6520b11aee7c9ee8df750520bbbc7384cbaa"
  },
  "kernelspec": {
   "display_name": "Python 3.8.5 ('base')",
   "language": "python",
   "name": "python3"
  },
  "language_info": {
   "codemirror_mode": {
    "name": "ipython",
    "version": 3
   },
   "file_extension": ".py",
   "mimetype": "text/x-python",
   "name": "python",
   "nbconvert_exporter": "python",
   "pygments_lexer": "ipython3",
   "version": "3.9.7"
  }
 },
 "nbformat": 4,
 "nbformat_minor": 5
}
